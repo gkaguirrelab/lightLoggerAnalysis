{
 "cells": [
  {
   "cell_type": "code",
   "execution_count": null,
   "id": "5520f5e9",
   "metadata": {},
   "outputs": [],
   "source": [
    "# First, import all of the public libraries \n",
    "import os\n",
    "import sys \n",
    "import importlib \n",
    "import tqdm\n",
    "import pathlib\n",
    "\n",
    "# Import custom libraries I have written \n",
    "sys.path.append(\"/Users/zacharykelly/Documents/MATLAB/projects/lightLoggerAnalysis/code/libraries_python\") # TODO: Make this dynamic \n",
    "import move_to_NAS\n"
   ]
  },
  {
   "cell_type": "code",
   "execution_count": null,
   "id": "1c77b60f",
   "metadata": {},
   "outputs": [],
   "source": [
    "# Define the path to the SSD where the data is and the IDs of subjects \n",
    "# that should be on that drive that you want to copy to the NAS \n",
    "SSD_path: str = \"/Volumes/T7 Sheld\"\n",
    "participant_ids: list[int] = [2004]"
   ]
  },
  {
   "cell_type": "code",
   "execution_count": null,
   "id": "472f1c7b",
   "metadata": {},
   "outputs": [],
   "source": [
    "# Get a list of the activites that we did for the scriptedIndoorOutdoor experiment \n",
    "# and other info about them (such as what modes we used for each activity)\n",
    "experiment_name: str = \"scriptedIndoorOutdoor\"\n",
    "expeirment_info_dict: dict = move_to_NAS.experiment_info_dict[experiment_name]\n",
    "activites_list: list[str] = expeirment_info_dict.keys().sort()"
   ]
  },
  {
   "cell_type": "code",
   "execution_count": null,
   "id": "5671db08",
   "metadata": {},
   "outputs": [],
   "source": [
    "\n"
   ]
  }
 ],
 "metadata": {
  "kernelspec": {
   "display_name": "pylids",
   "language": "python",
   "name": "python3"
  },
  "language_info": {
   "codemirror_mode": {
    "name": "ipython",
    "version": 3
   },
   "file_extension": ".py",
   "mimetype": "text/x-python",
   "name": "python",
   "nbconvert_exporter": "python",
   "pygments_lexer": "ipython3",
   "version": "3.10.18"
  }
 },
 "nbformat": 4,
 "nbformat_minor": 5
}
