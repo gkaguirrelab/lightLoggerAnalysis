{
 "cells": [
  {
   "cell_type": "code",
   "execution_count": null,
   "id": "c49c2727",
   "metadata": {},
   "outputs": [],
   "source": [
    "# Import libraries \n",
    "import extract_eye_features\n",
    "import dill\n",
    "import scipy"
   ]
  },
  {
   "cell_type": "code",
   "execution_count": null,
   "id": "068be452",
   "metadata": {},
   "outputs": [],
   "source": [
    "# Supply a path to a video\n",
    "path_to_video: str = \"/Users/zacharykelly/Desktop/geoffEye_transformed.avi\""
   ]
  },
  {
   "cell_type": "code",
   "execution_count": null,
   "id": "47fad1b0",
   "metadata": {},
   "outputs": [],
   "source": [
    "# Attempt to extract eye features from this video \n",
    "eye_features: list[dict] = extract_eye_features.extract_eye_features(path_to_video, is_grayscale=True, visualize_results=False, pupil_feature_method='pylids')"
   ]
  },
  {
   "cell_type": "code",
   "execution_count": null,
   "id": "958284fc",
   "metadata": {},
   "outputs": [],
   "source": [
    "# (Optionally) Output the results to a mat file \n",
    "scipy.io.savemat(\"eye_features.mat\", {\"eye_features\": eye_features})"
   ]
  }
 ],
 "metadata": {
  "kernelspec": {
   "display_name": "pylids",
   "language": "python",
   "name": "python3"
  },
  "language_info": {
   "codemirror_mode": {
    "name": "ipython",
    "version": 3
   },
   "file_extension": ".py",
   "mimetype": "text/x-python",
   "name": "python",
   "nbconvert_exporter": "python",
   "pygments_lexer": "ipython3",
   "version": "3.10.18"
  }
 },
 "nbformat": 4,
 "nbformat_minor": 5
}
