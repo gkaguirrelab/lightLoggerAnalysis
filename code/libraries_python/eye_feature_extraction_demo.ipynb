{
 "cells": [
  {
   "cell_type": "code",
   "execution_count": 21,
   "id": "c49c2727",
   "metadata": {},
   "outputs": [],
   "source": [
    "# Import libraries \n",
    "import extract_eye_features\n",
    "import dill\n",
    "import scipy\n",
    "import os\n",
    "\n",
    "# Import the path to Pi_util\n",
    "import sys \n",
    "sys.path.append(\"/Users/zacharykelly/Documents/MATLAB/projects/lightLogger/raspberry_pi_firmware/utility\")\n",
    "import Pi_util\n",
    "import importlib"
   ]
  },
  {
   "cell_type": "code",
   "execution_count": 19,
   "id": "479bfdcf",
   "metadata": {},
   "outputs": [],
   "source": [
    "# Generate a playable video\n",
    "path_to_recording_chunks: str = \"/Volumes/T7 Shield/workHiRes2\"\n",
    "output_dir: str = \"/Users/zacharykelly/Desktop/smallSamTest/\"\n",
    "Pi_util.generate_playable_videos(path_to_recording_chunks, output_dir, apply_digital_gain=True, fill_missing_frames=True, debayer_images=True)"
   ]
  },
  {
   "cell_type": "code",
   "execution_count": null,
   "id": "47fad1b0",
   "metadata": {},
   "outputs": [],
   "source": [
    "# Attempt to extract eye features from this video \n",
    "importlib.reload(extract_eye_features)\n",
    "path_to_video: str = \"/Users/zacharykelly/Desktop/smallSamTest/sam_gazecal_1/P.avi\"\n",
    "pupil_features: list[dict] = extract_eye_features.extract_pupil_features(path_to_video, \n",
    "                                                                         is_grayscale=True, \n",
    "                                                                         visualize_results=True, \n",
    "                                                                         method='pupil-labs',\n",
    "                                                                         safe_execution=True\n",
    "                                                                        )"
   ]
  },
  {
   "cell_type": "code",
   "execution_count": null,
   "id": "958284fc",
   "metadata": {},
   "outputs": [],
   "source": [
    "# (Optionally) Output the results to a mat file \n",
    "scipy.io.savemat(\"gaze_cal_pupil_features.mat\", {\"pupil_features\": pupil_features})"
   ]
  }
 ],
 "metadata": {
  "kernelspec": {
   "display_name": "pylids",
   "language": "python",
   "name": "python3"
  },
  "language_info": {
   "codemirror_mode": {
    "name": "ipython",
    "version": 3
   },
   "file_extension": ".py",
   "mimetype": "text/x-python",
   "name": "python",
   "nbconvert_exporter": "python",
   "pygments_lexer": "ipython3",
   "version": "3.10.18"
  }
 },
 "nbformat": 4,
 "nbformat_minor": 5
}
