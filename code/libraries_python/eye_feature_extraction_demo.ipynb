{
 "cells": [
  {
   "cell_type": "code",
   "execution_count": null,
   "id": "c49c2727",
   "metadata": {},
   "outputs": [],
   "source": [
    "# Import libraries \n",
    "import extract_eye_features\n",
    "import dill\n",
    "import scipy"
   ]
  },
  {
   "cell_type": "code",
   "execution_count": null,
   "id": "068be452",
   "metadata": {},
   "outputs": [],
   "source": [
    "# Supply a path to a video\n",
    "path_to_video: str = \"/Users/zacharykelly/Documents/MATLAB/projects/lightLogger/zach_gazecal_0911_take2/P_flipped.avi\"#\"/Users/zacharykelly/Downloads/eye0.avi\" #\"/Volumes/T7 Shield/eye0.mp4\""
   ]
  },
  {
   "cell_type": "code",
   "execution_count": null,
   "id": "dcbd1e81",
   "metadata": {},
   "outputs": [],
   "source": [
    "# Ensure that you flip the video before processing so the eye is upside down "
   ]
  },
  {
   "cell_type": "code",
   "execution_count": null,
   "id": "47fad1b0",
   "metadata": {},
   "outputs": [],
   "source": [
    "# Attempt to extract eye features from this video \n",
    "#eye_features: list[dict] = extract_eye_features.extract_eye_features(path_to_video, is_grayscale=True, visualize_results=True, pupil_feature_method='pylids')\n",
    "pupil_features: list[dict] = extract_eye_features.extract_pupil_features(path_to_video, is_grayscale=True, visualize_results=True, method='pupil-labs')"
   ]
  },
  {
   "cell_type": "code",
   "execution_count": null,
   "id": "958284fc",
   "metadata": {},
   "outputs": [],
   "source": [
    "# (Optionally) Output the results to a mat file \n",
    "scipy.io.savemat(\"gaze_cal_pupil_features.mat\", {\"pupil_features\": pupil_features})"
   ]
  }
 ],
 "metadata": {
  "kernelspec": {
   "display_name": "pylids",
   "language": "python",
   "name": "python3"
  },
  "language_info": {
   "codemirror_mode": {
    "name": "ipython",
    "version": 3
   },
   "file_extension": ".py",
   "mimetype": "text/x-python",
   "name": "python",
   "nbconvert_exporter": "python",
   "pygments_lexer": "ipython3",
   "version": "3.10.18"
  }
 },
 "nbformat": 4,
 "nbformat_minor": 5
}
