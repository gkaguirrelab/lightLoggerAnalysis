{
 "cells": [
  {
   "cell_type": "code",
   "execution_count": 4,
   "id": "d2551ebc",
   "metadata": {},
   "outputs": [],
   "source": [
    "import extract_gaze_stimulus\n",
    "import numpy as np\n",
    "import sys \n",
    "sys.path.append(\"/Users/zacharykelly/Documents/MATLAB/projects/lightLogger/raspberry_pi_firmware/utility\")\n",
    "import Pi_util"
   ]
  },
  {
   "cell_type": "code",
   "execution_count": null,
   "id": "09a0b2f6",
   "metadata": {},
   "outputs": [],
   "source": [
    "# Define the path to the original chunks and make a video out of it \n",
    "recording_chunks_path: str = \"/Volumes/Aguirre-Brainard Lab NAS Shared/FLIC_raw/lightLogger/scriptedIndoorOutdoor/FLIC_2002/gazecalibration/temporalFrequency\"\n",
    "output_dir: str = \"./\"\n",
    "Pi_util.generate_playable_videos(recording_chunks_path, output_dir, apply_digital_gain=True, fill_missing_frames=True, debayer_images=True, pupil_image_rotation_correction=True)"
   ]
  },
  {
   "cell_type": "code",
   "execution_count": null,
   "id": "2661a637",
   "metadata": {},
   "outputs": [],
   "source": [
    "# "
   ]
  }
 ],
 "metadata": {
  "kernelspec": {
   "display_name": "pylids",
   "language": "python",
   "name": "python3"
  },
  "language_info": {
   "codemirror_mode": {
    "name": "ipython",
    "version": 3
   },
   "file_extension": ".py",
   "mimetype": "text/x-python",
   "name": "python",
   "nbconvert_exporter": "python",
   "pygments_lexer": "ipython3",
   "version": "3.10.18"
  }
 },
 "nbformat": 4,
 "nbformat_minor": 5
}
