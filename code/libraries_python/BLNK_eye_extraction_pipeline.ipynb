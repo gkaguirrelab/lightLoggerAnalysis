{
 "cells": [
  {
   "cell_type": "code",
   "execution_count": 1,
   "id": "e49c8fee",
   "metadata": {},
   "outputs": [
    {
     "name": "stdout",
     "output_type": "stream",
     "text": [
      "Loading DLC 3.0.0rc8...\n",
      "DLC loaded in light mode; you cannot use any GUI (labeling, relabeling and standalone GUI)\n"
     ]
    }
   ],
   "source": [
    "# Import libraries \n",
    "import extract_eye_features\n",
    "import dill\n",
    "import scipy\n",
    "import os\n",
    "import numpy as np\n",
    "import sys \n",
    "\n",
    "sys.path.append(\"/Users/zacharykelly/Documents/MATLAB/projects/lightLogger/raspberry_pi_firmware/utility\")\n",
    "import Pi_util\n",
    "import matplotlib.pyplot as plt"
   ]
  },
  {
   "cell_type": "code",
   "execution_count": 2,
   "id": "965b2e88",
   "metadata": {},
   "outputs": [],
   "source": [
    "# Define the path to the folder containing the videos and other files \n",
    "path_to_video_folder: str = \"/Users/zacharykelly/Desktop/geoff_videos_blnk\"\n",
    "\n",
    "# Generate paths to all of the videos in said folder \n",
    "video_paths: list[str] = [os.path.join(path_to_video_folder, filename)\n",
    "                          for filename in os.listdir(path_to_video_folder)\n",
    "                          if '.avi' in filename\n",
    "                         ]"
   ]
  },
  {
   "cell_type": "code",
   "execution_count": 3,
   "id": "fc8d50a5",
   "metadata": {},
   "outputs": [],
   "source": [
    "# Generate output folder \n",
    "output_folder_path: str = \"/Users/zacharykelly/Aguirre-Brainard Lab Dropbox/Zachary Kelly/BLNK_analysis/PuffLight/modulate/HERO_gka/videos\"\n",
    "if(not os.path.exists(output_folder_path)):\n",
    "    os.mkdir(output_folder_path)"
   ]
  },
  {
   "cell_type": "code",
   "execution_count": null,
   "id": "6fc18025",
   "metadata": {},
   "outputs": [],
   "source": [
    "# Write the prediction function\n",
    "def predict_eye_features(args: tuple) -> None:\n",
    "    # Extract the arguments from the arguments tuple \n",
    "    filepath, crop_box, target_size, temp_dir_path, output_folder_path = args\n",
    "    threshold_value: int = 225\n",
    "\n",
    "    # Define the portion of the video to crop out \n",
    "    t, b, l, r = crop_box\n",
    "\n",
    "    # Extract the name of this video\n",
    "    video_name: str = os.path.splitext(os.path.basename(filepath.rstrip('/')))[0]\n",
    "\n",
    "    # Find the FPS of the video \n",
    "    video_fps: float = Pi_util.inspect_video_FPS(filepath)\n",
    "\n",
    "    # Videos are small, so we can load them entirely in from memory \n",
    "    video_as_arr: np.ndarray = Pi_util.destruct_video(filepath, is_grayscale=True)\n",
    "\n",
    "    # Crop out only the eye from the video\n",
    "    # and set the rest of the frame to black \n",
    "    video_cropped: np.ndarray = video_as_arr[:, t:b, l:r].copy()\n",
    "    white_pixels: np.ndarray = np.mean(video_cropped, axis=(0,))  > threshold_value\n",
    "    video_cropped[:, white_pixels] = 0\n",
    "\n",
    "    # Resize the video to not a small resolution \n",
    "    y_offset = (target_size[0] - video_cropped.shape[1]) // 2\n",
    "    x_offset = (target_size[1] - video_cropped.shape[2]) // 2\n",
    "\n",
    "    video_resized: np.ndarray = np.zeros((len(video_cropped), *target_size), dtype=np.uint8)\n",
    "    video_resized[:, y_offset:y_offset + video_cropped.shape[1], x_offset:x_offset + video_cropped.shape[2]] = video_cropped\n",
    "\n",
    "    # Generate a temp video from this cropped video \n",
    "    temp_video_path: str = os.path.join(temp_dir_path, f\"temp_{video_name}.avi\")\n",
    "    Pi_util.frames_to_video(video_resized, temp_video_path, video_fps)\n",
    "\n",
    "    # Extract the eye features for this video\n",
    "    eye_features: list[dict] = extract_eye_features.extract_eye_features(temp_video_path, is_grayscale=True, visualize_results=False, pupil_feature_method='pylids', safe_execution=True)\n",
    "\n",
    "    # Save the features \n",
    "    eye_features_dict: dict = {}\n",
    "    eye_features_dict[\"eye_features\"] = eye_features\n",
    "    eye_features_dict[\"metadata\"] = {'threshold_value': {'v': threshold_value, \n",
    "                                                    'desc': \"binary mask constructed from avg cropped frame. Pixels above this value=0. Done to remove light around the eye\"\n",
    "                                                   },\n",
    "                                'crop_box': {'v': crop_box, \n",
    "                                             'desc': \"box cropped out from original video to isolate the eye (t, b, l, r)\"\n",
    "                                            },\n",
    "                                'target_size': {'v': target_size,\n",
    "                                                'desc': \"target size after crop + threshold. Eye video is centered via padding to reach this size\"},\n",
    "                                'model_names': {'v': ('pytorch-pupil-v1', 'pytorch-eyelid-v1'), \n",
    "                                                'desc': \"models used for pupil/eyelid fitting\"\n",
    "                                               }\n",
    "                               }\n",
    "    \n",
    "    \n",
    "    \n",
    "    scipy.io.savemat(os.path.join(output_folder_path, f\"{video_name}_eye_features.mat\"), \n",
    "                    {\"eye_features\": eye_features_dict}\n",
    "                    )\n",
    "    \n",
    "    # Remvove the temp avi video \n",
    "    os.remove(temp_video_path)\n"
   ]
  },
  {
   "cell_type": "code",
   "execution_count": 10,
   "id": "6dad5de3",
   "metadata": {},
   "outputs": [
    {
     "name": "stdout",
     "output_type": "stream",
     "text": [
      "Processing: 0/29\n",
      "Model weights already exist!\n",
      "Analyzing videos with /Users/zacharykelly/Library/Application Support/pylids/pytorch-pupil-v1/dlc-models-pytorch/iteration-0/santini_eyelid_detectionJul182025-trainset99shuffle1/train/snapshot-best-220.pt\n",
      "Starting to analyze temp_blnk_pipeline/temp_HERO_gka_modulate_direction-S_peripheral_adapt-2_side-R.avi\n",
      "Video metadata: \n",
      "  Overall # of frames:    9900\n",
      "  Duration of video [s]:  55.00\n",
      "  fps:                    180.0\n",
      "  resolution:             w=640, h=480\n",
      "\n",
      "Running pose prediction with batch size 8\n"
     ]
    },
    {
     "name": "stderr",
     "output_type": "stream",
     "text": [
      "100%|██████████| 9900/9900 [05:28<00:00, 30.18it/s]\n"
     ]
    },
    {
     "name": "stdout",
     "output_type": "stream",
     "text": [
      "Saving results in /var/folders/g_/1p95771n5l1f_f8gbbftkjy80000gn/T/tmpbs_j2nf6/temp_HERO_gka_modulate_direction-S_peripheral_adapt-2_side-RDLC_Resnet50_santini_eyelid_detectionJul182025shuffle1_snapshot_220.h5 and /var/folders/g_/1p95771n5l1f_f8gbbftkjy80000gn/T/tmpbs_j2nf6/temp_HERO_gka_modulate_direction-S_peripheral_adapt-2_side-RDLC_Resnet50_santini_eyelid_detectionJul182025shuffle1_snapshot_220_full.pickle\n",
      "The videos are analyzed. Now your research can truly start!\n",
      "You can create labeled videos with 'create_labeled_video'.\n",
      "If the tracking is not satisfactory for some videos, consider expanding the training set. You can use the function 'extract_outlier_frames' to extract a few representative outlier frames.\n",
      "\n",
      "['/var/folders/g_/1p95771n5l1f_f8gbbftkjy80000gn/T/tmpbs_j2nf6/temp_HERO_gka_modulate_direction-S_peripheral_adapt-2_side-RDLC_Resnet50_santini_eyelid_detectionJul182025shuffle1_snapshot_220.h5']\n",
      "Model weights already exist!\n",
      "Analyzing videos with /Users/zacharykelly/Library/Application Support/pylids/pytorch-eyelid-v1/dlc-models-pytorch/iteration-0/santini_eyelid_detectionJul182025-trainset99shuffle1/train/snapshot-best-110.pt\n",
      "Starting to analyze temp_blnk_pipeline/temp_HERO_gka_modulate_direction-S_peripheral_adapt-2_side-R.avi\n",
      "Video metadata: \n",
      "  Overall # of frames:    9900\n",
      "  Duration of video [s]:  55.00\n",
      "  fps:                    180.0\n",
      "  resolution:             w=640, h=480\n",
      "\n",
      "Running pose prediction with batch size 8\n"
     ]
    },
    {
     "name": "stderr",
     "output_type": "stream",
     "text": [
      "100%|██████████| 9900/9900 [07:21<00:00, 22.41it/s]\n"
     ]
    },
    {
     "name": "stdout",
     "output_type": "stream",
     "text": [
      "Saving results in /var/folders/g_/1p95771n5l1f_f8gbbftkjy80000gn/T/tmpn8jk24g4/temp_HERO_gka_modulate_direction-S_peripheral_adapt-2_side-RDLC_Resnet50_santini_eyelid_detectionJul182025shuffle1_snapshot_110.h5 and /var/folders/g_/1p95771n5l1f_f8gbbftkjy80000gn/T/tmpn8jk24g4/temp_HERO_gka_modulate_direction-S_peripheral_adapt-2_side-RDLC_Resnet50_santini_eyelid_detectionJul182025shuffle1_snapshot_110_full.pickle\n",
      "The videos are analyzed. Now your research can truly start!\n",
      "You can create labeled videos with 'create_labeled_video'.\n",
      "If the tracking is not satisfactory for some videos, consider expanding the training set. You can use the function 'extract_outlier_frames' to extract a few representative outlier frames.\n",
      "\n",
      "['/var/folders/g_/1p95771n5l1f_f8gbbftkjy80000gn/T/tmpn8jk24g4/temp_HERO_gka_modulate_direction-S_peripheral_adapt-2_side-RDLC_Resnet50_santini_eyelid_detectionJul182025shuffle1_snapshot_110.h5']\n",
      "Processing: 1/29\n",
      "Model weights already exist!\n",
      "Analyzing videos with /Users/zacharykelly/Library/Application Support/pylids/pytorch-pupil-v1/dlc-models-pytorch/iteration-0/santini_eyelid_detectionJul182025-trainset99shuffle1/train/snapshot-best-220.pt\n",
      "Starting to analyze temp_blnk_pipeline/temp_HERO_gka_modulatedirection-LMS_phase-3.14_trial-001_side-R.avi\n",
      "Video metadata: \n",
      "  Overall # of frames:    11160\n",
      "  Duration of video [s]:  62.00\n",
      "  fps:                    180.0\n",
      "  resolution:             w=640, h=480\n",
      "\n",
      "Running pose prediction with batch size 8\n"
     ]
    },
    {
     "name": "stderr",
     "output_type": "stream",
     "text": [
      "100%|██████████| 11160/11160 [06:15<00:00, 29.70it/s]\n"
     ]
    },
    {
     "name": "stdout",
     "output_type": "stream",
     "text": [
      "Saving results in /var/folders/g_/1p95771n5l1f_f8gbbftkjy80000gn/T/tmp338pm0vz/temp_HERO_gka_modulatedirection-LMS_phase-3.14_trial-001_side-RDLC_Resnet50_santini_eyelid_detectionJul182025shuffle1_snapshot_220.h5 and /var/folders/g_/1p95771n5l1f_f8gbbftkjy80000gn/T/tmp338pm0vz/temp_HERO_gka_modulatedirection-LMS_phase-3.14_trial-001_side-RDLC_Resnet50_santini_eyelid_detectionJul182025shuffle1_snapshot_220_full.pickle\n",
      "The videos are analyzed. Now your research can truly start!\n",
      "You can create labeled videos with 'create_labeled_video'.\n",
      "If the tracking is not satisfactory for some videos, consider expanding the training set. You can use the function 'extract_outlier_frames' to extract a few representative outlier frames.\n",
      "\n",
      "['/var/folders/g_/1p95771n5l1f_f8gbbftkjy80000gn/T/tmp338pm0vz/temp_HERO_gka_modulatedirection-LMS_phase-3.14_trial-001_side-RDLC_Resnet50_santini_eyelid_detectionJul182025shuffle1_snapshot_220.h5']\n",
      "Model weights already exist!\n",
      "Analyzing videos with /Users/zacharykelly/Library/Application Support/pylids/pytorch-eyelid-v1/dlc-models-pytorch/iteration-0/santini_eyelid_detectionJul182025-trainset99shuffle1/train/snapshot-best-110.pt\n",
      "Starting to analyze temp_blnk_pipeline/temp_HERO_gka_modulatedirection-LMS_phase-3.14_trial-001_side-R.avi\n",
      "Video metadata: \n",
      "  Overall # of frames:    11160\n",
      "  Duration of video [s]:  62.00\n",
      "  fps:                    180.0\n",
      "  resolution:             w=640, h=480\n",
      "\n",
      "Running pose prediction with batch size 8\n"
     ]
    },
    {
     "name": "stderr",
     "output_type": "stream",
     "text": [
      "100%|██████████| 11160/11160 [08:19<00:00, 22.33it/s]\n"
     ]
    },
    {
     "name": "stdout",
     "output_type": "stream",
     "text": [
      "Saving results in /var/folders/g_/1p95771n5l1f_f8gbbftkjy80000gn/T/tmpjq1g_t8s/temp_HERO_gka_modulatedirection-LMS_phase-3.14_trial-001_side-RDLC_Resnet50_santini_eyelid_detectionJul182025shuffle1_snapshot_110.h5 and /var/folders/g_/1p95771n5l1f_f8gbbftkjy80000gn/T/tmpjq1g_t8s/temp_HERO_gka_modulatedirection-LMS_phase-3.14_trial-001_side-RDLC_Resnet50_santini_eyelid_detectionJul182025shuffle1_snapshot_110_full.pickle\n",
      "The videos are analyzed. Now your research can truly start!\n",
      "You can create labeled videos with 'create_labeled_video'.\n",
      "If the tracking is not satisfactory for some videos, consider expanding the training set. You can use the function 'extract_outlier_frames' to extract a few representative outlier frames.\n",
      "\n",
      "['/var/folders/g_/1p95771n5l1f_f8gbbftkjy80000gn/T/tmpjq1g_t8s/temp_HERO_gka_modulatedirection-LMS_phase-3.14_trial-001_side-RDLC_Resnet50_santini_eyelid_detectionJul182025shuffle1_snapshot_110.h5']\n",
      "Processing: 2/29\n",
      "Model weights already exist!\n",
      "Analyzing videos with /Users/zacharykelly/Library/Application Support/pylids/pytorch-pupil-v1/dlc-models-pytorch/iteration-0/santini_eyelid_detectionJul182025-trainset99shuffle1/train/snapshot-best-220.pt\n",
      "Starting to analyze temp_blnk_pipeline/temp_HERO_gka_modulatedirection-Mel_phase-0.00_trial-001_side-R.avi\n",
      "Video metadata: \n",
      "  Overall # of frames:    11160\n",
      "  Duration of video [s]:  62.00\n",
      "  fps:                    180.0\n",
      "  resolution:             w=640, h=480\n",
      "\n",
      "Running pose prediction with batch size 8\n"
     ]
    },
    {
     "name": "stderr",
     "output_type": "stream",
     "text": [
      "100%|██████████| 11160/11160 [06:17<00:00, 29.55it/s]\n"
     ]
    },
    {
     "name": "stdout",
     "output_type": "stream",
     "text": [
      "Saving results in /var/folders/g_/1p95771n5l1f_f8gbbftkjy80000gn/T/tmp0le1cpzd/temp_HERO_gka_modulatedirection-Mel_phase-0.00_trial-001_side-RDLC_Resnet50_santini_eyelid_detectionJul182025shuffle1_snapshot_220.h5 and /var/folders/g_/1p95771n5l1f_f8gbbftkjy80000gn/T/tmp0le1cpzd/temp_HERO_gka_modulatedirection-Mel_phase-0.00_trial-001_side-RDLC_Resnet50_santini_eyelid_detectionJul182025shuffle1_snapshot_220_full.pickle\n",
      "The videos are analyzed. Now your research can truly start!\n",
      "You can create labeled videos with 'create_labeled_video'.\n",
      "If the tracking is not satisfactory for some videos, consider expanding the training set. You can use the function 'extract_outlier_frames' to extract a few representative outlier frames.\n",
      "\n",
      "['/var/folders/g_/1p95771n5l1f_f8gbbftkjy80000gn/T/tmp0le1cpzd/temp_HERO_gka_modulatedirection-Mel_phase-0.00_trial-001_side-RDLC_Resnet50_santini_eyelid_detectionJul182025shuffle1_snapshot_220.h5']\n",
      "Model weights already exist!\n",
      "Analyzing videos with /Users/zacharykelly/Library/Application Support/pylids/pytorch-eyelid-v1/dlc-models-pytorch/iteration-0/santini_eyelid_detectionJul182025-trainset99shuffle1/train/snapshot-best-110.pt\n",
      "Starting to analyze temp_blnk_pipeline/temp_HERO_gka_modulatedirection-Mel_phase-0.00_trial-001_side-R.avi\n",
      "Video metadata: \n",
      "  Overall # of frames:    11160\n",
      "  Duration of video [s]:  62.00\n",
      "  fps:                    180.0\n",
      "  resolution:             w=640, h=480\n",
      "\n",
      "Running pose prediction with batch size 8\n"
     ]
    },
    {
     "name": "stderr",
     "output_type": "stream",
     "text": [
      "100%|██████████| 11160/11160 [08:20<00:00, 22.30it/s]\n"
     ]
    },
    {
     "name": "stdout",
     "output_type": "stream",
     "text": [
      "Saving results in /var/folders/g_/1p95771n5l1f_f8gbbftkjy80000gn/T/tmplhnq23ai/temp_HERO_gka_modulatedirection-Mel_phase-0.00_trial-001_side-RDLC_Resnet50_santini_eyelid_detectionJul182025shuffle1_snapshot_110.h5 and /var/folders/g_/1p95771n5l1f_f8gbbftkjy80000gn/T/tmplhnq23ai/temp_HERO_gka_modulatedirection-Mel_phase-0.00_trial-001_side-RDLC_Resnet50_santini_eyelid_detectionJul182025shuffle1_snapshot_110_full.pickle\n",
      "The videos are analyzed. Now your research can truly start!\n",
      "You can create labeled videos with 'create_labeled_video'.\n",
      "If the tracking is not satisfactory for some videos, consider expanding the training set. You can use the function 'extract_outlier_frames' to extract a few representative outlier frames.\n",
      "\n",
      "['/var/folders/g_/1p95771n5l1f_f8gbbftkjy80000gn/T/tmplhnq23ai/temp_HERO_gka_modulatedirection-Mel_phase-0.00_trial-001_side-RDLC_Resnet50_santini_eyelid_detectionJul182025shuffle1_snapshot_110.h5']\n",
      "Processing: 3/29\n",
      "Model weights already exist!\n",
      "Analyzing videos with /Users/zacharykelly/Library/Application Support/pylids/pytorch-pupil-v1/dlc-models-pytorch/iteration-0/santini_eyelid_detectionJul182025-trainset99shuffle1/train/snapshot-best-220.pt\n",
      "Starting to analyze temp_blnk_pipeline/temp_HERO_gka_modulatedirection-S_peripheral_phase-0.00_trial-001_side-R.avi\n",
      "Video metadata: \n",
      "  Overall # of frames:    11160\n",
      "  Duration of video [s]:  62.00\n",
      "  fps:                    180.0\n",
      "  resolution:             w=640, h=480\n",
      "\n",
      "Running pose prediction with batch size 8\n"
     ]
    },
    {
     "name": "stderr",
     "output_type": "stream",
     "text": [
      "100%|██████████| 11160/11160 [06:17<00:00, 29.55it/s]\n"
     ]
    },
    {
     "name": "stdout",
     "output_type": "stream",
     "text": [
      "Saving results in /var/folders/g_/1p95771n5l1f_f8gbbftkjy80000gn/T/tmppyr9xn9s/temp_HERO_gka_modulatedirection-S_peripheral_phase-0.00_trial-001_side-RDLC_Resnet50_santini_eyelid_detectionJul182025shuffle1_snapshot_220.h5 and /var/folders/g_/1p95771n5l1f_f8gbbftkjy80000gn/T/tmppyr9xn9s/temp_HERO_gka_modulatedirection-S_peripheral_phase-0.00_trial-001_side-RDLC_Resnet50_santini_eyelid_detectionJul182025shuffle1_snapshot_220_full.pickle\n",
      "The videos are analyzed. Now your research can truly start!\n",
      "You can create labeled videos with 'create_labeled_video'.\n",
      "If the tracking is not satisfactory for some videos, consider expanding the training set. You can use the function 'extract_outlier_frames' to extract a few representative outlier frames.\n",
      "\n",
      "['/var/folders/g_/1p95771n5l1f_f8gbbftkjy80000gn/T/tmppyr9xn9s/temp_HERO_gka_modulatedirection-S_peripheral_phase-0.00_trial-001_side-RDLC_Resnet50_santini_eyelid_detectionJul182025shuffle1_snapshot_220.h5']\n",
      "Model weights already exist!\n",
      "Analyzing videos with /Users/zacharykelly/Library/Application Support/pylids/pytorch-eyelid-v1/dlc-models-pytorch/iteration-0/santini_eyelid_detectionJul182025-trainset99shuffle1/train/snapshot-best-110.pt\n",
      "Starting to analyze temp_blnk_pipeline/temp_HERO_gka_modulatedirection-S_peripheral_phase-0.00_trial-001_side-R.avi\n",
      "Video metadata: \n",
      "  Overall # of frames:    11160\n",
      "  Duration of video [s]:  62.00\n",
      "  fps:                    180.0\n",
      "  resolution:             w=640, h=480\n",
      "\n",
      "Running pose prediction with batch size 8\n"
     ]
    },
    {
     "name": "stderr",
     "output_type": "stream",
     "text": [
      "100%|██████████| 11160/11160 [08:22<00:00, 22.22it/s]\n"
     ]
    },
    {
     "name": "stdout",
     "output_type": "stream",
     "text": [
      "Saving results in /var/folders/g_/1p95771n5l1f_f8gbbftkjy80000gn/T/tmp3zk00wqv/temp_HERO_gka_modulatedirection-S_peripheral_phase-0.00_trial-001_side-RDLC_Resnet50_santini_eyelid_detectionJul182025shuffle1_snapshot_110.h5 and /var/folders/g_/1p95771n5l1f_f8gbbftkjy80000gn/T/tmp3zk00wqv/temp_HERO_gka_modulatedirection-S_peripheral_phase-0.00_trial-001_side-RDLC_Resnet50_santini_eyelid_detectionJul182025shuffle1_snapshot_110_full.pickle\n",
      "The videos are analyzed. Now your research can truly start!\n",
      "You can create labeled videos with 'create_labeled_video'.\n",
      "If the tracking is not satisfactory for some videos, consider expanding the training set. You can use the function 'extract_outlier_frames' to extract a few representative outlier frames.\n",
      "\n",
      "['/var/folders/g_/1p95771n5l1f_f8gbbftkjy80000gn/T/tmp3zk00wqv/temp_HERO_gka_modulatedirection-S_peripheral_phase-0.00_trial-001_side-RDLC_Resnet50_santini_eyelid_detectionJul182025shuffle1_snapshot_110.h5']\n",
      "Processing: 4/29\n",
      "Model weights already exist!\n",
      "Analyzing videos with /Users/zacharykelly/Library/Application Support/pylids/pytorch-pupil-v1/dlc-models-pytorch/iteration-0/santini_eyelid_detectionJul182025-trainset99shuffle1/train/snapshot-best-220.pt\n",
      "Starting to analyze temp_blnk_pipeline/temp_HERO_gka_modulatedirection-S_peripheral_phase-0.00_trial-004_side-R.avi\n",
      "Video metadata: \n",
      "  Overall # of frames:    11160\n",
      "  Duration of video [s]:  62.00\n",
      "  fps:                    180.0\n",
      "  resolution:             w=640, h=480\n",
      "\n",
      "Running pose prediction with batch size 8\n"
     ]
    },
    {
     "name": "stderr",
     "output_type": "stream",
     "text": [
      "100%|██████████| 11160/11160 [06:18<00:00, 29.47it/s]\n"
     ]
    },
    {
     "name": "stdout",
     "output_type": "stream",
     "text": [
      "Saving results in /var/folders/g_/1p95771n5l1f_f8gbbftkjy80000gn/T/tmp7j0527dk/temp_HERO_gka_modulatedirection-S_peripheral_phase-0.00_trial-004_side-RDLC_Resnet50_santini_eyelid_detectionJul182025shuffle1_snapshot_220.h5 and /var/folders/g_/1p95771n5l1f_f8gbbftkjy80000gn/T/tmp7j0527dk/temp_HERO_gka_modulatedirection-S_peripheral_phase-0.00_trial-004_side-RDLC_Resnet50_santini_eyelid_detectionJul182025shuffle1_snapshot_220_full.pickle\n",
      "The videos are analyzed. Now your research can truly start!\n",
      "You can create labeled videos with 'create_labeled_video'.\n",
      "If the tracking is not satisfactory for some videos, consider expanding the training set. You can use the function 'extract_outlier_frames' to extract a few representative outlier frames.\n",
      "\n",
      "['/var/folders/g_/1p95771n5l1f_f8gbbftkjy80000gn/T/tmp7j0527dk/temp_HERO_gka_modulatedirection-S_peripheral_phase-0.00_trial-004_side-RDLC_Resnet50_santini_eyelid_detectionJul182025shuffle1_snapshot_220.h5']\n",
      "Model weights already exist!\n",
      "Analyzing videos with /Users/zacharykelly/Library/Application Support/pylids/pytorch-eyelid-v1/dlc-models-pytorch/iteration-0/santini_eyelid_detectionJul182025-trainset99shuffle1/train/snapshot-best-110.pt\n",
      "Starting to analyze temp_blnk_pipeline/temp_HERO_gka_modulatedirection-S_peripheral_phase-0.00_trial-004_side-R.avi\n",
      "Video metadata: \n",
      "  Overall # of frames:    11160\n",
      "  Duration of video [s]:  62.00\n",
      "  fps:                    180.0\n",
      "  resolution:             w=640, h=480\n",
      "\n",
      "Running pose prediction with batch size 8\n"
     ]
    },
    {
     "name": "stderr",
     "output_type": "stream",
     "text": [
      "100%|██████████| 11160/11160 [08:22<00:00, 22.21it/s]\n"
     ]
    },
    {
     "name": "stdout",
     "output_type": "stream",
     "text": [
      "Saving results in /var/folders/g_/1p95771n5l1f_f8gbbftkjy80000gn/T/tmp8nnfxj_a/temp_HERO_gka_modulatedirection-S_peripheral_phase-0.00_trial-004_side-RDLC_Resnet50_santini_eyelid_detectionJul182025shuffle1_snapshot_110.h5 and /var/folders/g_/1p95771n5l1f_f8gbbftkjy80000gn/T/tmp8nnfxj_a/temp_HERO_gka_modulatedirection-S_peripheral_phase-0.00_trial-004_side-RDLC_Resnet50_santini_eyelid_detectionJul182025shuffle1_snapshot_110_full.pickle\n",
      "The videos are analyzed. Now your research can truly start!\n",
      "You can create labeled videos with 'create_labeled_video'.\n",
      "If the tracking is not satisfactory for some videos, consider expanding the training set. You can use the function 'extract_outlier_frames' to extract a few representative outlier frames.\n",
      "\n",
      "['/var/folders/g_/1p95771n5l1f_f8gbbftkjy80000gn/T/tmp8nnfxj_a/temp_HERO_gka_modulatedirection-S_peripheral_phase-0.00_trial-004_side-RDLC_Resnet50_santini_eyelid_detectionJul182025shuffle1_snapshot_110.h5']\n",
      "Processing: 5/29\n",
      "Model weights already exist!\n",
      "Analyzing videos with /Users/zacharykelly/Library/Application Support/pylids/pytorch-pupil-v1/dlc-models-pytorch/iteration-0/santini_eyelid_detectionJul182025-trainset99shuffle1/train/snapshot-best-220.pt\n",
      "Starting to analyze temp_blnk_pipeline/temp_HERO_gka_modulatedirection-LMS_phase-3.14_trial-004_side-R.avi\n",
      "Video metadata: \n",
      "  Overall # of frames:    11160\n",
      "  Duration of video [s]:  62.00\n",
      "  fps:                    180.0\n",
      "  resolution:             w=640, h=480\n",
      "\n",
      "Running pose prediction with batch size 8\n"
     ]
    },
    {
     "name": "stderr",
     "output_type": "stream",
     "text": [
      "100%|██████████| 11160/11160 [06:17<00:00, 29.57it/s]\n"
     ]
    },
    {
     "name": "stdout",
     "output_type": "stream",
     "text": [
      "Saving results in /var/folders/g_/1p95771n5l1f_f8gbbftkjy80000gn/T/tmp9_cj5ozt/temp_HERO_gka_modulatedirection-LMS_phase-3.14_trial-004_side-RDLC_Resnet50_santini_eyelid_detectionJul182025shuffle1_snapshot_220.h5 and /var/folders/g_/1p95771n5l1f_f8gbbftkjy80000gn/T/tmp9_cj5ozt/temp_HERO_gka_modulatedirection-LMS_phase-3.14_trial-004_side-RDLC_Resnet50_santini_eyelid_detectionJul182025shuffle1_snapshot_220_full.pickle\n",
      "The videos are analyzed. Now your research can truly start!\n",
      "You can create labeled videos with 'create_labeled_video'.\n",
      "If the tracking is not satisfactory for some videos, consider expanding the training set. You can use the function 'extract_outlier_frames' to extract a few representative outlier frames.\n",
      "\n",
      "['/var/folders/g_/1p95771n5l1f_f8gbbftkjy80000gn/T/tmp9_cj5ozt/temp_HERO_gka_modulatedirection-LMS_phase-3.14_trial-004_side-RDLC_Resnet50_santini_eyelid_detectionJul182025shuffle1_snapshot_220.h5']\n",
      "Model weights already exist!\n",
      "Analyzing videos with /Users/zacharykelly/Library/Application Support/pylids/pytorch-eyelid-v1/dlc-models-pytorch/iteration-0/santini_eyelid_detectionJul182025-trainset99shuffle1/train/snapshot-best-110.pt\n",
      "Starting to analyze temp_blnk_pipeline/temp_HERO_gka_modulatedirection-LMS_phase-3.14_trial-004_side-R.avi\n",
      "Video metadata: \n",
      "  Overall # of frames:    11160\n",
      "  Duration of video [s]:  62.00\n",
      "  fps:                    180.0\n",
      "  resolution:             w=640, h=480\n",
      "\n",
      "Running pose prediction with batch size 8\n"
     ]
    },
    {
     "name": "stderr",
     "output_type": "stream",
     "text": [
      "100%|██████████| 11160/11160 [08:23<00:00, 22.18it/s]\n"
     ]
    },
    {
     "name": "stdout",
     "output_type": "stream",
     "text": [
      "Saving results in /var/folders/g_/1p95771n5l1f_f8gbbftkjy80000gn/T/tmp3xz476sa/temp_HERO_gka_modulatedirection-LMS_phase-3.14_trial-004_side-RDLC_Resnet50_santini_eyelid_detectionJul182025shuffle1_snapshot_110.h5 and /var/folders/g_/1p95771n5l1f_f8gbbftkjy80000gn/T/tmp3xz476sa/temp_HERO_gka_modulatedirection-LMS_phase-3.14_trial-004_side-RDLC_Resnet50_santini_eyelid_detectionJul182025shuffle1_snapshot_110_full.pickle\n",
      "The videos are analyzed. Now your research can truly start!\n",
      "You can create labeled videos with 'create_labeled_video'.\n",
      "If the tracking is not satisfactory for some videos, consider expanding the training set. You can use the function 'extract_outlier_frames' to extract a few representative outlier frames.\n",
      "\n",
      "['/var/folders/g_/1p95771n5l1f_f8gbbftkjy80000gn/T/tmp3xz476sa/temp_HERO_gka_modulatedirection-LMS_phase-3.14_trial-004_side-RDLC_Resnet50_santini_eyelid_detectionJul182025shuffle1_snapshot_110.h5']\n",
      "Processing: 6/29\n",
      "Model weights already exist!\n",
      "Analyzing videos with /Users/zacharykelly/Library/Application Support/pylids/pytorch-pupil-v1/dlc-models-pytorch/iteration-0/santini_eyelid_detectionJul182025-trainset99shuffle1/train/snapshot-best-220.pt\n",
      "Starting to analyze temp_blnk_pipeline/temp_HERO_gka_modulatedirection-Mel_phase-0.00_trial-004_side-R.avi\n",
      "Video metadata: \n",
      "  Overall # of frames:    11160\n",
      "  Duration of video [s]:  62.00\n",
      "  fps:                    180.0\n",
      "  resolution:             w=640, h=480\n",
      "\n",
      "Running pose prediction with batch size 8\n"
     ]
    },
    {
     "name": "stderr",
     "output_type": "stream",
     "text": [
      "100%|██████████| 11160/11160 [06:19<00:00, 29.43it/s]\n"
     ]
    },
    {
     "name": "stdout",
     "output_type": "stream",
     "text": [
      "Saving results in /var/folders/g_/1p95771n5l1f_f8gbbftkjy80000gn/T/tmpagrhc8si/temp_HERO_gka_modulatedirection-Mel_phase-0.00_trial-004_side-RDLC_Resnet50_santini_eyelid_detectionJul182025shuffle1_snapshot_220.h5 and /var/folders/g_/1p95771n5l1f_f8gbbftkjy80000gn/T/tmpagrhc8si/temp_HERO_gka_modulatedirection-Mel_phase-0.00_trial-004_side-RDLC_Resnet50_santini_eyelid_detectionJul182025shuffle1_snapshot_220_full.pickle\n",
      "The videos are analyzed. Now your research can truly start!\n",
      "You can create labeled videos with 'create_labeled_video'.\n",
      "If the tracking is not satisfactory for some videos, consider expanding the training set. You can use the function 'extract_outlier_frames' to extract a few representative outlier frames.\n",
      "\n",
      "['/var/folders/g_/1p95771n5l1f_f8gbbftkjy80000gn/T/tmpagrhc8si/temp_HERO_gka_modulatedirection-Mel_phase-0.00_trial-004_side-RDLC_Resnet50_santini_eyelid_detectionJul182025shuffle1_snapshot_220.h5']\n",
      "Model weights already exist!\n",
      "Analyzing videos with /Users/zacharykelly/Library/Application Support/pylids/pytorch-eyelid-v1/dlc-models-pytorch/iteration-0/santini_eyelid_detectionJul182025-trainset99shuffle1/train/snapshot-best-110.pt\n",
      "Starting to analyze temp_blnk_pipeline/temp_HERO_gka_modulatedirection-Mel_phase-0.00_trial-004_side-R.avi\n",
      "Video metadata: \n",
      "  Overall # of frames:    11160\n",
      "  Duration of video [s]:  62.00\n",
      "  fps:                    180.0\n",
      "  resolution:             w=640, h=480\n",
      "\n",
      "Running pose prediction with batch size 8\n"
     ]
    },
    {
     "name": "stderr",
     "output_type": "stream",
     "text": [
      "100%|██████████| 11160/11160 [08:21<00:00, 22.26it/s]\n"
     ]
    },
    {
     "name": "stdout",
     "output_type": "stream",
     "text": [
      "Saving results in /var/folders/g_/1p95771n5l1f_f8gbbftkjy80000gn/T/tmppxq4h7md/temp_HERO_gka_modulatedirection-Mel_phase-0.00_trial-004_side-RDLC_Resnet50_santini_eyelid_detectionJul182025shuffle1_snapshot_110.h5 and /var/folders/g_/1p95771n5l1f_f8gbbftkjy80000gn/T/tmppxq4h7md/temp_HERO_gka_modulatedirection-Mel_phase-0.00_trial-004_side-RDLC_Resnet50_santini_eyelid_detectionJul182025shuffle1_snapshot_110_full.pickle\n",
      "The videos are analyzed. Now your research can truly start!\n",
      "You can create labeled videos with 'create_labeled_video'.\n",
      "If the tracking is not satisfactory for some videos, consider expanding the training set. You can use the function 'extract_outlier_frames' to extract a few representative outlier frames.\n",
      "\n",
      "['/var/folders/g_/1p95771n5l1f_f8gbbftkjy80000gn/T/tmppxq4h7md/temp_HERO_gka_modulatedirection-Mel_phase-0.00_trial-004_side-RDLC_Resnet50_santini_eyelid_detectionJul182025shuffle1_snapshot_110.h5']\n",
      "Processing: 7/29\n",
      "Model weights already exist!\n",
      "Analyzing videos with /Users/zacharykelly/Library/Application Support/pylids/pytorch-pupil-v1/dlc-models-pytorch/iteration-0/santini_eyelid_detectionJul182025-trainset99shuffle1/train/snapshot-best-220.pt\n",
      "Starting to analyze temp_blnk_pipeline/temp_HERO_gka_modulatedirection-S_peripheral_phase-3.14_trial-002_side-R.avi\n",
      "Video metadata: \n",
      "  Overall # of frames:    11160\n",
      "  Duration of video [s]:  62.00\n",
      "  fps:                    180.0\n",
      "  resolution:             w=640, h=480\n",
      "\n",
      "Running pose prediction with batch size 8\n"
     ]
    },
    {
     "name": "stderr",
     "output_type": "stream",
     "text": [
      "100%|██████████| 11160/11160 [06:14<00:00, 29.76it/s]\n"
     ]
    },
    {
     "name": "stdout",
     "output_type": "stream",
     "text": [
      "Saving results in /var/folders/g_/1p95771n5l1f_f8gbbftkjy80000gn/T/tmp4754izf6/temp_HERO_gka_modulatedirection-S_peripheral_phase-3.14_trial-002_side-RDLC_Resnet50_santini_eyelid_detectionJul182025shuffle1_snapshot_220.h5 and /var/folders/g_/1p95771n5l1f_f8gbbftkjy80000gn/T/tmp4754izf6/temp_HERO_gka_modulatedirection-S_peripheral_phase-3.14_trial-002_side-RDLC_Resnet50_santini_eyelid_detectionJul182025shuffle1_snapshot_220_full.pickle\n",
      "The videos are analyzed. Now your research can truly start!\n",
      "You can create labeled videos with 'create_labeled_video'.\n",
      "If the tracking is not satisfactory for some videos, consider expanding the training set. You can use the function 'extract_outlier_frames' to extract a few representative outlier frames.\n",
      "\n",
      "['/var/folders/g_/1p95771n5l1f_f8gbbftkjy80000gn/T/tmp4754izf6/temp_HERO_gka_modulatedirection-S_peripheral_phase-3.14_trial-002_side-RDLC_Resnet50_santini_eyelid_detectionJul182025shuffle1_snapshot_220.h5']\n",
      "Model weights already exist!\n",
      "Analyzing videos with /Users/zacharykelly/Library/Application Support/pylids/pytorch-eyelid-v1/dlc-models-pytorch/iteration-0/santini_eyelid_detectionJul182025-trainset99shuffle1/train/snapshot-best-110.pt\n",
      "Starting to analyze temp_blnk_pipeline/temp_HERO_gka_modulatedirection-S_peripheral_phase-3.14_trial-002_side-R.avi\n",
      "Video metadata: \n",
      "  Overall # of frames:    11160\n",
      "  Duration of video [s]:  62.00\n",
      "  fps:                    180.0\n",
      "  resolution:             w=640, h=480\n",
      "\n",
      "Running pose prediction with batch size 8\n"
     ]
    },
    {
     "name": "stderr",
     "output_type": "stream",
     "text": [
      "100%|██████████| 11160/11160 [08:16<00:00, 22.50it/s]\n"
     ]
    },
    {
     "name": "stdout",
     "output_type": "stream",
     "text": [
      "Saving results in /var/folders/g_/1p95771n5l1f_f8gbbftkjy80000gn/T/tmppd8d6ovn/temp_HERO_gka_modulatedirection-S_peripheral_phase-3.14_trial-002_side-RDLC_Resnet50_santini_eyelid_detectionJul182025shuffle1_snapshot_110.h5 and /var/folders/g_/1p95771n5l1f_f8gbbftkjy80000gn/T/tmppd8d6ovn/temp_HERO_gka_modulatedirection-S_peripheral_phase-3.14_trial-002_side-RDLC_Resnet50_santini_eyelid_detectionJul182025shuffle1_snapshot_110_full.pickle\n",
      "The videos are analyzed. Now your research can truly start!\n",
      "You can create labeled videos with 'create_labeled_video'.\n",
      "If the tracking is not satisfactory for some videos, consider expanding the training set. You can use the function 'extract_outlier_frames' to extract a few representative outlier frames.\n",
      "\n",
      "['/var/folders/g_/1p95771n5l1f_f8gbbftkjy80000gn/T/tmppd8d6ovn/temp_HERO_gka_modulatedirection-S_peripheral_phase-3.14_trial-002_side-RDLC_Resnet50_santini_eyelid_detectionJul182025shuffle1_snapshot_110.h5']\n",
      "Processing: 8/29\n",
      "Model weights already exist!\n",
      "Analyzing videos with /Users/zacharykelly/Library/Application Support/pylids/pytorch-pupil-v1/dlc-models-pytorch/iteration-0/santini_eyelid_detectionJul182025-trainset99shuffle1/train/snapshot-best-220.pt\n",
      "Starting to analyze temp_blnk_pipeline/temp_HERO_gka_modulatedirection-LMS_phase-3.14_trial-003_side-R.avi\n",
      "Video metadata: \n",
      "  Overall # of frames:    11160\n",
      "  Duration of video [s]:  62.00\n",
      "  fps:                    180.0\n",
      "  resolution:             w=640, h=480\n",
      "\n",
      "Running pose prediction with batch size 8\n"
     ]
    },
    {
     "name": "stderr",
     "output_type": "stream",
     "text": [
      "100%|██████████| 11160/11160 [06:16<00:00, 29.67it/s]\n"
     ]
    },
    {
     "name": "stdout",
     "output_type": "stream",
     "text": [
      "Saving results in /var/folders/g_/1p95771n5l1f_f8gbbftkjy80000gn/T/tmps3xjalwl/temp_HERO_gka_modulatedirection-LMS_phase-3.14_trial-003_side-RDLC_Resnet50_santini_eyelid_detectionJul182025shuffle1_snapshot_220.h5 and /var/folders/g_/1p95771n5l1f_f8gbbftkjy80000gn/T/tmps3xjalwl/temp_HERO_gka_modulatedirection-LMS_phase-3.14_trial-003_side-RDLC_Resnet50_santini_eyelid_detectionJul182025shuffle1_snapshot_220_full.pickle\n",
      "The videos are analyzed. Now your research can truly start!\n",
      "You can create labeled videos with 'create_labeled_video'.\n",
      "If the tracking is not satisfactory for some videos, consider expanding the training set. You can use the function 'extract_outlier_frames' to extract a few representative outlier frames.\n",
      "\n",
      "['/var/folders/g_/1p95771n5l1f_f8gbbftkjy80000gn/T/tmps3xjalwl/temp_HERO_gka_modulatedirection-LMS_phase-3.14_trial-003_side-RDLC_Resnet50_santini_eyelid_detectionJul182025shuffle1_snapshot_220.h5']\n",
      "Model weights already exist!\n",
      "Analyzing videos with /Users/zacharykelly/Library/Application Support/pylids/pytorch-eyelid-v1/dlc-models-pytorch/iteration-0/santini_eyelid_detectionJul182025-trainset99shuffle1/train/snapshot-best-110.pt\n",
      "Starting to analyze temp_blnk_pipeline/temp_HERO_gka_modulatedirection-LMS_phase-3.14_trial-003_side-R.avi\n",
      "Video metadata: \n",
      "  Overall # of frames:    11160\n",
      "  Duration of video [s]:  62.00\n",
      "  fps:                    180.0\n",
      "  resolution:             w=640, h=480\n",
      "\n",
      "Running pose prediction with batch size 8\n"
     ]
    },
    {
     "name": "stderr",
     "output_type": "stream",
     "text": [
      "100%|██████████| 11160/11160 [08:21<00:00, 22.24it/s]\n"
     ]
    },
    {
     "name": "stdout",
     "output_type": "stream",
     "text": [
      "Saving results in /var/folders/g_/1p95771n5l1f_f8gbbftkjy80000gn/T/tmpdyn_06h3/temp_HERO_gka_modulatedirection-LMS_phase-3.14_trial-003_side-RDLC_Resnet50_santini_eyelid_detectionJul182025shuffle1_snapshot_110.h5 and /var/folders/g_/1p95771n5l1f_f8gbbftkjy80000gn/T/tmpdyn_06h3/temp_HERO_gka_modulatedirection-LMS_phase-3.14_trial-003_side-RDLC_Resnet50_santini_eyelid_detectionJul182025shuffle1_snapshot_110_full.pickle\n",
      "The videos are analyzed. Now your research can truly start!\n",
      "You can create labeled videos with 'create_labeled_video'.\n",
      "If the tracking is not satisfactory for some videos, consider expanding the training set. You can use the function 'extract_outlier_frames' to extract a few representative outlier frames.\n",
      "\n",
      "['/var/folders/g_/1p95771n5l1f_f8gbbftkjy80000gn/T/tmpdyn_06h3/temp_HERO_gka_modulatedirection-LMS_phase-3.14_trial-003_side-RDLC_Resnet50_santini_eyelid_detectionJul182025shuffle1_snapshot_110.h5']\n",
      "Processing: 9/29\n",
      "Model weights already exist!\n",
      "Analyzing videos with /Users/zacharykelly/Library/Application Support/pylids/pytorch-pupil-v1/dlc-models-pytorch/iteration-0/santini_eyelid_detectionJul182025-trainset99shuffle1/train/snapshot-best-220.pt\n",
      "Starting to analyze temp_blnk_pipeline/temp_HERO_gka_modulatedirection-Mel_phase-0.00_trial-003_side-R.avi\n",
      "Video metadata: \n",
      "  Overall # of frames:    11160\n",
      "  Duration of video [s]:  62.00\n",
      "  fps:                    180.0\n",
      "  resolution:             w=640, h=480\n",
      "\n",
      "Running pose prediction with batch size 8\n"
     ]
    },
    {
     "name": "stderr",
     "output_type": "stream",
     "text": [
      "100%|██████████| 11160/11160 [06:15<00:00, 29.73it/s]\n"
     ]
    },
    {
     "name": "stdout",
     "output_type": "stream",
     "text": [
      "Saving results in /var/folders/g_/1p95771n5l1f_f8gbbftkjy80000gn/T/tmpt38anif6/temp_HERO_gka_modulatedirection-Mel_phase-0.00_trial-003_side-RDLC_Resnet50_santini_eyelid_detectionJul182025shuffle1_snapshot_220.h5 and /var/folders/g_/1p95771n5l1f_f8gbbftkjy80000gn/T/tmpt38anif6/temp_HERO_gka_modulatedirection-Mel_phase-0.00_trial-003_side-RDLC_Resnet50_santini_eyelid_detectionJul182025shuffle1_snapshot_220_full.pickle\n",
      "The videos are analyzed. Now your research can truly start!\n",
      "You can create labeled videos with 'create_labeled_video'.\n",
      "If the tracking is not satisfactory for some videos, consider expanding the training set. You can use the function 'extract_outlier_frames' to extract a few representative outlier frames.\n",
      "\n",
      "['/var/folders/g_/1p95771n5l1f_f8gbbftkjy80000gn/T/tmpt38anif6/temp_HERO_gka_modulatedirection-Mel_phase-0.00_trial-003_side-RDLC_Resnet50_santini_eyelid_detectionJul182025shuffle1_snapshot_220.h5']\n",
      "Model weights already exist!\n",
      "Analyzing videos with /Users/zacharykelly/Library/Application Support/pylids/pytorch-eyelid-v1/dlc-models-pytorch/iteration-0/santini_eyelid_detectionJul182025-trainset99shuffle1/train/snapshot-best-110.pt\n",
      "Starting to analyze temp_blnk_pipeline/temp_HERO_gka_modulatedirection-Mel_phase-0.00_trial-003_side-R.avi\n",
      "Video metadata: \n",
      "  Overall # of frames:    11160\n",
      "  Duration of video [s]:  62.00\n",
      "  fps:                    180.0\n",
      "  resolution:             w=640, h=480\n",
      "\n",
      "Running pose prediction with batch size 8\n"
     ]
    },
    {
     "name": "stderr",
     "output_type": "stream",
     "text": [
      "100%|██████████| 11160/11160 [08:20<00:00, 22.29it/s]\n"
     ]
    },
    {
     "name": "stdout",
     "output_type": "stream",
     "text": [
      "Saving results in /var/folders/g_/1p95771n5l1f_f8gbbftkjy80000gn/T/tmp79vngfc4/temp_HERO_gka_modulatedirection-Mel_phase-0.00_trial-003_side-RDLC_Resnet50_santini_eyelid_detectionJul182025shuffle1_snapshot_110.h5 and /var/folders/g_/1p95771n5l1f_f8gbbftkjy80000gn/T/tmp79vngfc4/temp_HERO_gka_modulatedirection-Mel_phase-0.00_trial-003_side-RDLC_Resnet50_santini_eyelid_detectionJul182025shuffle1_snapshot_110_full.pickle\n",
      "The videos are analyzed. Now your research can truly start!\n",
      "You can create labeled videos with 'create_labeled_video'.\n",
      "If the tracking is not satisfactory for some videos, consider expanding the training set. You can use the function 'extract_outlier_frames' to extract a few representative outlier frames.\n",
      "\n",
      "['/var/folders/g_/1p95771n5l1f_f8gbbftkjy80000gn/T/tmp79vngfc4/temp_HERO_gka_modulatedirection-Mel_phase-0.00_trial-003_side-RDLC_Resnet50_santini_eyelid_detectionJul182025shuffle1_snapshot_110.h5']\n"
     ]
    },
    {
     "name": "stderr",
     "output_type": "stream",
     "text": [
      "/opt/anaconda3/envs/pylids/lib/python3.10/site-packages/numpy/polynomial/polynomial.py:1362: RankWarning: The fit may be poorly conditioned\n",
      "  return pu._fit(polyvander, x, y, deg, rcond, full, w)\n"
     ]
    },
    {
     "name": "stdout",
     "output_type": "stream",
     "text": [
      "Processing: 10/29\n",
      "Model weights already exist!\n",
      "Analyzing videos with /Users/zacharykelly/Library/Application Support/pylids/pytorch-pupil-v1/dlc-models-pytorch/iteration-0/santini_eyelid_detectionJul182025-trainset99shuffle1/train/snapshot-best-220.pt\n",
      "Starting to analyze temp_blnk_pipeline/temp_HERO_gka_modulatedirection-Mel_phase-3.14_trial-002_side-R.avi\n",
      "Video metadata: \n",
      "  Overall # of frames:    11160\n",
      "  Duration of video [s]:  62.00\n",
      "  fps:                    180.0\n",
      "  resolution:             w=640, h=480\n",
      "\n",
      "Running pose prediction with batch size 8\n"
     ]
    },
    {
     "name": "stderr",
     "output_type": "stream",
     "text": [
      "100%|██████████| 11160/11160 [06:17<00:00, 29.55it/s]\n"
     ]
    },
    {
     "name": "stdout",
     "output_type": "stream",
     "text": [
      "Saving results in /var/folders/g_/1p95771n5l1f_f8gbbftkjy80000gn/T/tmpt094xqr8/temp_HERO_gka_modulatedirection-Mel_phase-3.14_trial-002_side-RDLC_Resnet50_santini_eyelid_detectionJul182025shuffle1_snapshot_220.h5 and /var/folders/g_/1p95771n5l1f_f8gbbftkjy80000gn/T/tmpt094xqr8/temp_HERO_gka_modulatedirection-Mel_phase-3.14_trial-002_side-RDLC_Resnet50_santini_eyelid_detectionJul182025shuffle1_snapshot_220_full.pickle\n",
      "The videos are analyzed. Now your research can truly start!\n",
      "You can create labeled videos with 'create_labeled_video'.\n",
      "If the tracking is not satisfactory for some videos, consider expanding the training set. You can use the function 'extract_outlier_frames' to extract a few representative outlier frames.\n",
      "\n",
      "['/var/folders/g_/1p95771n5l1f_f8gbbftkjy80000gn/T/tmpt094xqr8/temp_HERO_gka_modulatedirection-Mel_phase-3.14_trial-002_side-RDLC_Resnet50_santini_eyelid_detectionJul182025shuffle1_snapshot_220.h5']\n",
      "Model weights already exist!\n",
      "Analyzing videos with /Users/zacharykelly/Library/Application Support/pylids/pytorch-eyelid-v1/dlc-models-pytorch/iteration-0/santini_eyelid_detectionJul182025-trainset99shuffle1/train/snapshot-best-110.pt\n",
      "Starting to analyze temp_blnk_pipeline/temp_HERO_gka_modulatedirection-Mel_phase-3.14_trial-002_side-R.avi\n",
      "Video metadata: \n",
      "  Overall # of frames:    11160\n",
      "  Duration of video [s]:  62.00\n",
      "  fps:                    180.0\n",
      "  resolution:             w=640, h=480\n",
      "\n",
      "Running pose prediction with batch size 8\n"
     ]
    },
    {
     "name": "stderr",
     "output_type": "stream",
     "text": [
      "100%|██████████| 11160/11160 [08:19<00:00, 22.36it/s]\n"
     ]
    },
    {
     "name": "stdout",
     "output_type": "stream",
     "text": [
      "Saving results in /var/folders/g_/1p95771n5l1f_f8gbbftkjy80000gn/T/tmpjhngvtla/temp_HERO_gka_modulatedirection-Mel_phase-3.14_trial-002_side-RDLC_Resnet50_santini_eyelid_detectionJul182025shuffle1_snapshot_110.h5 and /var/folders/g_/1p95771n5l1f_f8gbbftkjy80000gn/T/tmpjhngvtla/temp_HERO_gka_modulatedirection-Mel_phase-3.14_trial-002_side-RDLC_Resnet50_santini_eyelid_detectionJul182025shuffle1_snapshot_110_full.pickle\n",
      "The videos are analyzed. Now your research can truly start!\n",
      "You can create labeled videos with 'create_labeled_video'.\n",
      "If the tracking is not satisfactory for some videos, consider expanding the training set. You can use the function 'extract_outlier_frames' to extract a few representative outlier frames.\n",
      "\n",
      "['/var/folders/g_/1p95771n5l1f_f8gbbftkjy80000gn/T/tmpjhngvtla/temp_HERO_gka_modulatedirection-Mel_phase-3.14_trial-002_side-RDLC_Resnet50_santini_eyelid_detectionJul182025shuffle1_snapshot_110.h5']\n"
     ]
    },
    {
     "name": "stderr",
     "output_type": "stream",
     "text": [
      "/opt/anaconda3/envs/pylids/lib/python3.10/site-packages/numpy/polynomial/polynomial.py:1362: RankWarning: The fit may be poorly conditioned\n",
      "  return pu._fit(polyvander, x, y, deg, rcond, full, w)\n"
     ]
    },
    {
     "name": "stdout",
     "output_type": "stream",
     "text": [
      "Processing: 11/29\n",
      "Model weights already exist!\n",
      "Analyzing videos with /Users/zacharykelly/Library/Application Support/pylids/pytorch-pupil-v1/dlc-models-pytorch/iteration-0/santini_eyelid_detectionJul182025-trainset99shuffle1/train/snapshot-best-220.pt\n",
      "Starting to analyze temp_blnk_pipeline/temp_HERO_gka_modulatedirection-S_peripheral_phase-0.00_trial-003_side-R.avi\n",
      "Video metadata: \n",
      "  Overall # of frames:    11160\n",
      "  Duration of video [s]:  62.00\n",
      "  fps:                    180.0\n",
      "  resolution:             w=640, h=480\n",
      "\n",
      "Running pose prediction with batch size 8\n"
     ]
    },
    {
     "name": "stderr",
     "output_type": "stream",
     "text": [
      "100%|██████████| 11160/11160 [06:17<00:00, 29.55it/s]\n"
     ]
    },
    {
     "name": "stdout",
     "output_type": "stream",
     "text": [
      "Saving results in /var/folders/g_/1p95771n5l1f_f8gbbftkjy80000gn/T/tmp5bsn96co/temp_HERO_gka_modulatedirection-S_peripheral_phase-0.00_trial-003_side-RDLC_Resnet50_santini_eyelid_detectionJul182025shuffle1_snapshot_220.h5 and /var/folders/g_/1p95771n5l1f_f8gbbftkjy80000gn/T/tmp5bsn96co/temp_HERO_gka_modulatedirection-S_peripheral_phase-0.00_trial-003_side-RDLC_Resnet50_santini_eyelid_detectionJul182025shuffle1_snapshot_220_full.pickle\n",
      "The videos are analyzed. Now your research can truly start!\n",
      "You can create labeled videos with 'create_labeled_video'.\n",
      "If the tracking is not satisfactory for some videos, consider expanding the training set. You can use the function 'extract_outlier_frames' to extract a few representative outlier frames.\n",
      "\n",
      "['/var/folders/g_/1p95771n5l1f_f8gbbftkjy80000gn/T/tmp5bsn96co/temp_HERO_gka_modulatedirection-S_peripheral_phase-0.00_trial-003_side-RDLC_Resnet50_santini_eyelid_detectionJul182025shuffle1_snapshot_220.h5']\n",
      "Model weights already exist!\n",
      "Analyzing videos with /Users/zacharykelly/Library/Application Support/pylids/pytorch-eyelid-v1/dlc-models-pytorch/iteration-0/santini_eyelid_detectionJul182025-trainset99shuffle1/train/snapshot-best-110.pt\n",
      "Starting to analyze temp_blnk_pipeline/temp_HERO_gka_modulatedirection-S_peripheral_phase-0.00_trial-003_side-R.avi\n",
      "Video metadata: \n",
      "  Overall # of frames:    11160\n",
      "  Duration of video [s]:  62.00\n",
      "  fps:                    180.0\n",
      "  resolution:             w=640, h=480\n",
      "\n",
      "Running pose prediction with batch size 8\n"
     ]
    },
    {
     "name": "stderr",
     "output_type": "stream",
     "text": [
      "100%|██████████| 11160/11160 [08:22<00:00, 22.22it/s]\n"
     ]
    },
    {
     "name": "stdout",
     "output_type": "stream",
     "text": [
      "Saving results in /var/folders/g_/1p95771n5l1f_f8gbbftkjy80000gn/T/tmp6p4czbek/temp_HERO_gka_modulatedirection-S_peripheral_phase-0.00_trial-003_side-RDLC_Resnet50_santini_eyelid_detectionJul182025shuffle1_snapshot_110.h5 and /var/folders/g_/1p95771n5l1f_f8gbbftkjy80000gn/T/tmp6p4czbek/temp_HERO_gka_modulatedirection-S_peripheral_phase-0.00_trial-003_side-RDLC_Resnet50_santini_eyelid_detectionJul182025shuffle1_snapshot_110_full.pickle\n",
      "The videos are analyzed. Now your research can truly start!\n",
      "You can create labeled videos with 'create_labeled_video'.\n",
      "If the tracking is not satisfactory for some videos, consider expanding the training set. You can use the function 'extract_outlier_frames' to extract a few representative outlier frames.\n",
      "\n",
      "['/var/folders/g_/1p95771n5l1f_f8gbbftkjy80000gn/T/tmp6p4czbek/temp_HERO_gka_modulatedirection-S_peripheral_phase-0.00_trial-003_side-RDLC_Resnet50_santini_eyelid_detectionJul182025shuffle1_snapshot_110.h5']\n",
      "Processing: 12/29\n",
      "Model weights already exist!\n",
      "Analyzing videos with /Users/zacharykelly/Library/Application Support/pylids/pytorch-pupil-v1/dlc-models-pytorch/iteration-0/santini_eyelid_detectionJul182025-trainset99shuffle1/train/snapshot-best-220.pt\n",
      "Starting to analyze temp_blnk_pipeline/temp_HERO_gka_modulatedirection-LMS_phase-0.00_trial-002_side-R.avi\n",
      "Video metadata: \n",
      "  Overall # of frames:    11160\n",
      "  Duration of video [s]:  62.00\n",
      "  fps:                    180.0\n",
      "  resolution:             w=640, h=480\n",
      "\n",
      "Running pose prediction with batch size 8\n"
     ]
    },
    {
     "name": "stderr",
     "output_type": "stream",
     "text": [
      "100%|██████████| 11160/11160 [06:17<00:00, 29.56it/s]\n"
     ]
    },
    {
     "name": "stdout",
     "output_type": "stream",
     "text": [
      "Saving results in /var/folders/g_/1p95771n5l1f_f8gbbftkjy80000gn/T/tmpbnpa1ms9/temp_HERO_gka_modulatedirection-LMS_phase-0.00_trial-002_side-RDLC_Resnet50_santini_eyelid_detectionJul182025shuffle1_snapshot_220.h5 and /var/folders/g_/1p95771n5l1f_f8gbbftkjy80000gn/T/tmpbnpa1ms9/temp_HERO_gka_modulatedirection-LMS_phase-0.00_trial-002_side-RDLC_Resnet50_santini_eyelid_detectionJul182025shuffle1_snapshot_220_full.pickle\n",
      "The videos are analyzed. Now your research can truly start!\n",
      "You can create labeled videos with 'create_labeled_video'.\n",
      "If the tracking is not satisfactory for some videos, consider expanding the training set. You can use the function 'extract_outlier_frames' to extract a few representative outlier frames.\n",
      "\n",
      "['/var/folders/g_/1p95771n5l1f_f8gbbftkjy80000gn/T/tmpbnpa1ms9/temp_HERO_gka_modulatedirection-LMS_phase-0.00_trial-002_side-RDLC_Resnet50_santini_eyelid_detectionJul182025shuffle1_snapshot_220.h5']\n",
      "Model weights already exist!\n",
      "Analyzing videos with /Users/zacharykelly/Library/Application Support/pylids/pytorch-eyelid-v1/dlc-models-pytorch/iteration-0/santini_eyelid_detectionJul182025-trainset99shuffle1/train/snapshot-best-110.pt\n",
      "Starting to analyze temp_blnk_pipeline/temp_HERO_gka_modulatedirection-LMS_phase-0.00_trial-002_side-R.avi\n",
      "Video metadata: \n",
      "  Overall # of frames:    11160\n",
      "  Duration of video [s]:  62.00\n",
      "  fps:                    180.0\n",
      "  resolution:             w=640, h=480\n",
      "\n",
      "Running pose prediction with batch size 8\n"
     ]
    },
    {
     "name": "stderr",
     "output_type": "stream",
     "text": [
      "100%|██████████| 11160/11160 [08:21<00:00, 22.26it/s]\n"
     ]
    },
    {
     "name": "stdout",
     "output_type": "stream",
     "text": [
      "Saving results in /var/folders/g_/1p95771n5l1f_f8gbbftkjy80000gn/T/tmp6gtfhejd/temp_HERO_gka_modulatedirection-LMS_phase-0.00_trial-002_side-RDLC_Resnet50_santini_eyelid_detectionJul182025shuffle1_snapshot_110.h5 and /var/folders/g_/1p95771n5l1f_f8gbbftkjy80000gn/T/tmp6gtfhejd/temp_HERO_gka_modulatedirection-LMS_phase-0.00_trial-002_side-RDLC_Resnet50_santini_eyelid_detectionJul182025shuffle1_snapshot_110_full.pickle\n",
      "The videos are analyzed. Now your research can truly start!\n",
      "You can create labeled videos with 'create_labeled_video'.\n",
      "If the tracking is not satisfactory for some videos, consider expanding the training set. You can use the function 'extract_outlier_frames' to extract a few representative outlier frames.\n",
      "\n",
      "['/var/folders/g_/1p95771n5l1f_f8gbbftkjy80000gn/T/tmp6gtfhejd/temp_HERO_gka_modulatedirection-LMS_phase-0.00_trial-002_side-RDLC_Resnet50_santini_eyelid_detectionJul182025shuffle1_snapshot_110.h5']\n",
      "Processing: 13/29\n",
      "Model weights already exist!\n",
      "Analyzing videos with /Users/zacharykelly/Library/Application Support/pylids/pytorch-pupil-v1/dlc-models-pytorch/iteration-0/santini_eyelid_detectionJul182025-trainset99shuffle1/train/snapshot-best-220.pt\n",
      "Starting to analyze temp_blnk_pipeline/temp_HERO_gka_modulate_direction-S_peripheral_adapt-5_side-R.avi\n",
      "Video metadata: \n",
      "  Overall # of frames:    9900\n",
      "  Duration of video [s]:  55.00\n",
      "  fps:                    180.0\n",
      "  resolution:             w=640, h=480\n",
      "\n",
      "Running pose prediction with batch size 8\n"
     ]
    },
    {
     "name": "stderr",
     "output_type": "stream",
     "text": [
      "100%|██████████| 9900/9900 [05:35<00:00, 29.51it/s]\n"
     ]
    },
    {
     "name": "stdout",
     "output_type": "stream",
     "text": [
      "Saving results in /var/folders/g_/1p95771n5l1f_f8gbbftkjy80000gn/T/tmpn4mh8mq3/temp_HERO_gka_modulate_direction-S_peripheral_adapt-5_side-RDLC_Resnet50_santini_eyelid_detectionJul182025shuffle1_snapshot_220.h5 and /var/folders/g_/1p95771n5l1f_f8gbbftkjy80000gn/T/tmpn4mh8mq3/temp_HERO_gka_modulate_direction-S_peripheral_adapt-5_side-RDLC_Resnet50_santini_eyelid_detectionJul182025shuffle1_snapshot_220_full.pickle\n",
      "The videos are analyzed. Now your research can truly start!\n",
      "You can create labeled videos with 'create_labeled_video'.\n",
      "If the tracking is not satisfactory for some videos, consider expanding the training set. You can use the function 'extract_outlier_frames' to extract a few representative outlier frames.\n",
      "\n",
      "['/var/folders/g_/1p95771n5l1f_f8gbbftkjy80000gn/T/tmpn4mh8mq3/temp_HERO_gka_modulate_direction-S_peripheral_adapt-5_side-RDLC_Resnet50_santini_eyelid_detectionJul182025shuffle1_snapshot_220.h5']\n",
      "Model weights already exist!\n",
      "Analyzing videos with /Users/zacharykelly/Library/Application Support/pylids/pytorch-eyelid-v1/dlc-models-pytorch/iteration-0/santini_eyelid_detectionJul182025-trainset99shuffle1/train/snapshot-best-110.pt\n",
      "Starting to analyze temp_blnk_pipeline/temp_HERO_gka_modulate_direction-S_peripheral_adapt-5_side-R.avi\n",
      "Video metadata: \n",
      "  Overall # of frames:    9900\n",
      "  Duration of video [s]:  55.00\n",
      "  fps:                    180.0\n",
      "  resolution:             w=640, h=480\n",
      "\n",
      "Running pose prediction with batch size 8\n"
     ]
    },
    {
     "name": "stderr",
     "output_type": "stream",
     "text": [
      "100%|██████████| 9900/9900 [07:25<00:00, 22.21it/s]\n"
     ]
    },
    {
     "name": "stdout",
     "output_type": "stream",
     "text": [
      "Saving results in /var/folders/g_/1p95771n5l1f_f8gbbftkjy80000gn/T/tmpguvqtdci/temp_HERO_gka_modulate_direction-S_peripheral_adapt-5_side-RDLC_Resnet50_santini_eyelid_detectionJul182025shuffle1_snapshot_110.h5 and /var/folders/g_/1p95771n5l1f_f8gbbftkjy80000gn/T/tmpguvqtdci/temp_HERO_gka_modulate_direction-S_peripheral_adapt-5_side-RDLC_Resnet50_santini_eyelid_detectionJul182025shuffle1_snapshot_110_full.pickle\n",
      "The videos are analyzed. Now your research can truly start!\n",
      "You can create labeled videos with 'create_labeled_video'.\n",
      "If the tracking is not satisfactory for some videos, consider expanding the training set. You can use the function 'extract_outlier_frames' to extract a few representative outlier frames.\n",
      "\n",
      "['/var/folders/g_/1p95771n5l1f_f8gbbftkjy80000gn/T/tmpguvqtdci/temp_HERO_gka_modulate_direction-S_peripheral_adapt-5_side-RDLC_Resnet50_santini_eyelid_detectionJul182025shuffle1_snapshot_110.h5']\n",
      "Processing: 14/29\n",
      "Model weights already exist!\n",
      "Analyzing videos with /Users/zacharykelly/Library/Application Support/pylids/pytorch-pupil-v1/dlc-models-pytorch/iteration-0/santini_eyelid_detectionJul182025-trainset99shuffle1/train/snapshot-best-220.pt\n",
      "Starting to analyze temp_blnk_pipeline/temp_HERO_gka_modulatedirection-Mel_phase-3.14_trial-004_side-R.avi\n",
      "Video metadata: \n",
      "  Overall # of frames:    11160\n",
      "  Duration of video [s]:  62.00\n",
      "  fps:                    180.0\n",
      "  resolution:             w=640, h=480\n",
      "\n",
      "Running pose prediction with batch size 8\n"
     ]
    },
    {
     "name": "stderr",
     "output_type": "stream",
     "text": [
      "100%|██████████| 11160/11160 [06:18<00:00, 29.45it/s]\n"
     ]
    },
    {
     "name": "stdout",
     "output_type": "stream",
     "text": [
      "Saving results in /var/folders/g_/1p95771n5l1f_f8gbbftkjy80000gn/T/tmpfgc4zs1v/temp_HERO_gka_modulatedirection-Mel_phase-3.14_trial-004_side-RDLC_Resnet50_santini_eyelid_detectionJul182025shuffle1_snapshot_220.h5 and /var/folders/g_/1p95771n5l1f_f8gbbftkjy80000gn/T/tmpfgc4zs1v/temp_HERO_gka_modulatedirection-Mel_phase-3.14_trial-004_side-RDLC_Resnet50_santini_eyelid_detectionJul182025shuffle1_snapshot_220_full.pickle\n",
      "The videos are analyzed. Now your research can truly start!\n",
      "You can create labeled videos with 'create_labeled_video'.\n",
      "If the tracking is not satisfactory for some videos, consider expanding the training set. You can use the function 'extract_outlier_frames' to extract a few representative outlier frames.\n",
      "\n",
      "['/var/folders/g_/1p95771n5l1f_f8gbbftkjy80000gn/T/tmpfgc4zs1v/temp_HERO_gka_modulatedirection-Mel_phase-3.14_trial-004_side-RDLC_Resnet50_santini_eyelid_detectionJul182025shuffle1_snapshot_220.h5']\n",
      "Model weights already exist!\n",
      "Analyzing videos with /Users/zacharykelly/Library/Application Support/pylids/pytorch-eyelid-v1/dlc-models-pytorch/iteration-0/santini_eyelid_detectionJul182025-trainset99shuffle1/train/snapshot-best-110.pt\n",
      "Starting to analyze temp_blnk_pipeline/temp_HERO_gka_modulatedirection-Mel_phase-3.14_trial-004_side-R.avi\n",
      "Video metadata: \n",
      "  Overall # of frames:    11160\n",
      "  Duration of video [s]:  62.00\n",
      "  fps:                    180.0\n",
      "  resolution:             w=640, h=480\n",
      "\n",
      "Running pose prediction with batch size 8\n"
     ]
    },
    {
     "name": "stderr",
     "output_type": "stream",
     "text": [
      "100%|██████████| 11160/11160 [08:22<00:00, 22.21it/s]\n"
     ]
    },
    {
     "name": "stdout",
     "output_type": "stream",
     "text": [
      "Saving results in /var/folders/g_/1p95771n5l1f_f8gbbftkjy80000gn/T/tmp6mwmsi3p/temp_HERO_gka_modulatedirection-Mel_phase-3.14_trial-004_side-RDLC_Resnet50_santini_eyelid_detectionJul182025shuffle1_snapshot_110.h5 and /var/folders/g_/1p95771n5l1f_f8gbbftkjy80000gn/T/tmp6mwmsi3p/temp_HERO_gka_modulatedirection-Mel_phase-3.14_trial-004_side-RDLC_Resnet50_santini_eyelid_detectionJul182025shuffle1_snapshot_110_full.pickle\n",
      "The videos are analyzed. Now your research can truly start!\n",
      "You can create labeled videos with 'create_labeled_video'.\n",
      "If the tracking is not satisfactory for some videos, consider expanding the training set. You can use the function 'extract_outlier_frames' to extract a few representative outlier frames.\n",
      "\n",
      "['/var/folders/g_/1p95771n5l1f_f8gbbftkjy80000gn/T/tmp6mwmsi3p/temp_HERO_gka_modulatedirection-Mel_phase-3.14_trial-004_side-RDLC_Resnet50_santini_eyelid_detectionJul182025shuffle1_snapshot_110.h5']\n",
      "Processing: 15/29\n",
      "Model weights already exist!\n",
      "Analyzing videos with /Users/zacharykelly/Library/Application Support/pylids/pytorch-pupil-v1/dlc-models-pytorch/iteration-0/santini_eyelid_detectionJul182025-trainset99shuffle1/train/snapshot-best-220.pt\n",
      "Starting to analyze temp_blnk_pipeline/temp_HERO_gka_modulatedirection-LMS_phase-0.00_trial-004_side-R.avi\n",
      "Video metadata: \n",
      "  Overall # of frames:    11160\n",
      "  Duration of video [s]:  62.00\n",
      "  fps:                    180.0\n",
      "  resolution:             w=640, h=480\n",
      "\n",
      "Running pose prediction with batch size 8\n"
     ]
    },
    {
     "name": "stderr",
     "output_type": "stream",
     "text": [
      "100%|██████████| 11160/11160 [06:20<00:00, 29.33it/s]\n"
     ]
    },
    {
     "name": "stdout",
     "output_type": "stream",
     "text": [
      "Saving results in /var/folders/g_/1p95771n5l1f_f8gbbftkjy80000gn/T/tmp39f_qiag/temp_HERO_gka_modulatedirection-LMS_phase-0.00_trial-004_side-RDLC_Resnet50_santini_eyelid_detectionJul182025shuffle1_snapshot_220.h5 and /var/folders/g_/1p95771n5l1f_f8gbbftkjy80000gn/T/tmp39f_qiag/temp_HERO_gka_modulatedirection-LMS_phase-0.00_trial-004_side-RDLC_Resnet50_santini_eyelid_detectionJul182025shuffle1_snapshot_220_full.pickle\n",
      "The videos are analyzed. Now your research can truly start!\n",
      "You can create labeled videos with 'create_labeled_video'.\n",
      "If the tracking is not satisfactory for some videos, consider expanding the training set. You can use the function 'extract_outlier_frames' to extract a few representative outlier frames.\n",
      "\n",
      "['/var/folders/g_/1p95771n5l1f_f8gbbftkjy80000gn/T/tmp39f_qiag/temp_HERO_gka_modulatedirection-LMS_phase-0.00_trial-004_side-RDLC_Resnet50_santini_eyelid_detectionJul182025shuffle1_snapshot_220.h5']\n",
      "Model weights already exist!\n",
      "Analyzing videos with /Users/zacharykelly/Library/Application Support/pylids/pytorch-eyelid-v1/dlc-models-pytorch/iteration-0/santini_eyelid_detectionJul182025-trainset99shuffle1/train/snapshot-best-110.pt\n",
      "Starting to analyze temp_blnk_pipeline/temp_HERO_gka_modulatedirection-LMS_phase-0.00_trial-004_side-R.avi\n",
      "Video metadata: \n",
      "  Overall # of frames:    11160\n",
      "  Duration of video [s]:  62.00\n",
      "  fps:                    180.0\n",
      "  resolution:             w=640, h=480\n",
      "\n",
      "Running pose prediction with batch size 8\n"
     ]
    },
    {
     "name": "stderr",
     "output_type": "stream",
     "text": [
      "100%|██████████| 11160/11160 [08:24<00:00, 22.14it/s]\n"
     ]
    },
    {
     "name": "stdout",
     "output_type": "stream",
     "text": [
      "Saving results in /var/folders/g_/1p95771n5l1f_f8gbbftkjy80000gn/T/tmpohxbc920/temp_HERO_gka_modulatedirection-LMS_phase-0.00_trial-004_side-RDLC_Resnet50_santini_eyelid_detectionJul182025shuffle1_snapshot_110.h5 and /var/folders/g_/1p95771n5l1f_f8gbbftkjy80000gn/T/tmpohxbc920/temp_HERO_gka_modulatedirection-LMS_phase-0.00_trial-004_side-RDLC_Resnet50_santini_eyelid_detectionJul182025shuffle1_snapshot_110_full.pickle\n",
      "The videos are analyzed. Now your research can truly start!\n",
      "You can create labeled videos with 'create_labeled_video'.\n",
      "If the tracking is not satisfactory for some videos, consider expanding the training set. You can use the function 'extract_outlier_frames' to extract a few representative outlier frames.\n",
      "\n",
      "['/var/folders/g_/1p95771n5l1f_f8gbbftkjy80000gn/T/tmpohxbc920/temp_HERO_gka_modulatedirection-LMS_phase-0.00_trial-004_side-RDLC_Resnet50_santini_eyelid_detectionJul182025shuffle1_snapshot_110.h5']\n",
      "Processing: 16/29\n",
      "Model weights already exist!\n",
      "Analyzing videos with /Users/zacharykelly/Library/Application Support/pylids/pytorch-pupil-v1/dlc-models-pytorch/iteration-0/santini_eyelid_detectionJul182025-trainset99shuffle1/train/snapshot-best-220.pt\n",
      "Starting to analyze temp_blnk_pipeline/temp_HERO_gka_modulatedirection-S_peripheral_phase-3.14_trial-004_side-R.avi\n",
      "Video metadata: \n",
      "  Overall # of frames:    11160\n",
      "  Duration of video [s]:  62.00\n",
      "  fps:                    180.0\n",
      "  resolution:             w=640, h=480\n",
      "\n",
      "Running pose prediction with batch size 8\n"
     ]
    },
    {
     "name": "stderr",
     "output_type": "stream",
     "text": [
      "100%|██████████| 11160/11160 [06:19<00:00, 29.42it/s]\n"
     ]
    },
    {
     "name": "stdout",
     "output_type": "stream",
     "text": [
      "Saving results in /var/folders/g_/1p95771n5l1f_f8gbbftkjy80000gn/T/tmp1018np_m/temp_HERO_gka_modulatedirection-S_peripheral_phase-3.14_trial-004_side-RDLC_Resnet50_santini_eyelid_detectionJul182025shuffle1_snapshot_220.h5 and /var/folders/g_/1p95771n5l1f_f8gbbftkjy80000gn/T/tmp1018np_m/temp_HERO_gka_modulatedirection-S_peripheral_phase-3.14_trial-004_side-RDLC_Resnet50_santini_eyelid_detectionJul182025shuffle1_snapshot_220_full.pickle\n",
      "The videos are analyzed. Now your research can truly start!\n",
      "You can create labeled videos with 'create_labeled_video'.\n",
      "If the tracking is not satisfactory for some videos, consider expanding the training set. You can use the function 'extract_outlier_frames' to extract a few representative outlier frames.\n",
      "\n",
      "['/var/folders/g_/1p95771n5l1f_f8gbbftkjy80000gn/T/tmp1018np_m/temp_HERO_gka_modulatedirection-S_peripheral_phase-3.14_trial-004_side-RDLC_Resnet50_santini_eyelid_detectionJul182025shuffle1_snapshot_220.h5']\n",
      "Model weights already exist!\n",
      "Analyzing videos with /Users/zacharykelly/Library/Application Support/pylids/pytorch-eyelid-v1/dlc-models-pytorch/iteration-0/santini_eyelid_detectionJul182025-trainset99shuffle1/train/snapshot-best-110.pt\n",
      "Starting to analyze temp_blnk_pipeline/temp_HERO_gka_modulatedirection-S_peripheral_phase-3.14_trial-004_side-R.avi\n",
      "Video metadata: \n",
      "  Overall # of frames:    11160\n",
      "  Duration of video [s]:  62.00\n",
      "  fps:                    180.0\n",
      "  resolution:             w=640, h=480\n",
      "\n",
      "Running pose prediction with batch size 8\n"
     ]
    },
    {
     "name": "stderr",
     "output_type": "stream",
     "text": [
      "100%|██████████| 11160/11160 [08:23<00:00, 22.16it/s]\n"
     ]
    },
    {
     "name": "stdout",
     "output_type": "stream",
     "text": [
      "Saving results in /var/folders/g_/1p95771n5l1f_f8gbbftkjy80000gn/T/tmpk3_wkvsg/temp_HERO_gka_modulatedirection-S_peripheral_phase-3.14_trial-004_side-RDLC_Resnet50_santini_eyelid_detectionJul182025shuffle1_snapshot_110.h5 and /var/folders/g_/1p95771n5l1f_f8gbbftkjy80000gn/T/tmpk3_wkvsg/temp_HERO_gka_modulatedirection-S_peripheral_phase-3.14_trial-004_side-RDLC_Resnet50_santini_eyelid_detectionJul182025shuffle1_snapshot_110_full.pickle\n",
      "The videos are analyzed. Now your research can truly start!\n",
      "You can create labeled videos with 'create_labeled_video'.\n",
      "If the tracking is not satisfactory for some videos, consider expanding the training set. You can use the function 'extract_outlier_frames' to extract a few representative outlier frames.\n",
      "\n",
      "['/var/folders/g_/1p95771n5l1f_f8gbbftkjy80000gn/T/tmpk3_wkvsg/temp_HERO_gka_modulatedirection-S_peripheral_phase-3.14_trial-004_side-RDLC_Resnet50_santini_eyelid_detectionJul182025shuffle1_snapshot_110.h5']\n",
      "Processing: 17/29\n",
      "Model weights already exist!\n",
      "Analyzing videos with /Users/zacharykelly/Library/Application Support/pylids/pytorch-pupil-v1/dlc-models-pytorch/iteration-0/santini_eyelid_detectionJul182025-trainset99shuffle1/train/snapshot-best-220.pt\n",
      "Starting to analyze temp_blnk_pipeline/temp_HERO_gka_modulate_direction-S_peripheral_adapt-3_side-R.avi\n",
      "Video metadata: \n",
      "  Overall # of frames:    9900\n",
      "  Duration of video [s]:  55.00\n",
      "  fps:                    180.0\n",
      "  resolution:             w=640, h=480\n",
      "\n",
      "Running pose prediction with batch size 8\n"
     ]
    },
    {
     "name": "stderr",
     "output_type": "stream",
     "text": [
      "100%|██████████| 9900/9900 [05:35<00:00, 29.50it/s]\n"
     ]
    },
    {
     "name": "stdout",
     "output_type": "stream",
     "text": [
      "Saving results in /var/folders/g_/1p95771n5l1f_f8gbbftkjy80000gn/T/tmpj_vgpup3/temp_HERO_gka_modulate_direction-S_peripheral_adapt-3_side-RDLC_Resnet50_santini_eyelid_detectionJul182025shuffle1_snapshot_220.h5 and /var/folders/g_/1p95771n5l1f_f8gbbftkjy80000gn/T/tmpj_vgpup3/temp_HERO_gka_modulate_direction-S_peripheral_adapt-3_side-RDLC_Resnet50_santini_eyelid_detectionJul182025shuffle1_snapshot_220_full.pickle\n",
      "The videos are analyzed. Now your research can truly start!\n",
      "You can create labeled videos with 'create_labeled_video'.\n",
      "If the tracking is not satisfactory for some videos, consider expanding the training set. You can use the function 'extract_outlier_frames' to extract a few representative outlier frames.\n",
      "\n",
      "['/var/folders/g_/1p95771n5l1f_f8gbbftkjy80000gn/T/tmpj_vgpup3/temp_HERO_gka_modulate_direction-S_peripheral_adapt-3_side-RDLC_Resnet50_santini_eyelid_detectionJul182025shuffle1_snapshot_220.h5']\n",
      "Model weights already exist!\n",
      "Analyzing videos with /Users/zacharykelly/Library/Application Support/pylids/pytorch-eyelid-v1/dlc-models-pytorch/iteration-0/santini_eyelid_detectionJul182025-trainset99shuffle1/train/snapshot-best-110.pt\n",
      "Starting to analyze temp_blnk_pipeline/temp_HERO_gka_modulate_direction-S_peripheral_adapt-3_side-R.avi\n",
      "Video metadata: \n",
      "  Overall # of frames:    9900\n",
      "  Duration of video [s]:  55.00\n",
      "  fps:                    180.0\n",
      "  resolution:             w=640, h=480\n",
      "\n",
      "Running pose prediction with batch size 8\n"
     ]
    },
    {
     "name": "stderr",
     "output_type": "stream",
     "text": [
      "100%|██████████| 9900/9900 [07:27<00:00, 22.13it/s]\n"
     ]
    },
    {
     "name": "stdout",
     "output_type": "stream",
     "text": [
      "Saving results in /var/folders/g_/1p95771n5l1f_f8gbbftkjy80000gn/T/tmpumfswg50/temp_HERO_gka_modulate_direction-S_peripheral_adapt-3_side-RDLC_Resnet50_santini_eyelid_detectionJul182025shuffle1_snapshot_110.h5 and /var/folders/g_/1p95771n5l1f_f8gbbftkjy80000gn/T/tmpumfswg50/temp_HERO_gka_modulate_direction-S_peripheral_adapt-3_side-RDLC_Resnet50_santini_eyelid_detectionJul182025shuffle1_snapshot_110_full.pickle\n",
      "The videos are analyzed. Now your research can truly start!\n",
      "You can create labeled videos with 'create_labeled_video'.\n",
      "If the tracking is not satisfactory for some videos, consider expanding the training set. You can use the function 'extract_outlier_frames' to extract a few representative outlier frames.\n",
      "\n",
      "['/var/folders/g_/1p95771n5l1f_f8gbbftkjy80000gn/T/tmpumfswg50/temp_HERO_gka_modulate_direction-S_peripheral_adapt-3_side-RDLC_Resnet50_santini_eyelid_detectionJul182025shuffle1_snapshot_110.h5']\n",
      "Processing: 18/29\n",
      "Model weights already exist!\n",
      "Analyzing videos with /Users/zacharykelly/Library/Application Support/pylids/pytorch-pupil-v1/dlc-models-pytorch/iteration-0/santini_eyelid_detectionJul182025-trainset99shuffle1/train/snapshot-best-220.pt\n",
      "Starting to analyze temp_blnk_pipeline/temp_HERO_gka_modulatedirection-S_peripheral_phase-3.14_trial-001_side-R.avi\n",
      "Video metadata: \n",
      "  Overall # of frames:    11160\n",
      "  Duration of video [s]:  62.00\n",
      "  fps:                    180.0\n",
      "  resolution:             w=640, h=480\n",
      "\n",
      "Running pose prediction with batch size 8\n"
     ]
    },
    {
     "name": "stderr",
     "output_type": "stream",
     "text": [
      "100%|██████████| 11160/11160 [06:19<00:00, 29.37it/s]\n"
     ]
    },
    {
     "name": "stdout",
     "output_type": "stream",
     "text": [
      "Saving results in /var/folders/g_/1p95771n5l1f_f8gbbftkjy80000gn/T/tmpthww9ch0/temp_HERO_gka_modulatedirection-S_peripheral_phase-3.14_trial-001_side-RDLC_Resnet50_santini_eyelid_detectionJul182025shuffle1_snapshot_220.h5 and /var/folders/g_/1p95771n5l1f_f8gbbftkjy80000gn/T/tmpthww9ch0/temp_HERO_gka_modulatedirection-S_peripheral_phase-3.14_trial-001_side-RDLC_Resnet50_santini_eyelid_detectionJul182025shuffle1_snapshot_220_full.pickle\n",
      "The videos are analyzed. Now your research can truly start!\n",
      "You can create labeled videos with 'create_labeled_video'.\n",
      "If the tracking is not satisfactory for some videos, consider expanding the training set. You can use the function 'extract_outlier_frames' to extract a few representative outlier frames.\n",
      "\n",
      "['/var/folders/g_/1p95771n5l1f_f8gbbftkjy80000gn/T/tmpthww9ch0/temp_HERO_gka_modulatedirection-S_peripheral_phase-3.14_trial-001_side-RDLC_Resnet50_santini_eyelid_detectionJul182025shuffle1_snapshot_220.h5']\n",
      "Model weights already exist!\n",
      "Analyzing videos with /Users/zacharykelly/Library/Application Support/pylids/pytorch-eyelid-v1/dlc-models-pytorch/iteration-0/santini_eyelid_detectionJul182025-trainset99shuffle1/train/snapshot-best-110.pt\n",
      "Starting to analyze temp_blnk_pipeline/temp_HERO_gka_modulatedirection-S_peripheral_phase-3.14_trial-001_side-R.avi\n",
      "Video metadata: \n",
      "  Overall # of frames:    11160\n",
      "  Duration of video [s]:  62.00\n",
      "  fps:                    180.0\n",
      "  resolution:             w=640, h=480\n",
      "\n",
      "Running pose prediction with batch size 8\n"
     ]
    },
    {
     "name": "stderr",
     "output_type": "stream",
     "text": [
      "100%|██████████| 11160/11160 [08:23<00:00, 22.15it/s]\n"
     ]
    },
    {
     "name": "stdout",
     "output_type": "stream",
     "text": [
      "Saving results in /var/folders/g_/1p95771n5l1f_f8gbbftkjy80000gn/T/tmptb0x6v2u/temp_HERO_gka_modulatedirection-S_peripheral_phase-3.14_trial-001_side-RDLC_Resnet50_santini_eyelid_detectionJul182025shuffle1_snapshot_110.h5 and /var/folders/g_/1p95771n5l1f_f8gbbftkjy80000gn/T/tmptb0x6v2u/temp_HERO_gka_modulatedirection-S_peripheral_phase-3.14_trial-001_side-RDLC_Resnet50_santini_eyelid_detectionJul182025shuffle1_snapshot_110_full.pickle\n",
      "The videos are analyzed. Now your research can truly start!\n",
      "You can create labeled videos with 'create_labeled_video'.\n",
      "If the tracking is not satisfactory for some videos, consider expanding the training set. You can use the function 'extract_outlier_frames' to extract a few representative outlier frames.\n",
      "\n",
      "['/var/folders/g_/1p95771n5l1f_f8gbbftkjy80000gn/T/tmptb0x6v2u/temp_HERO_gka_modulatedirection-S_peripheral_phase-3.14_trial-001_side-RDLC_Resnet50_santini_eyelid_detectionJul182025shuffle1_snapshot_110.h5']\n",
      "Processing: 19/29\n",
      "Model weights already exist!\n",
      "Analyzing videos with /Users/zacharykelly/Library/Application Support/pylids/pytorch-pupil-v1/dlc-models-pytorch/iteration-0/santini_eyelid_detectionJul182025-trainset99shuffle1/train/snapshot-best-220.pt\n",
      "Starting to analyze temp_blnk_pipeline/temp_HERO_gka_modulatedirection-Mel_phase-3.14_trial-001_side-R.avi\n",
      "Video metadata: \n",
      "  Overall # of frames:    11160\n",
      "  Duration of video [s]:  62.00\n",
      "  fps:                    180.0\n",
      "  resolution:             w=640, h=480\n",
      "\n",
      "Running pose prediction with batch size 8\n"
     ]
    },
    {
     "name": "stderr",
     "output_type": "stream",
     "text": [
      "100%|██████████| 11160/11160 [06:20<00:00, 29.32it/s]\n"
     ]
    },
    {
     "name": "stdout",
     "output_type": "stream",
     "text": [
      "Saving results in /var/folders/g_/1p95771n5l1f_f8gbbftkjy80000gn/T/tmpsvnmh2br/temp_HERO_gka_modulatedirection-Mel_phase-3.14_trial-001_side-RDLC_Resnet50_santini_eyelid_detectionJul182025shuffle1_snapshot_220.h5 and /var/folders/g_/1p95771n5l1f_f8gbbftkjy80000gn/T/tmpsvnmh2br/temp_HERO_gka_modulatedirection-Mel_phase-3.14_trial-001_side-RDLC_Resnet50_santini_eyelid_detectionJul182025shuffle1_snapshot_220_full.pickle\n",
      "The videos are analyzed. Now your research can truly start!\n",
      "You can create labeled videos with 'create_labeled_video'.\n",
      "If the tracking is not satisfactory for some videos, consider expanding the training set. You can use the function 'extract_outlier_frames' to extract a few representative outlier frames.\n",
      "\n",
      "['/var/folders/g_/1p95771n5l1f_f8gbbftkjy80000gn/T/tmpsvnmh2br/temp_HERO_gka_modulatedirection-Mel_phase-3.14_trial-001_side-RDLC_Resnet50_santini_eyelid_detectionJul182025shuffle1_snapshot_220.h5']\n",
      "Model weights already exist!\n",
      "Analyzing videos with /Users/zacharykelly/Library/Application Support/pylids/pytorch-eyelid-v1/dlc-models-pytorch/iteration-0/santini_eyelid_detectionJul182025-trainset99shuffle1/train/snapshot-best-110.pt\n",
      "Starting to analyze temp_blnk_pipeline/temp_HERO_gka_modulatedirection-Mel_phase-3.14_trial-001_side-R.avi\n",
      "Video metadata: \n",
      "  Overall # of frames:    11160\n",
      "  Duration of video [s]:  62.00\n",
      "  fps:                    180.0\n",
      "  resolution:             w=640, h=480\n",
      "\n",
      "Running pose prediction with batch size 8\n"
     ]
    },
    {
     "name": "stderr",
     "output_type": "stream",
     "text": [
      "100%|██████████| 11160/11160 [08:24<00:00, 22.13it/s]\n"
     ]
    },
    {
     "name": "stdout",
     "output_type": "stream",
     "text": [
      "Saving results in /var/folders/g_/1p95771n5l1f_f8gbbftkjy80000gn/T/tmp86esi38h/temp_HERO_gka_modulatedirection-Mel_phase-3.14_trial-001_side-RDLC_Resnet50_santini_eyelid_detectionJul182025shuffle1_snapshot_110.h5 and /var/folders/g_/1p95771n5l1f_f8gbbftkjy80000gn/T/tmp86esi38h/temp_HERO_gka_modulatedirection-Mel_phase-3.14_trial-001_side-RDLC_Resnet50_santini_eyelid_detectionJul182025shuffle1_snapshot_110_full.pickle\n",
      "The videos are analyzed. Now your research can truly start!\n",
      "You can create labeled videos with 'create_labeled_video'.\n",
      "If the tracking is not satisfactory for some videos, consider expanding the training set. You can use the function 'extract_outlier_frames' to extract a few representative outlier frames.\n",
      "\n",
      "['/var/folders/g_/1p95771n5l1f_f8gbbftkjy80000gn/T/tmp86esi38h/temp_HERO_gka_modulatedirection-Mel_phase-3.14_trial-001_side-RDLC_Resnet50_santini_eyelid_detectionJul182025shuffle1_snapshot_110.h5']\n",
      "Processing: 20/29\n",
      "Model weights already exist!\n",
      "Analyzing videos with /Users/zacharykelly/Library/Application Support/pylids/pytorch-pupil-v1/dlc-models-pytorch/iteration-0/santini_eyelid_detectionJul182025-trainset99shuffle1/train/snapshot-best-220.pt\n",
      "Starting to analyze temp_blnk_pipeline/temp_HERO_gka_modulatedirection-LMS_phase-0.00_trial-001_side-R.avi\n",
      "Video metadata: \n",
      "  Overall # of frames:    11160\n",
      "  Duration of video [s]:  62.00\n",
      "  fps:                    180.0\n",
      "  resolution:             w=640, h=480\n",
      "\n",
      "Running pose prediction with batch size 8\n"
     ]
    },
    {
     "name": "stderr",
     "output_type": "stream",
     "text": [
      "100%|██████████| 11160/11160 [06:19<00:00, 29.37it/s]\n"
     ]
    },
    {
     "name": "stdout",
     "output_type": "stream",
     "text": [
      "Saving results in /var/folders/g_/1p95771n5l1f_f8gbbftkjy80000gn/T/tmpmlp2p6_o/temp_HERO_gka_modulatedirection-LMS_phase-0.00_trial-001_side-RDLC_Resnet50_santini_eyelid_detectionJul182025shuffle1_snapshot_220.h5 and /var/folders/g_/1p95771n5l1f_f8gbbftkjy80000gn/T/tmpmlp2p6_o/temp_HERO_gka_modulatedirection-LMS_phase-0.00_trial-001_side-RDLC_Resnet50_santini_eyelid_detectionJul182025shuffle1_snapshot_220_full.pickle\n",
      "The videos are analyzed. Now your research can truly start!\n",
      "You can create labeled videos with 'create_labeled_video'.\n",
      "If the tracking is not satisfactory for some videos, consider expanding the training set. You can use the function 'extract_outlier_frames' to extract a few representative outlier frames.\n",
      "\n",
      "['/var/folders/g_/1p95771n5l1f_f8gbbftkjy80000gn/T/tmpmlp2p6_o/temp_HERO_gka_modulatedirection-LMS_phase-0.00_trial-001_side-RDLC_Resnet50_santini_eyelid_detectionJul182025shuffle1_snapshot_220.h5']\n",
      "Model weights already exist!\n",
      "Analyzing videos with /Users/zacharykelly/Library/Application Support/pylids/pytorch-eyelid-v1/dlc-models-pytorch/iteration-0/santini_eyelid_detectionJul182025-trainset99shuffle1/train/snapshot-best-110.pt\n",
      "Starting to analyze temp_blnk_pipeline/temp_HERO_gka_modulatedirection-LMS_phase-0.00_trial-001_side-R.avi\n",
      "Video metadata: \n",
      "  Overall # of frames:    11160\n",
      "  Duration of video [s]:  62.00\n",
      "  fps:                    180.0\n",
      "  resolution:             w=640, h=480\n",
      "\n",
      "Running pose prediction with batch size 8\n"
     ]
    },
    {
     "name": "stderr",
     "output_type": "stream",
     "text": [
      "100%|██████████| 11160/11160 [08:23<00:00, 22.16it/s]\n"
     ]
    },
    {
     "name": "stdout",
     "output_type": "stream",
     "text": [
      "Saving results in /var/folders/g_/1p95771n5l1f_f8gbbftkjy80000gn/T/tmppkwpcusm/temp_HERO_gka_modulatedirection-LMS_phase-0.00_trial-001_side-RDLC_Resnet50_santini_eyelid_detectionJul182025shuffle1_snapshot_110.h5 and /var/folders/g_/1p95771n5l1f_f8gbbftkjy80000gn/T/tmppkwpcusm/temp_HERO_gka_modulatedirection-LMS_phase-0.00_trial-001_side-RDLC_Resnet50_santini_eyelid_detectionJul182025shuffle1_snapshot_110_full.pickle\n",
      "The videos are analyzed. Now your research can truly start!\n",
      "You can create labeled videos with 'create_labeled_video'.\n",
      "If the tracking is not satisfactory for some videos, consider expanding the training set. You can use the function 'extract_outlier_frames' to extract a few representative outlier frames.\n",
      "\n",
      "['/var/folders/g_/1p95771n5l1f_f8gbbftkjy80000gn/T/tmppkwpcusm/temp_HERO_gka_modulatedirection-LMS_phase-0.00_trial-001_side-RDLC_Resnet50_santini_eyelid_detectionJul182025shuffle1_snapshot_110.h5']\n",
      "Processing: 21/29\n",
      "Model weights already exist!\n",
      "Analyzing videos with /Users/zacharykelly/Library/Application Support/pylids/pytorch-pupil-v1/dlc-models-pytorch/iteration-0/santini_eyelid_detectionJul182025-trainset99shuffle1/train/snapshot-best-220.pt\n",
      "Starting to analyze temp_blnk_pipeline/temp_HERO_gka_modulate_direction-S_peripheral_adapt-4_side-R.avi\n",
      "Video metadata: \n",
      "  Overall # of frames:    9900\n",
      "  Duration of video [s]:  55.00\n",
      "  fps:                    180.0\n",
      "  resolution:             w=640, h=480\n",
      "\n",
      "Running pose prediction with batch size 8\n"
     ]
    },
    {
     "name": "stderr",
     "output_type": "stream",
     "text": [
      "100%|██████████| 9900/9900 [05:36<00:00, 29.38it/s]\n"
     ]
    },
    {
     "name": "stdout",
     "output_type": "stream",
     "text": [
      "Saving results in /var/folders/g_/1p95771n5l1f_f8gbbftkjy80000gn/T/tmpvka6_lkn/temp_HERO_gka_modulate_direction-S_peripheral_adapt-4_side-RDLC_Resnet50_santini_eyelid_detectionJul182025shuffle1_snapshot_220.h5 and /var/folders/g_/1p95771n5l1f_f8gbbftkjy80000gn/T/tmpvka6_lkn/temp_HERO_gka_modulate_direction-S_peripheral_adapt-4_side-RDLC_Resnet50_santini_eyelid_detectionJul182025shuffle1_snapshot_220_full.pickle\n",
      "The videos are analyzed. Now your research can truly start!\n",
      "You can create labeled videos with 'create_labeled_video'.\n",
      "If the tracking is not satisfactory for some videos, consider expanding the training set. You can use the function 'extract_outlier_frames' to extract a few representative outlier frames.\n",
      "\n",
      "['/var/folders/g_/1p95771n5l1f_f8gbbftkjy80000gn/T/tmpvka6_lkn/temp_HERO_gka_modulate_direction-S_peripheral_adapt-4_side-RDLC_Resnet50_santini_eyelid_detectionJul182025shuffle1_snapshot_220.h5']\n",
      "Model weights already exist!\n",
      "Analyzing videos with /Users/zacharykelly/Library/Application Support/pylids/pytorch-eyelid-v1/dlc-models-pytorch/iteration-0/santini_eyelid_detectionJul182025-trainset99shuffle1/train/snapshot-best-110.pt\n",
      "Starting to analyze temp_blnk_pipeline/temp_HERO_gka_modulate_direction-S_peripheral_adapt-4_side-R.avi\n",
      "Video metadata: \n",
      "  Overall # of frames:    9900\n",
      "  Duration of video [s]:  55.00\n",
      "  fps:                    180.0\n",
      "  resolution:             w=640, h=480\n",
      "\n",
      "Running pose prediction with batch size 8\n"
     ]
    },
    {
     "name": "stderr",
     "output_type": "stream",
     "text": [
      "100%|██████████| 9900/9900 [07:27<00:00, 22.14it/s]\n"
     ]
    },
    {
     "name": "stdout",
     "output_type": "stream",
     "text": [
      "Saving results in /var/folders/g_/1p95771n5l1f_f8gbbftkjy80000gn/T/tmp_01s88ya/temp_HERO_gka_modulate_direction-S_peripheral_adapt-4_side-RDLC_Resnet50_santini_eyelid_detectionJul182025shuffle1_snapshot_110.h5 and /var/folders/g_/1p95771n5l1f_f8gbbftkjy80000gn/T/tmp_01s88ya/temp_HERO_gka_modulate_direction-S_peripheral_adapt-4_side-RDLC_Resnet50_santini_eyelid_detectionJul182025shuffle1_snapshot_110_full.pickle\n",
      "The videos are analyzed. Now your research can truly start!\n",
      "You can create labeled videos with 'create_labeled_video'.\n",
      "If the tracking is not satisfactory for some videos, consider expanding the training set. You can use the function 'extract_outlier_frames' to extract a few representative outlier frames.\n",
      "\n",
      "['/var/folders/g_/1p95771n5l1f_f8gbbftkjy80000gn/T/tmp_01s88ya/temp_HERO_gka_modulate_direction-S_peripheral_adapt-4_side-RDLC_Resnet50_santini_eyelid_detectionJul182025shuffle1_snapshot_110.h5']\n",
      "Processing: 22/29\n",
      "Model weights already exist!\n",
      "Analyzing videos with /Users/zacharykelly/Library/Application Support/pylids/pytorch-pupil-v1/dlc-models-pytorch/iteration-0/santini_eyelid_detectionJul182025-trainset99shuffle1/train/snapshot-best-220.pt\n",
      "Starting to analyze temp_blnk_pipeline/temp_HERO_gka_modulate_direction-S_peripheral_adapt-1_side-R.avi\n",
      "Video metadata: \n",
      "  Overall # of frames:    9900\n",
      "  Duration of video [s]:  55.00\n",
      "  fps:                    180.0\n",
      "  resolution:             w=640, h=480\n",
      "\n",
      "Running pose prediction with batch size 8\n"
     ]
    },
    {
     "name": "stderr",
     "output_type": "stream",
     "text": [
      "100%|██████████| 9900/9900 [05:36<00:00, 29.39it/s]\n"
     ]
    },
    {
     "name": "stdout",
     "output_type": "stream",
     "text": [
      "Saving results in /var/folders/g_/1p95771n5l1f_f8gbbftkjy80000gn/T/tmp09ifz9rj/temp_HERO_gka_modulate_direction-S_peripheral_adapt-1_side-RDLC_Resnet50_santini_eyelid_detectionJul182025shuffle1_snapshot_220.h5 and /var/folders/g_/1p95771n5l1f_f8gbbftkjy80000gn/T/tmp09ifz9rj/temp_HERO_gka_modulate_direction-S_peripheral_adapt-1_side-RDLC_Resnet50_santini_eyelid_detectionJul182025shuffle1_snapshot_220_full.pickle\n",
      "The videos are analyzed. Now your research can truly start!\n",
      "You can create labeled videos with 'create_labeled_video'.\n",
      "If the tracking is not satisfactory for some videos, consider expanding the training set. You can use the function 'extract_outlier_frames' to extract a few representative outlier frames.\n",
      "\n",
      "['/var/folders/g_/1p95771n5l1f_f8gbbftkjy80000gn/T/tmp09ifz9rj/temp_HERO_gka_modulate_direction-S_peripheral_adapt-1_side-RDLC_Resnet50_santini_eyelid_detectionJul182025shuffle1_snapshot_220.h5']\n",
      "Model weights already exist!\n",
      "Analyzing videos with /Users/zacharykelly/Library/Application Support/pylids/pytorch-eyelid-v1/dlc-models-pytorch/iteration-0/santini_eyelid_detectionJul182025-trainset99shuffle1/train/snapshot-best-110.pt\n",
      "Starting to analyze temp_blnk_pipeline/temp_HERO_gka_modulate_direction-S_peripheral_adapt-1_side-R.avi\n",
      "Video metadata: \n",
      "  Overall # of frames:    9900\n",
      "  Duration of video [s]:  55.00\n",
      "  fps:                    180.0\n",
      "  resolution:             w=640, h=480\n",
      "\n",
      "Running pose prediction with batch size 8\n"
     ]
    },
    {
     "name": "stderr",
     "output_type": "stream",
     "text": [
      "100%|██████████| 9900/9900 [07:28<00:00, 22.09it/s]\n"
     ]
    },
    {
     "name": "stdout",
     "output_type": "stream",
     "text": [
      "Saving results in /var/folders/g_/1p95771n5l1f_f8gbbftkjy80000gn/T/tmpwh__x2qu/temp_HERO_gka_modulate_direction-S_peripheral_adapt-1_side-RDLC_Resnet50_santini_eyelid_detectionJul182025shuffle1_snapshot_110.h5 and /var/folders/g_/1p95771n5l1f_f8gbbftkjy80000gn/T/tmpwh__x2qu/temp_HERO_gka_modulate_direction-S_peripheral_adapt-1_side-RDLC_Resnet50_santini_eyelid_detectionJul182025shuffle1_snapshot_110_full.pickle\n",
      "The videos are analyzed. Now your research can truly start!\n",
      "You can create labeled videos with 'create_labeled_video'.\n",
      "If the tracking is not satisfactory for some videos, consider expanding the training set. You can use the function 'extract_outlier_frames' to extract a few representative outlier frames.\n",
      "\n",
      "['/var/folders/g_/1p95771n5l1f_f8gbbftkjy80000gn/T/tmpwh__x2qu/temp_HERO_gka_modulate_direction-S_peripheral_adapt-1_side-RDLC_Resnet50_santini_eyelid_detectionJul182025shuffle1_snapshot_110.h5']\n",
      "Processing: 23/29\n",
      "Model weights already exist!\n",
      "Analyzing videos with /Users/zacharykelly/Library/Application Support/pylids/pytorch-pupil-v1/dlc-models-pytorch/iteration-0/santini_eyelid_detectionJul182025-trainset99shuffle1/train/snapshot-best-220.pt\n",
      "Starting to analyze temp_blnk_pipeline/temp_HERO_gka_modulatedirection-S_peripheral_phase-3.14_trial-003_side-R.avi\n",
      "Video metadata: \n",
      "  Overall # of frames:    11160\n",
      "  Duration of video [s]:  62.00\n",
      "  fps:                    180.0\n",
      "  resolution:             w=640, h=480\n",
      "\n",
      "Running pose prediction with batch size 8\n"
     ]
    },
    {
     "name": "stderr",
     "output_type": "stream",
     "text": [
      "100%|██████████| 11160/11160 [06:18<00:00, 29.48it/s]\n"
     ]
    },
    {
     "name": "stdout",
     "output_type": "stream",
     "text": [
      "Saving results in /var/folders/g_/1p95771n5l1f_f8gbbftkjy80000gn/T/tmpbv3mveni/temp_HERO_gka_modulatedirection-S_peripheral_phase-3.14_trial-003_side-RDLC_Resnet50_santini_eyelid_detectionJul182025shuffle1_snapshot_220.h5 and /var/folders/g_/1p95771n5l1f_f8gbbftkjy80000gn/T/tmpbv3mveni/temp_HERO_gka_modulatedirection-S_peripheral_phase-3.14_trial-003_side-RDLC_Resnet50_santini_eyelid_detectionJul182025shuffle1_snapshot_220_full.pickle\n",
      "The videos are analyzed. Now your research can truly start!\n",
      "You can create labeled videos with 'create_labeled_video'.\n",
      "If the tracking is not satisfactory for some videos, consider expanding the training set. You can use the function 'extract_outlier_frames' to extract a few representative outlier frames.\n",
      "\n",
      "['/var/folders/g_/1p95771n5l1f_f8gbbftkjy80000gn/T/tmpbv3mveni/temp_HERO_gka_modulatedirection-S_peripheral_phase-3.14_trial-003_side-RDLC_Resnet50_santini_eyelid_detectionJul182025shuffle1_snapshot_220.h5']\n",
      "Model weights already exist!\n",
      "Analyzing videos with /Users/zacharykelly/Library/Application Support/pylids/pytorch-eyelid-v1/dlc-models-pytorch/iteration-0/santini_eyelid_detectionJul182025-trainset99shuffle1/train/snapshot-best-110.pt\n",
      "Starting to analyze temp_blnk_pipeline/temp_HERO_gka_modulatedirection-S_peripheral_phase-3.14_trial-003_side-R.avi\n",
      "Video metadata: \n",
      "  Overall # of frames:    11160\n",
      "  Duration of video [s]:  62.00\n",
      "  fps:                    180.0\n",
      "  resolution:             w=640, h=480\n",
      "\n",
      "Running pose prediction with batch size 8\n"
     ]
    },
    {
     "name": "stderr",
     "output_type": "stream",
     "text": [
      "100%|██████████| 11160/11160 [08:21<00:00, 22.25it/s]\n"
     ]
    },
    {
     "name": "stdout",
     "output_type": "stream",
     "text": [
      "Saving results in /var/folders/g_/1p95771n5l1f_f8gbbftkjy80000gn/T/tmp6n0a25qs/temp_HERO_gka_modulatedirection-S_peripheral_phase-3.14_trial-003_side-RDLC_Resnet50_santini_eyelid_detectionJul182025shuffle1_snapshot_110.h5 and /var/folders/g_/1p95771n5l1f_f8gbbftkjy80000gn/T/tmp6n0a25qs/temp_HERO_gka_modulatedirection-S_peripheral_phase-3.14_trial-003_side-RDLC_Resnet50_santini_eyelid_detectionJul182025shuffle1_snapshot_110_full.pickle\n",
      "The videos are analyzed. Now your research can truly start!\n",
      "You can create labeled videos with 'create_labeled_video'.\n",
      "If the tracking is not satisfactory for some videos, consider expanding the training set. You can use the function 'extract_outlier_frames' to extract a few representative outlier frames.\n",
      "\n",
      "['/var/folders/g_/1p95771n5l1f_f8gbbftkjy80000gn/T/tmp6n0a25qs/temp_HERO_gka_modulatedirection-S_peripheral_phase-3.14_trial-003_side-RDLC_Resnet50_santini_eyelid_detectionJul182025shuffle1_snapshot_110.h5']\n",
      "Processing: 24/29\n",
      "Model weights already exist!\n",
      "Analyzing videos with /Users/zacharykelly/Library/Application Support/pylids/pytorch-pupil-v1/dlc-models-pytorch/iteration-0/santini_eyelid_detectionJul182025-trainset99shuffle1/train/snapshot-best-220.pt\n",
      "Starting to analyze temp_blnk_pipeline/temp_HERO_gka_modulatedirection-LMS_phase-3.14_trial-002_side-R.avi\n",
      "Video metadata: \n",
      "  Overall # of frames:    11160\n",
      "  Duration of video [s]:  62.00\n",
      "  fps:                    180.0\n",
      "  resolution:             w=640, h=480\n",
      "\n",
      "Running pose prediction with batch size 8\n"
     ]
    },
    {
     "name": "stderr",
     "output_type": "stream",
     "text": [
      "100%|██████████| 11160/11160 [06:18<00:00, 29.51it/s]\n"
     ]
    },
    {
     "name": "stdout",
     "output_type": "stream",
     "text": [
      "Saving results in /var/folders/g_/1p95771n5l1f_f8gbbftkjy80000gn/T/tmps8w221l4/temp_HERO_gka_modulatedirection-LMS_phase-3.14_trial-002_side-RDLC_Resnet50_santini_eyelid_detectionJul182025shuffle1_snapshot_220.h5 and /var/folders/g_/1p95771n5l1f_f8gbbftkjy80000gn/T/tmps8w221l4/temp_HERO_gka_modulatedirection-LMS_phase-3.14_trial-002_side-RDLC_Resnet50_santini_eyelid_detectionJul182025shuffle1_snapshot_220_full.pickle\n",
      "The videos are analyzed. Now your research can truly start!\n",
      "You can create labeled videos with 'create_labeled_video'.\n",
      "If the tracking is not satisfactory for some videos, consider expanding the training set. You can use the function 'extract_outlier_frames' to extract a few representative outlier frames.\n",
      "\n",
      "['/var/folders/g_/1p95771n5l1f_f8gbbftkjy80000gn/T/tmps8w221l4/temp_HERO_gka_modulatedirection-LMS_phase-3.14_trial-002_side-RDLC_Resnet50_santini_eyelid_detectionJul182025shuffle1_snapshot_220.h5']\n",
      "Model weights already exist!\n",
      "Analyzing videos with /Users/zacharykelly/Library/Application Support/pylids/pytorch-eyelid-v1/dlc-models-pytorch/iteration-0/santini_eyelid_detectionJul182025-trainset99shuffle1/train/snapshot-best-110.pt\n",
      "Starting to analyze temp_blnk_pipeline/temp_HERO_gka_modulatedirection-LMS_phase-3.14_trial-002_side-R.avi\n",
      "Video metadata: \n",
      "  Overall # of frames:    11160\n",
      "  Duration of video [s]:  62.00\n",
      "  fps:                    180.0\n",
      "  resolution:             w=640, h=480\n",
      "\n",
      "Running pose prediction with batch size 8\n"
     ]
    },
    {
     "name": "stderr",
     "output_type": "stream",
     "text": [
      "100%|██████████| 11160/11160 [08:22<00:00, 22.23it/s]\n"
     ]
    },
    {
     "name": "stdout",
     "output_type": "stream",
     "text": [
      "Saving results in /var/folders/g_/1p95771n5l1f_f8gbbftkjy80000gn/T/tmpty1habn0/temp_HERO_gka_modulatedirection-LMS_phase-3.14_trial-002_side-RDLC_Resnet50_santini_eyelid_detectionJul182025shuffle1_snapshot_110.h5 and /var/folders/g_/1p95771n5l1f_f8gbbftkjy80000gn/T/tmpty1habn0/temp_HERO_gka_modulatedirection-LMS_phase-3.14_trial-002_side-RDLC_Resnet50_santini_eyelid_detectionJul182025shuffle1_snapshot_110_full.pickle\n",
      "The videos are analyzed. Now your research can truly start!\n",
      "You can create labeled videos with 'create_labeled_video'.\n",
      "If the tracking is not satisfactory for some videos, consider expanding the training set. You can use the function 'extract_outlier_frames' to extract a few representative outlier frames.\n",
      "\n",
      "['/var/folders/g_/1p95771n5l1f_f8gbbftkjy80000gn/T/tmpty1habn0/temp_HERO_gka_modulatedirection-LMS_phase-3.14_trial-002_side-RDLC_Resnet50_santini_eyelid_detectionJul182025shuffle1_snapshot_110.h5']\n",
      "Processing: 25/29\n",
      "Model weights already exist!\n",
      "Analyzing videos with /Users/zacharykelly/Library/Application Support/pylids/pytorch-pupil-v1/dlc-models-pytorch/iteration-0/santini_eyelid_detectionJul182025-trainset99shuffle1/train/snapshot-best-220.pt\n",
      "Starting to analyze temp_blnk_pipeline/temp_HERO_gka_modulatedirection-Mel_phase-0.00_trial-002_side-R.avi\n",
      "Video metadata: \n",
      "  Overall # of frames:    11160\n",
      "  Duration of video [s]:  62.00\n",
      "  fps:                    180.0\n",
      "  resolution:             w=640, h=480\n",
      "\n",
      "Running pose prediction with batch size 8\n"
     ]
    },
    {
     "name": "stderr",
     "output_type": "stream",
     "text": [
      "100%|██████████| 11160/11160 [06:16<00:00, 29.63it/s]\n"
     ]
    },
    {
     "name": "stdout",
     "output_type": "stream",
     "text": [
      "Saving results in /var/folders/g_/1p95771n5l1f_f8gbbftkjy80000gn/T/tmpz62bknaa/temp_HERO_gka_modulatedirection-Mel_phase-0.00_trial-002_side-RDLC_Resnet50_santini_eyelid_detectionJul182025shuffle1_snapshot_220.h5 and /var/folders/g_/1p95771n5l1f_f8gbbftkjy80000gn/T/tmpz62bknaa/temp_HERO_gka_modulatedirection-Mel_phase-0.00_trial-002_side-RDLC_Resnet50_santini_eyelid_detectionJul182025shuffle1_snapshot_220_full.pickle\n",
      "The videos are analyzed. Now your research can truly start!\n",
      "You can create labeled videos with 'create_labeled_video'.\n",
      "If the tracking is not satisfactory for some videos, consider expanding the training set. You can use the function 'extract_outlier_frames' to extract a few representative outlier frames.\n",
      "\n",
      "['/var/folders/g_/1p95771n5l1f_f8gbbftkjy80000gn/T/tmpz62bknaa/temp_HERO_gka_modulatedirection-Mel_phase-0.00_trial-002_side-RDLC_Resnet50_santini_eyelid_detectionJul182025shuffle1_snapshot_220.h5']\n",
      "Model weights already exist!\n",
      "Analyzing videos with /Users/zacharykelly/Library/Application Support/pylids/pytorch-eyelid-v1/dlc-models-pytorch/iteration-0/santini_eyelid_detectionJul182025-trainset99shuffle1/train/snapshot-best-110.pt\n",
      "Starting to analyze temp_blnk_pipeline/temp_HERO_gka_modulatedirection-Mel_phase-0.00_trial-002_side-R.avi\n",
      "Video metadata: \n",
      "  Overall # of frames:    11160\n",
      "  Duration of video [s]:  62.00\n",
      "  fps:                    180.0\n",
      "  resolution:             w=640, h=480\n",
      "\n",
      "Running pose prediction with batch size 8\n"
     ]
    },
    {
     "name": "stderr",
     "output_type": "stream",
     "text": [
      "100%|██████████| 11160/11160 [08:21<00:00, 22.27it/s]\n"
     ]
    },
    {
     "name": "stdout",
     "output_type": "stream",
     "text": [
      "Saving results in /var/folders/g_/1p95771n5l1f_f8gbbftkjy80000gn/T/tmpxijlvmyv/temp_HERO_gka_modulatedirection-Mel_phase-0.00_trial-002_side-RDLC_Resnet50_santini_eyelid_detectionJul182025shuffle1_snapshot_110.h5 and /var/folders/g_/1p95771n5l1f_f8gbbftkjy80000gn/T/tmpxijlvmyv/temp_HERO_gka_modulatedirection-Mel_phase-0.00_trial-002_side-RDLC_Resnet50_santini_eyelid_detectionJul182025shuffle1_snapshot_110_full.pickle\n",
      "The videos are analyzed. Now your research can truly start!\n",
      "You can create labeled videos with 'create_labeled_video'.\n",
      "If the tracking is not satisfactory for some videos, consider expanding the training set. You can use the function 'extract_outlier_frames' to extract a few representative outlier frames.\n",
      "\n",
      "['/var/folders/g_/1p95771n5l1f_f8gbbftkjy80000gn/T/tmpxijlvmyv/temp_HERO_gka_modulatedirection-Mel_phase-0.00_trial-002_side-RDLC_Resnet50_santini_eyelid_detectionJul182025shuffle1_snapshot_110.h5']\n",
      "Processing: 26/29\n",
      "Model weights already exist!\n",
      "Analyzing videos with /Users/zacharykelly/Library/Application Support/pylids/pytorch-pupil-v1/dlc-models-pytorch/iteration-0/santini_eyelid_detectionJul182025-trainset99shuffle1/train/snapshot-best-220.pt\n",
      "Starting to analyze temp_blnk_pipeline/temp_HERO_gka_modulatedirection-Mel_phase-3.14_trial-003_side-R.avi\n",
      "Video metadata: \n",
      "  Overall # of frames:    11160\n",
      "  Duration of video [s]:  62.00\n",
      "  fps:                    180.0\n",
      "  resolution:             w=640, h=480\n",
      "\n",
      "Running pose prediction with batch size 8\n"
     ]
    },
    {
     "name": "stderr",
     "output_type": "stream",
     "text": [
      "100%|██████████| 11160/11160 [06:17<00:00, 29.53it/s]\n"
     ]
    },
    {
     "name": "stdout",
     "output_type": "stream",
     "text": [
      "Saving results in /var/folders/g_/1p95771n5l1f_f8gbbftkjy80000gn/T/tmpis2u9q9l/temp_HERO_gka_modulatedirection-Mel_phase-3.14_trial-003_side-RDLC_Resnet50_santini_eyelid_detectionJul182025shuffle1_snapshot_220.h5 and /var/folders/g_/1p95771n5l1f_f8gbbftkjy80000gn/T/tmpis2u9q9l/temp_HERO_gka_modulatedirection-Mel_phase-3.14_trial-003_side-RDLC_Resnet50_santini_eyelid_detectionJul182025shuffle1_snapshot_220_full.pickle\n",
      "The videos are analyzed. Now your research can truly start!\n",
      "You can create labeled videos with 'create_labeled_video'.\n",
      "If the tracking is not satisfactory for some videos, consider expanding the training set. You can use the function 'extract_outlier_frames' to extract a few representative outlier frames.\n",
      "\n",
      "['/var/folders/g_/1p95771n5l1f_f8gbbftkjy80000gn/T/tmpis2u9q9l/temp_HERO_gka_modulatedirection-Mel_phase-3.14_trial-003_side-RDLC_Resnet50_santini_eyelid_detectionJul182025shuffle1_snapshot_220.h5']\n",
      "Model weights already exist!\n",
      "Analyzing videos with /Users/zacharykelly/Library/Application Support/pylids/pytorch-eyelid-v1/dlc-models-pytorch/iteration-0/santini_eyelid_detectionJul182025-trainset99shuffle1/train/snapshot-best-110.pt\n",
      "Starting to analyze temp_blnk_pipeline/temp_HERO_gka_modulatedirection-Mel_phase-3.14_trial-003_side-R.avi\n",
      "Video metadata: \n",
      "  Overall # of frames:    11160\n",
      "  Duration of video [s]:  62.00\n",
      "  fps:                    180.0\n",
      "  resolution:             w=640, h=480\n",
      "\n",
      "Running pose prediction with batch size 8\n"
     ]
    },
    {
     "name": "stderr",
     "output_type": "stream",
     "text": [
      "100%|██████████| 11160/11160 [08:21<00:00, 22.24it/s]\n"
     ]
    },
    {
     "name": "stdout",
     "output_type": "stream",
     "text": [
      "Saving results in /var/folders/g_/1p95771n5l1f_f8gbbftkjy80000gn/T/tmp0zoy9a60/temp_HERO_gka_modulatedirection-Mel_phase-3.14_trial-003_side-RDLC_Resnet50_santini_eyelid_detectionJul182025shuffle1_snapshot_110.h5 and /var/folders/g_/1p95771n5l1f_f8gbbftkjy80000gn/T/tmp0zoy9a60/temp_HERO_gka_modulatedirection-Mel_phase-3.14_trial-003_side-RDLC_Resnet50_santini_eyelid_detectionJul182025shuffle1_snapshot_110_full.pickle\n",
      "The videos are analyzed. Now your research can truly start!\n",
      "You can create labeled videos with 'create_labeled_video'.\n",
      "If the tracking is not satisfactory for some videos, consider expanding the training set. You can use the function 'extract_outlier_frames' to extract a few representative outlier frames.\n",
      "\n",
      "['/var/folders/g_/1p95771n5l1f_f8gbbftkjy80000gn/T/tmp0zoy9a60/temp_HERO_gka_modulatedirection-Mel_phase-3.14_trial-003_side-RDLC_Resnet50_santini_eyelid_detectionJul182025shuffle1_snapshot_110.h5']\n",
      "Processing: 27/29\n",
      "Model weights already exist!\n",
      "Analyzing videos with /Users/zacharykelly/Library/Application Support/pylids/pytorch-pupil-v1/dlc-models-pytorch/iteration-0/santini_eyelid_detectionJul182025-trainset99shuffle1/train/snapshot-best-220.pt\n",
      "Starting to analyze temp_blnk_pipeline/temp_HERO_gka_modulatedirection-S_peripheral_phase-0.00_trial-002_side-R.avi\n",
      "Video metadata: \n",
      "  Overall # of frames:    11160\n",
      "  Duration of video [s]:  62.00\n",
      "  fps:                    180.0\n",
      "  resolution:             w=640, h=480\n",
      "\n",
      "Running pose prediction with batch size 8\n"
     ]
    },
    {
     "name": "stderr",
     "output_type": "stream",
     "text": [
      "100%|██████████| 11160/11160 [06:20<00:00, 29.36it/s]\n"
     ]
    },
    {
     "name": "stdout",
     "output_type": "stream",
     "text": [
      "Saving results in /var/folders/g_/1p95771n5l1f_f8gbbftkjy80000gn/T/tmpibazkwfh/temp_HERO_gka_modulatedirection-S_peripheral_phase-0.00_trial-002_side-RDLC_Resnet50_santini_eyelid_detectionJul182025shuffle1_snapshot_220.h5 and /var/folders/g_/1p95771n5l1f_f8gbbftkjy80000gn/T/tmpibazkwfh/temp_HERO_gka_modulatedirection-S_peripheral_phase-0.00_trial-002_side-RDLC_Resnet50_santini_eyelid_detectionJul182025shuffle1_snapshot_220_full.pickle\n",
      "The videos are analyzed. Now your research can truly start!\n",
      "You can create labeled videos with 'create_labeled_video'.\n",
      "If the tracking is not satisfactory for some videos, consider expanding the training set. You can use the function 'extract_outlier_frames' to extract a few representative outlier frames.\n",
      "\n",
      "['/var/folders/g_/1p95771n5l1f_f8gbbftkjy80000gn/T/tmpibazkwfh/temp_HERO_gka_modulatedirection-S_peripheral_phase-0.00_trial-002_side-RDLC_Resnet50_santini_eyelid_detectionJul182025shuffle1_snapshot_220.h5']\n",
      "Model weights already exist!\n",
      "Analyzing videos with /Users/zacharykelly/Library/Application Support/pylids/pytorch-eyelid-v1/dlc-models-pytorch/iteration-0/santini_eyelid_detectionJul182025-trainset99shuffle1/train/snapshot-best-110.pt\n",
      "Starting to analyze temp_blnk_pipeline/temp_HERO_gka_modulatedirection-S_peripheral_phase-0.00_trial-002_side-R.avi\n",
      "Video metadata: \n",
      "  Overall # of frames:    11160\n",
      "  Duration of video [s]:  62.00\n",
      "  fps:                    180.0\n",
      "  resolution:             w=640, h=480\n",
      "\n",
      "Running pose prediction with batch size 8\n"
     ]
    },
    {
     "name": "stderr",
     "output_type": "stream",
     "text": [
      "100%|██████████| 11160/11160 [08:23<00:00, 22.15it/s]\n"
     ]
    },
    {
     "name": "stdout",
     "output_type": "stream",
     "text": [
      "Saving results in /var/folders/g_/1p95771n5l1f_f8gbbftkjy80000gn/T/tmppv14qetl/temp_HERO_gka_modulatedirection-S_peripheral_phase-0.00_trial-002_side-RDLC_Resnet50_santini_eyelid_detectionJul182025shuffle1_snapshot_110.h5 and /var/folders/g_/1p95771n5l1f_f8gbbftkjy80000gn/T/tmppv14qetl/temp_HERO_gka_modulatedirection-S_peripheral_phase-0.00_trial-002_side-RDLC_Resnet50_santini_eyelid_detectionJul182025shuffle1_snapshot_110_full.pickle\n",
      "The videos are analyzed. Now your research can truly start!\n",
      "You can create labeled videos with 'create_labeled_video'.\n",
      "If the tracking is not satisfactory for some videos, consider expanding the training set. You can use the function 'extract_outlier_frames' to extract a few representative outlier frames.\n",
      "\n",
      "['/var/folders/g_/1p95771n5l1f_f8gbbftkjy80000gn/T/tmppv14qetl/temp_HERO_gka_modulatedirection-S_peripheral_phase-0.00_trial-002_side-RDLC_Resnet50_santini_eyelid_detectionJul182025shuffle1_snapshot_110.h5']\n",
      "Processing: 28/29\n",
      "Model weights already exist!\n",
      "Analyzing videos with /Users/zacharykelly/Library/Application Support/pylids/pytorch-pupil-v1/dlc-models-pytorch/iteration-0/santini_eyelid_detectionJul182025-trainset99shuffle1/train/snapshot-best-220.pt\n",
      "Starting to analyze temp_blnk_pipeline/temp_HERO_gka_modulatedirection-LMS_phase-0.00_trial-003_side-R.avi\n",
      "Video metadata: \n",
      "  Overall # of frames:    11160\n",
      "  Duration of video [s]:  62.00\n",
      "  fps:                    180.0\n",
      "  resolution:             w=640, h=480\n",
      "\n",
      "Running pose prediction with batch size 8\n"
     ]
    },
    {
     "name": "stderr",
     "output_type": "stream",
     "text": [
      "100%|██████████| 11160/11160 [06:20<00:00, 29.35it/s]\n"
     ]
    },
    {
     "name": "stdout",
     "output_type": "stream",
     "text": [
      "Saving results in /var/folders/g_/1p95771n5l1f_f8gbbftkjy80000gn/T/tmpwkv1zgcd/temp_HERO_gka_modulatedirection-LMS_phase-0.00_trial-003_side-RDLC_Resnet50_santini_eyelid_detectionJul182025shuffle1_snapshot_220.h5 and /var/folders/g_/1p95771n5l1f_f8gbbftkjy80000gn/T/tmpwkv1zgcd/temp_HERO_gka_modulatedirection-LMS_phase-0.00_trial-003_side-RDLC_Resnet50_santini_eyelid_detectionJul182025shuffle1_snapshot_220_full.pickle\n",
      "The videos are analyzed. Now your research can truly start!\n",
      "You can create labeled videos with 'create_labeled_video'.\n",
      "If the tracking is not satisfactory for some videos, consider expanding the training set. You can use the function 'extract_outlier_frames' to extract a few representative outlier frames.\n",
      "\n",
      "['/var/folders/g_/1p95771n5l1f_f8gbbftkjy80000gn/T/tmpwkv1zgcd/temp_HERO_gka_modulatedirection-LMS_phase-0.00_trial-003_side-RDLC_Resnet50_santini_eyelid_detectionJul182025shuffle1_snapshot_220.h5']\n",
      "Model weights already exist!\n",
      "Analyzing videos with /Users/zacharykelly/Library/Application Support/pylids/pytorch-eyelid-v1/dlc-models-pytorch/iteration-0/santini_eyelid_detectionJul182025-trainset99shuffle1/train/snapshot-best-110.pt\n",
      "Starting to analyze temp_blnk_pipeline/temp_HERO_gka_modulatedirection-LMS_phase-0.00_trial-003_side-R.avi\n",
      "Video metadata: \n",
      "  Overall # of frames:    11160\n",
      "  Duration of video [s]:  62.00\n",
      "  fps:                    180.0\n",
      "  resolution:             w=640, h=480\n",
      "\n",
      "Running pose prediction with batch size 8\n"
     ]
    },
    {
     "name": "stderr",
     "output_type": "stream",
     "text": [
      "100%|██████████| 11160/11160 [08:23<00:00, 22.16it/s]\n"
     ]
    },
    {
     "name": "stdout",
     "output_type": "stream",
     "text": [
      "Saving results in /var/folders/g_/1p95771n5l1f_f8gbbftkjy80000gn/T/tmp2e29ykbo/temp_HERO_gka_modulatedirection-LMS_phase-0.00_trial-003_side-RDLC_Resnet50_santini_eyelid_detectionJul182025shuffle1_snapshot_110.h5 and /var/folders/g_/1p95771n5l1f_f8gbbftkjy80000gn/T/tmp2e29ykbo/temp_HERO_gka_modulatedirection-LMS_phase-0.00_trial-003_side-RDLC_Resnet50_santini_eyelid_detectionJul182025shuffle1_snapshot_110_full.pickle\n",
      "The videos are analyzed. Now your research can truly start!\n",
      "You can create labeled videos with 'create_labeled_video'.\n",
      "If the tracking is not satisfactory for some videos, consider expanding the training set. You can use the function 'extract_outlier_frames' to extract a few representative outlier frames.\n",
      "\n",
      "['/var/folders/g_/1p95771n5l1f_f8gbbftkjy80000gn/T/tmp2e29ykbo/temp_HERO_gka_modulatedirection-LMS_phase-0.00_trial-003_side-RDLC_Resnet50_santini_eyelid_detectionJul182025shuffle1_snapshot_110.h5']\n"
     ]
    }
   ],
   "source": [
    "# Generate a temp output directory \n",
    "temp_dir_path: str = './temp_blnk_pipeline'\n",
    "if(not os.path.exists(temp_dir_path)):\n",
    "    os.mkdir(temp_dir_path)\n",
    "\n",
    "# Define the crop box and target size \n",
    "t, b, l, r = 140, 275, 190, 425\n",
    "crop_box: tuple = (t, b, l, r)\n",
    "target_size: tuple = (480, 640)\n",
    "\n",
    "# Define the argument list that each function \n",
    "# will get \n",
    "args_list: list[list] = [ (filepath, crop_box, target_size, temp_dir_path, output_folder_path)\n",
    "                          for filepath in video_paths \n",
    "                        ]\n",
    "\n",
    "# Process the videos \n",
    "for video_num, video_args in enumerate(args_list):\n",
    "    print(f\"Processing: {video_num}/{len(args_list)}\", flush=True)\n",
    "    predict_eye_features(video_args)\n",
    "    "
   ]
  },
  {
   "cell_type": "code",
   "execution_count": null,
   "id": "c88c258e",
   "metadata": {},
   "outputs": [],
   "source": []
  }
 ],
 "metadata": {
  "kernelspec": {
   "display_name": "pylids",
   "language": "python",
   "name": "python3"
  },
  "language_info": {
   "codemirror_mode": {
    "name": "ipython",
    "version": 3
   },
   "file_extension": ".py",
   "mimetype": "text/x-python",
   "name": "python",
   "nbconvert_exporter": "python",
   "pygments_lexer": "ipython3",
   "version": "3.10.18"
  }
 },
 "nbformat": 4,
 "nbformat_minor": 5
}
