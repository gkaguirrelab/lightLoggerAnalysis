{
 "cells": [
  {
   "cell_type": "code",
   "execution_count": 1,
   "id": "e49c8fee",
   "metadata": {},
   "outputs": [
    {
     "name": "stdout",
     "output_type": "stream",
     "text": [
      "Loading DLC 3.0.0rc8...\n",
      "DLC loaded in light mode; you cannot use any GUI (labeling, relabeling and standalone GUI)\n"
     ]
    }
   ],
   "source": [
    "# Import libraries \n",
    "import extract_eye_features\n",
    "import dill\n",
    "import scipy\n",
    "import os\n",
    "import numpy as np\n",
    "import sys \n",
    "\n",
    "sys.path.append(\"/Users/zacharykelly/Documents/MATLAB/projects/lightLogger/raspberry_pi_firmware/utility\")\n",
    "import Pi_util\n",
    "import matplotlib.pyplot as plt\n",
    "import BLNK_eye_extraction_pipeline"
   ]
  },
  {
   "cell_type": "code",
   "execution_count": null,
   "id": "965b2e88",
   "metadata": {},
   "outputs": [],
   "source": [
    "# Define the path to the folder containing the videos and other files \n",
    "path_to_video_folder: str = \"/Users/zacharykelly/Desktop/BLNK_1008\"\n",
    "\n",
    "# Generate paths to all of the videos in said folder \n",
    "video_paths: list[str] = [os.path.join(path_to_video_folder, filename)\n",
    "                          for filename in os.listdir(path_to_video_folder)\n",
    "                          if '.avi' in filename\n",
    "                         ]"
   ]
  },
  {
   "cell_type": "code",
   "execution_count": null,
   "id": "fc8d50a5",
   "metadata": {},
   "outputs": [],
   "source": [
    "# Generate output folder \n",
    "output_folder_path: str = \"/Users/zacharykelly/Aguirre-Brainard Lab Dropbox/Zachary Kelly/BLNK_analysis/PuffLight/lightLevel/BLNK_1008\"\n",
    "if(not os.path.exists(output_folder_path)):\n",
    "    os.mkdir(output_folder_path)"
   ]
  },
  {
   "cell_type": "code",
   "execution_count": 7,
   "id": "6dad5de3",
   "metadata": {},
   "outputs": [
    {
     "name": "stdout",
     "output_type": "stream",
     "text": [
      "Processing video: 0/26\n",
      "Model weights already exist!\n",
      "Analyzing videos with /Users/zacharykelly/Library/Application Support/pylids/pytorch-pupil-v1/dlc-models-pytorch/iteration-0/santini_eyelid_detectionJul182025-trainset99shuffle1/train/snapshot-best-220.pt\n",
      "Starting to analyze temp_blnk_pipeline/temp_BLNK_1006_lightLevel_direction-LightFlux_sequence-1_contrast-0.15_trial-002_side-R.avi\n",
      "Video metadata: \n",
      "  Overall # of frames:    5760\n",
      "  Duration of video [s]:  32.00\n",
      "  fps:                    180.0\n",
      "  resolution:             w=640, h=480\n",
      "\n",
      "Running pose prediction with batch size 8\n"
     ]
    },
    {
     "name": "stderr",
     "output_type": "stream",
     "text": [
      "100%|██████████| 5760/5760 [03:15<00:00, 29.40it/s]\n"
     ]
    },
    {
     "name": "stdout",
     "output_type": "stream",
     "text": [
      "Saving results in /var/folders/g_/1p95771n5l1f_f8gbbftkjy80000gn/T/tmped48t5j1/temp_BLNK_1006_lightLevel_direction-LightFlux_sequence-1_contrast-0.15_trial-002_side-RDLC_Resnet50_santini_eyelid_detectionJul182025shuffle1_snapshot_220.h5 and /var/folders/g_/1p95771n5l1f_f8gbbftkjy80000gn/T/tmped48t5j1/temp_BLNK_1006_lightLevel_direction-LightFlux_sequence-1_contrast-0.15_trial-002_side-RDLC_Resnet50_santini_eyelid_detectionJul182025shuffle1_snapshot_220_full.pickle\n",
      "The videos are analyzed. Now your research can truly start!\n",
      "You can create labeled videos with 'create_labeled_video'.\n",
      "If the tracking is not satisfactory for some videos, consider expanding the training set. You can use the function 'extract_outlier_frames' to extract a few representative outlier frames.\n",
      "\n",
      "['/var/folders/g_/1p95771n5l1f_f8gbbftkjy80000gn/T/tmped48t5j1/temp_BLNK_1006_lightLevel_direction-LightFlux_sequence-1_contrast-0.15_trial-002_side-RDLC_Resnet50_santini_eyelid_detectionJul182025shuffle1_snapshot_220.h5']\n",
      "Model weights already exist!\n",
      "Analyzing videos with /Users/zacharykelly/Library/Application Support/pylids/pytorch-eyelid-v1/dlc-models-pytorch/iteration-0/santini_eyelid_detectionJul182025-trainset99shuffle1/train/snapshot-best-110.pt\n",
      "Starting to analyze temp_blnk_pipeline/temp_BLNK_1006_lightLevel_direction-LightFlux_sequence-1_contrast-0.15_trial-002_side-R.avi\n",
      "Video metadata: \n",
      "  Overall # of frames:    5760\n",
      "  Duration of video [s]:  32.00\n",
      "  fps:                    180.0\n",
      "  resolution:             w=640, h=480\n",
      "\n",
      "Running pose prediction with batch size 8\n"
     ]
    },
    {
     "name": "stderr",
     "output_type": "stream",
     "text": [
      "100%|██████████| 5760/5760 [04:18<00:00, 22.25it/s]\n"
     ]
    },
    {
     "name": "stdout",
     "output_type": "stream",
     "text": [
      "Saving results in /var/folders/g_/1p95771n5l1f_f8gbbftkjy80000gn/T/tmpv0_fysgq/temp_BLNK_1006_lightLevel_direction-LightFlux_sequence-1_contrast-0.15_trial-002_side-RDLC_Resnet50_santini_eyelid_detectionJul182025shuffle1_snapshot_110.h5 and /var/folders/g_/1p95771n5l1f_f8gbbftkjy80000gn/T/tmpv0_fysgq/temp_BLNK_1006_lightLevel_direction-LightFlux_sequence-1_contrast-0.15_trial-002_side-RDLC_Resnet50_santini_eyelid_detectionJul182025shuffle1_snapshot_110_full.pickle\n",
      "The videos are analyzed. Now your research can truly start!\n",
      "You can create labeled videos with 'create_labeled_video'.\n",
      "If the tracking is not satisfactory for some videos, consider expanding the training set. You can use the function 'extract_outlier_frames' to extract a few representative outlier frames.\n",
      "\n",
      "['/var/folders/g_/1p95771n5l1f_f8gbbftkjy80000gn/T/tmpv0_fysgq/temp_BLNK_1006_lightLevel_direction-LightFlux_sequence-1_contrast-0.15_trial-002_side-RDLC_Resnet50_santini_eyelid_detectionJul182025shuffle1_snapshot_110.h5']\n"
     ]
    },
    {
     "name": "stderr",
     "output_type": "stream",
     "text": [
      "/opt/anaconda3/envs/pylids/lib/python3.10/site-packages/numpy/polynomial/polynomial.py:1362: RankWarning: The fit may be poorly conditioned\n",
      "  return pu._fit(polyvander, x, y, deg, rcond, full, w)\n"
     ]
    },
    {
     "name": "stdout",
     "output_type": "stream",
     "text": [
      "Processing video: 1/26\n",
      "Model weights already exist!\n",
      "Analyzing videos with /Users/zacharykelly/Library/Application Support/pylids/pytorch-pupil-v1/dlc-models-pytorch/iteration-0/santini_eyelid_detectionJul182025-trainset99shuffle1/train/snapshot-best-220.pt\n",
      "Starting to analyze temp_blnk_pipeline/temp_BLNK_1006_lightLevel_direction-LightFlux_sequence-1_contrast-0.30_trial-021_side-R.avi\n",
      "Video metadata: \n",
      "  Overall # of frames:    5760\n",
      "  Duration of video [s]:  32.00\n",
      "  fps:                    180.0\n",
      "  resolution:             w=640, h=480\n",
      "\n",
      "Running pose prediction with batch size 8\n"
     ]
    },
    {
     "name": "stderr",
     "output_type": "stream",
     "text": [
      "100%|██████████| 5760/5760 [03:15<00:00, 29.51it/s]\n"
     ]
    },
    {
     "name": "stdout",
     "output_type": "stream",
     "text": [
      "Saving results in /var/folders/g_/1p95771n5l1f_f8gbbftkjy80000gn/T/tmppwrlm4vc/temp_BLNK_1006_lightLevel_direction-LightFlux_sequence-1_contrast-0.30_trial-021_side-RDLC_Resnet50_santini_eyelid_detectionJul182025shuffle1_snapshot_220.h5 and /var/folders/g_/1p95771n5l1f_f8gbbftkjy80000gn/T/tmppwrlm4vc/temp_BLNK_1006_lightLevel_direction-LightFlux_sequence-1_contrast-0.30_trial-021_side-RDLC_Resnet50_santini_eyelid_detectionJul182025shuffle1_snapshot_220_full.pickle\n",
      "The videos are analyzed. Now your research can truly start!\n",
      "You can create labeled videos with 'create_labeled_video'.\n",
      "If the tracking is not satisfactory for some videos, consider expanding the training set. You can use the function 'extract_outlier_frames' to extract a few representative outlier frames.\n",
      "\n",
      "['/var/folders/g_/1p95771n5l1f_f8gbbftkjy80000gn/T/tmppwrlm4vc/temp_BLNK_1006_lightLevel_direction-LightFlux_sequence-1_contrast-0.30_trial-021_side-RDLC_Resnet50_santini_eyelid_detectionJul182025shuffle1_snapshot_220.h5']\n",
      "Model weights already exist!\n",
      "Analyzing videos with /Users/zacharykelly/Library/Application Support/pylids/pytorch-eyelid-v1/dlc-models-pytorch/iteration-0/santini_eyelid_detectionJul182025-trainset99shuffle1/train/snapshot-best-110.pt\n",
      "Starting to analyze temp_blnk_pipeline/temp_BLNK_1006_lightLevel_direction-LightFlux_sequence-1_contrast-0.30_trial-021_side-R.avi\n",
      "Video metadata: \n",
      "  Overall # of frames:    5760\n",
      "  Duration of video [s]:  32.00\n",
      "  fps:                    180.0\n",
      "  resolution:             w=640, h=480\n",
      "\n",
      "Running pose prediction with batch size 8\n"
     ]
    },
    {
     "name": "stderr",
     "output_type": "stream",
     "text": [
      "100%|██████████| 5760/5760 [04:11<00:00, 22.90it/s]\n"
     ]
    },
    {
     "name": "stdout",
     "output_type": "stream",
     "text": [
      "Saving results in /var/folders/g_/1p95771n5l1f_f8gbbftkjy80000gn/T/tmpxgrocbwq/temp_BLNK_1006_lightLevel_direction-LightFlux_sequence-1_contrast-0.30_trial-021_side-RDLC_Resnet50_santini_eyelid_detectionJul182025shuffle1_snapshot_110.h5 and /var/folders/g_/1p95771n5l1f_f8gbbftkjy80000gn/T/tmpxgrocbwq/temp_BLNK_1006_lightLevel_direction-LightFlux_sequence-1_contrast-0.30_trial-021_side-RDLC_Resnet50_santini_eyelid_detectionJul182025shuffle1_snapshot_110_full.pickle\n",
      "The videos are analyzed. Now your research can truly start!\n",
      "You can create labeled videos with 'create_labeled_video'.\n",
      "If the tracking is not satisfactory for some videos, consider expanding the training set. You can use the function 'extract_outlier_frames' to extract a few representative outlier frames.\n",
      "\n",
      "['/var/folders/g_/1p95771n5l1f_f8gbbftkjy80000gn/T/tmpxgrocbwq/temp_BLNK_1006_lightLevel_direction-LightFlux_sequence-1_contrast-0.30_trial-021_side-RDLC_Resnet50_santini_eyelid_detectionJul182025shuffle1_snapshot_110.h5']\n"
     ]
    },
    {
     "name": "stderr",
     "output_type": "stream",
     "text": [
      "/opt/anaconda3/envs/pylids/lib/python3.10/site-packages/numpy/polynomial/polynomial.py:1362: RankWarning: The fit may be poorly conditioned\n",
      "  return pu._fit(polyvander, x, y, deg, rcond, full, w)\n"
     ]
    },
    {
     "name": "stdout",
     "output_type": "stream",
     "text": [
      "Processing video: 2/26\n",
      "Model weights already exist!\n",
      "Analyzing videos with /Users/zacharykelly/Library/Application Support/pylids/pytorch-pupil-v1/dlc-models-pytorch/iteration-0/santini_eyelid_detectionJul182025-trainset99shuffle1/train/snapshot-best-220.pt\n",
      "Starting to analyze temp_blnk_pipeline/temp_BLNK_1006_lightLevel_direction-LightFlux_sequence-1_contrast-0.30_trial-016_side-R.avi\n",
      "Video metadata: \n",
      "  Overall # of frames:    5760\n",
      "  Duration of video [s]:  32.00\n",
      "  fps:                    180.0\n",
      "  resolution:             w=640, h=480\n",
      "\n",
      "Running pose prediction with batch size 8\n"
     ]
    },
    {
     "name": "stderr",
     "output_type": "stream",
     "text": [
      "100%|██████████| 5760/5760 [03:13<00:00, 29.72it/s]\n"
     ]
    },
    {
     "name": "stdout",
     "output_type": "stream",
     "text": [
      "Saving results in /var/folders/g_/1p95771n5l1f_f8gbbftkjy80000gn/T/tmpcqs59obk/temp_BLNK_1006_lightLevel_direction-LightFlux_sequence-1_contrast-0.30_trial-016_side-RDLC_Resnet50_santini_eyelid_detectionJul182025shuffle1_snapshot_220.h5 and /var/folders/g_/1p95771n5l1f_f8gbbftkjy80000gn/T/tmpcqs59obk/temp_BLNK_1006_lightLevel_direction-LightFlux_sequence-1_contrast-0.30_trial-016_side-RDLC_Resnet50_santini_eyelid_detectionJul182025shuffle1_snapshot_220_full.pickle\n",
      "The videos are analyzed. Now your research can truly start!\n",
      "You can create labeled videos with 'create_labeled_video'.\n",
      "If the tracking is not satisfactory for some videos, consider expanding the training set. You can use the function 'extract_outlier_frames' to extract a few representative outlier frames.\n",
      "\n",
      "['/var/folders/g_/1p95771n5l1f_f8gbbftkjy80000gn/T/tmpcqs59obk/temp_BLNK_1006_lightLevel_direction-LightFlux_sequence-1_contrast-0.30_trial-016_side-RDLC_Resnet50_santini_eyelid_detectionJul182025shuffle1_snapshot_220.h5']\n",
      "Model weights already exist!\n",
      "Analyzing videos with /Users/zacharykelly/Library/Application Support/pylids/pytorch-eyelid-v1/dlc-models-pytorch/iteration-0/santini_eyelid_detectionJul182025-trainset99shuffle1/train/snapshot-best-110.pt\n",
      "Starting to analyze temp_blnk_pipeline/temp_BLNK_1006_lightLevel_direction-LightFlux_sequence-1_contrast-0.30_trial-016_side-R.avi\n",
      "Video metadata: \n",
      "  Overall # of frames:    5760\n",
      "  Duration of video [s]:  32.00\n",
      "  fps:                    180.0\n",
      "  resolution:             w=640, h=480\n",
      "\n",
      "Running pose prediction with batch size 8\n"
     ]
    },
    {
     "name": "stderr",
     "output_type": "stream",
     "text": [
      "100%|██████████| 5760/5760 [04:12<00:00, 22.78it/s]\n"
     ]
    },
    {
     "name": "stdout",
     "output_type": "stream",
     "text": [
      "Saving results in /var/folders/g_/1p95771n5l1f_f8gbbftkjy80000gn/T/tmpwp0uhx5u/temp_BLNK_1006_lightLevel_direction-LightFlux_sequence-1_contrast-0.30_trial-016_side-RDLC_Resnet50_santini_eyelid_detectionJul182025shuffle1_snapshot_110.h5 and /var/folders/g_/1p95771n5l1f_f8gbbftkjy80000gn/T/tmpwp0uhx5u/temp_BLNK_1006_lightLevel_direction-LightFlux_sequence-1_contrast-0.30_trial-016_side-RDLC_Resnet50_santini_eyelid_detectionJul182025shuffle1_snapshot_110_full.pickle\n",
      "The videos are analyzed. Now your research can truly start!\n",
      "You can create labeled videos with 'create_labeled_video'.\n",
      "If the tracking is not satisfactory for some videos, consider expanding the training set. You can use the function 'extract_outlier_frames' to extract a few representative outlier frames.\n",
      "\n",
      "['/var/folders/g_/1p95771n5l1f_f8gbbftkjy80000gn/T/tmpwp0uhx5u/temp_BLNK_1006_lightLevel_direction-LightFlux_sequence-1_contrast-0.30_trial-016_side-RDLC_Resnet50_santini_eyelid_detectionJul182025shuffle1_snapshot_110.h5']\n"
     ]
    },
    {
     "name": "stderr",
     "output_type": "stream",
     "text": [
      "/opt/anaconda3/envs/pylids/lib/python3.10/site-packages/numpy/polynomial/polynomial.py:1362: RankWarning: The fit may be poorly conditioned\n",
      "  return pu._fit(polyvander, x, y, deg, rcond, full, w)\n"
     ]
    },
    {
     "name": "stdout",
     "output_type": "stream",
     "text": [
      "Processing video: 3/26\n",
      "Model weights already exist!\n",
      "Analyzing videos with /Users/zacharykelly/Library/Application Support/pylids/pytorch-pupil-v1/dlc-models-pytorch/iteration-0/santini_eyelid_detectionJul182025-trainset99shuffle1/train/snapshot-best-220.pt\n",
      "Starting to analyze temp_blnk_pipeline/temp_BLNK_1006_lightLevel_direction-LightFlux_sequence-1_contrast-0.30_trial-007_side-R.avi\n",
      "Video metadata: \n",
      "  Overall # of frames:    5760\n",
      "  Duration of video [s]:  32.00\n",
      "  fps:                    180.0\n",
      "  resolution:             w=640, h=480\n",
      "\n",
      "Running pose prediction with batch size 8\n"
     ]
    },
    {
     "name": "stderr",
     "output_type": "stream",
     "text": [
      "100%|██████████| 5760/5760 [03:14<00:00, 29.57it/s]\n"
     ]
    },
    {
     "name": "stdout",
     "output_type": "stream",
     "text": [
      "Saving results in /var/folders/g_/1p95771n5l1f_f8gbbftkjy80000gn/T/tmp3km8r1f9/temp_BLNK_1006_lightLevel_direction-LightFlux_sequence-1_contrast-0.30_trial-007_side-RDLC_Resnet50_santini_eyelid_detectionJul182025shuffle1_snapshot_220.h5 and /var/folders/g_/1p95771n5l1f_f8gbbftkjy80000gn/T/tmp3km8r1f9/temp_BLNK_1006_lightLevel_direction-LightFlux_sequence-1_contrast-0.30_trial-007_side-RDLC_Resnet50_santini_eyelid_detectionJul182025shuffle1_snapshot_220_full.pickle\n",
      "The videos are analyzed. Now your research can truly start!\n",
      "You can create labeled videos with 'create_labeled_video'.\n",
      "If the tracking is not satisfactory for some videos, consider expanding the training set. You can use the function 'extract_outlier_frames' to extract a few representative outlier frames.\n",
      "\n",
      "['/var/folders/g_/1p95771n5l1f_f8gbbftkjy80000gn/T/tmp3km8r1f9/temp_BLNK_1006_lightLevel_direction-LightFlux_sequence-1_contrast-0.30_trial-007_side-RDLC_Resnet50_santini_eyelid_detectionJul182025shuffle1_snapshot_220.h5']\n",
      "Model weights already exist!\n",
      "Analyzing videos with /Users/zacharykelly/Library/Application Support/pylids/pytorch-eyelid-v1/dlc-models-pytorch/iteration-0/santini_eyelid_detectionJul182025-trainset99shuffle1/train/snapshot-best-110.pt\n",
      "Starting to analyze temp_blnk_pipeline/temp_BLNK_1006_lightLevel_direction-LightFlux_sequence-1_contrast-0.30_trial-007_side-R.avi\n",
      "Video metadata: \n",
      "  Overall # of frames:    5760\n",
      "  Duration of video [s]:  32.00\n",
      "  fps:                    180.0\n",
      "  resolution:             w=640, h=480\n",
      "\n",
      "Running pose prediction with batch size 8\n"
     ]
    },
    {
     "name": "stderr",
     "output_type": "stream",
     "text": [
      "100%|██████████| 5760/5760 [04:13<00:00, 22.70it/s]\n"
     ]
    },
    {
     "name": "stdout",
     "output_type": "stream",
     "text": [
      "Saving results in /var/folders/g_/1p95771n5l1f_f8gbbftkjy80000gn/T/tmpk91ij8mq/temp_BLNK_1006_lightLevel_direction-LightFlux_sequence-1_contrast-0.30_trial-007_side-RDLC_Resnet50_santini_eyelid_detectionJul182025shuffle1_snapshot_110.h5 and /var/folders/g_/1p95771n5l1f_f8gbbftkjy80000gn/T/tmpk91ij8mq/temp_BLNK_1006_lightLevel_direction-LightFlux_sequence-1_contrast-0.30_trial-007_side-RDLC_Resnet50_santini_eyelid_detectionJul182025shuffle1_snapshot_110_full.pickle\n",
      "The videos are analyzed. Now your research can truly start!\n",
      "You can create labeled videos with 'create_labeled_video'.\n",
      "If the tracking is not satisfactory for some videos, consider expanding the training set. You can use the function 'extract_outlier_frames' to extract a few representative outlier frames.\n",
      "\n",
      "['/var/folders/g_/1p95771n5l1f_f8gbbftkjy80000gn/T/tmpk91ij8mq/temp_BLNK_1006_lightLevel_direction-LightFlux_sequence-1_contrast-0.30_trial-007_side-RDLC_Resnet50_santini_eyelid_detectionJul182025shuffle1_snapshot_110.h5']\n"
     ]
    },
    {
     "name": "stderr",
     "output_type": "stream",
     "text": [
      "/opt/anaconda3/envs/pylids/lib/python3.10/site-packages/numpy/polynomial/polynomial.py:1362: RankWarning: The fit may be poorly conditioned\n",
      "  return pu._fit(polyvander, x, y, deg, rcond, full, w)\n"
     ]
    },
    {
     "name": "stdout",
     "output_type": "stream",
     "text": [
      "Processing video: 4/26\n",
      "Model weights already exist!\n",
      "Analyzing videos with /Users/zacharykelly/Library/Application Support/pylids/pytorch-pupil-v1/dlc-models-pytorch/iteration-0/santini_eyelid_detectionJul182025-trainset99shuffle1/train/snapshot-best-220.pt\n",
      "Starting to analyze temp_blnk_pipeline/temp_BLNK_1006_lightLevel_direction-LightFlux_sequence-1_contrast-0.04_trial-003_side-R.avi\n",
      "Video metadata: \n",
      "  Overall # of frames:    5760\n",
      "  Duration of video [s]:  32.00\n",
      "  fps:                    180.0\n",
      "  resolution:             w=640, h=480\n",
      "\n",
      "Running pose prediction with batch size 8\n"
     ]
    },
    {
     "name": "stderr",
     "output_type": "stream",
     "text": [
      "100%|██████████| 5760/5760 [03:14<00:00, 29.58it/s]\n"
     ]
    },
    {
     "name": "stdout",
     "output_type": "stream",
     "text": [
      "Saving results in /var/folders/g_/1p95771n5l1f_f8gbbftkjy80000gn/T/tmpmjxpfek6/temp_BLNK_1006_lightLevel_direction-LightFlux_sequence-1_contrast-0.04_trial-003_side-RDLC_Resnet50_santini_eyelid_detectionJul182025shuffle1_snapshot_220.h5 and /var/folders/g_/1p95771n5l1f_f8gbbftkjy80000gn/T/tmpmjxpfek6/temp_BLNK_1006_lightLevel_direction-LightFlux_sequence-1_contrast-0.04_trial-003_side-RDLC_Resnet50_santini_eyelid_detectionJul182025shuffle1_snapshot_220_full.pickle\n",
      "The videos are analyzed. Now your research can truly start!\n",
      "You can create labeled videos with 'create_labeled_video'.\n",
      "If the tracking is not satisfactory for some videos, consider expanding the training set. You can use the function 'extract_outlier_frames' to extract a few representative outlier frames.\n",
      "\n",
      "['/var/folders/g_/1p95771n5l1f_f8gbbftkjy80000gn/T/tmpmjxpfek6/temp_BLNK_1006_lightLevel_direction-LightFlux_sequence-1_contrast-0.04_trial-003_side-RDLC_Resnet50_santini_eyelid_detectionJul182025shuffle1_snapshot_220.h5']\n",
      "Model weights already exist!\n",
      "Analyzing videos with /Users/zacharykelly/Library/Application Support/pylids/pytorch-eyelid-v1/dlc-models-pytorch/iteration-0/santini_eyelid_detectionJul182025-trainset99shuffle1/train/snapshot-best-110.pt\n",
      "Starting to analyze temp_blnk_pipeline/temp_BLNK_1006_lightLevel_direction-LightFlux_sequence-1_contrast-0.04_trial-003_side-R.avi\n",
      "Video metadata: \n",
      "  Overall # of frames:    5760\n",
      "  Duration of video [s]:  32.00\n",
      "  fps:                    180.0\n",
      "  resolution:             w=640, h=480\n",
      "\n",
      "Running pose prediction with batch size 8\n"
     ]
    },
    {
     "name": "stderr",
     "output_type": "stream",
     "text": [
      "100%|██████████| 5760/5760 [04:13<00:00, 22.71it/s]\n"
     ]
    },
    {
     "name": "stdout",
     "output_type": "stream",
     "text": [
      "Saving results in /var/folders/g_/1p95771n5l1f_f8gbbftkjy80000gn/T/tmp2jhmijm1/temp_BLNK_1006_lightLevel_direction-LightFlux_sequence-1_contrast-0.04_trial-003_side-RDLC_Resnet50_santini_eyelid_detectionJul182025shuffle1_snapshot_110.h5 and /var/folders/g_/1p95771n5l1f_f8gbbftkjy80000gn/T/tmp2jhmijm1/temp_BLNK_1006_lightLevel_direction-LightFlux_sequence-1_contrast-0.04_trial-003_side-RDLC_Resnet50_santini_eyelid_detectionJul182025shuffle1_snapshot_110_full.pickle\n",
      "The videos are analyzed. Now your research can truly start!\n",
      "You can create labeled videos with 'create_labeled_video'.\n",
      "If the tracking is not satisfactory for some videos, consider expanding the training set. You can use the function 'extract_outlier_frames' to extract a few representative outlier frames.\n",
      "\n",
      "['/var/folders/g_/1p95771n5l1f_f8gbbftkjy80000gn/T/tmp2jhmijm1/temp_BLNK_1006_lightLevel_direction-LightFlux_sequence-1_contrast-0.04_trial-003_side-RDLC_Resnet50_santini_eyelid_detectionJul182025shuffle1_snapshot_110.h5']\n"
     ]
    },
    {
     "name": "stderr",
     "output_type": "stream",
     "text": [
      "/opt/anaconda3/envs/pylids/lib/python3.10/site-packages/numpy/polynomial/polynomial.py:1362: RankWarning: The fit may be poorly conditioned\n",
      "  return pu._fit(polyvander, x, y, deg, rcond, full, w)\n"
     ]
    },
    {
     "name": "stdout",
     "output_type": "stream",
     "text": [
      "Processing video: 5/26\n",
      "Model weights already exist!\n",
      "Analyzing videos with /Users/zacharykelly/Library/Application Support/pylids/pytorch-pupil-v1/dlc-models-pytorch/iteration-0/santini_eyelid_detectionJul182025-trainset99shuffle1/train/snapshot-best-220.pt\n",
      "Starting to analyze temp_blnk_pipeline/temp_BLNK_1006_lightLevel_direction-LightFlux_sequence-1_contrast-0.07_trial-011_side-R.avi\n",
      "Video metadata: \n",
      "  Overall # of frames:    5760\n",
      "  Duration of video [s]:  32.00\n",
      "  fps:                    180.0\n",
      "  resolution:             w=640, h=480\n",
      "\n",
      "Running pose prediction with batch size 8\n"
     ]
    },
    {
     "name": "stderr",
     "output_type": "stream",
     "text": [
      "100%|██████████| 5760/5760 [03:14<00:00, 29.62it/s]\n"
     ]
    },
    {
     "name": "stdout",
     "output_type": "stream",
     "text": [
      "Saving results in /var/folders/g_/1p95771n5l1f_f8gbbftkjy80000gn/T/tmp3f3rlx09/temp_BLNK_1006_lightLevel_direction-LightFlux_sequence-1_contrast-0.07_trial-011_side-RDLC_Resnet50_santini_eyelid_detectionJul182025shuffle1_snapshot_220.h5 and /var/folders/g_/1p95771n5l1f_f8gbbftkjy80000gn/T/tmp3f3rlx09/temp_BLNK_1006_lightLevel_direction-LightFlux_sequence-1_contrast-0.07_trial-011_side-RDLC_Resnet50_santini_eyelid_detectionJul182025shuffle1_snapshot_220_full.pickle\n",
      "The videos are analyzed. Now your research can truly start!\n",
      "You can create labeled videos with 'create_labeled_video'.\n",
      "If the tracking is not satisfactory for some videos, consider expanding the training set. You can use the function 'extract_outlier_frames' to extract a few representative outlier frames.\n",
      "\n",
      "['/var/folders/g_/1p95771n5l1f_f8gbbftkjy80000gn/T/tmp3f3rlx09/temp_BLNK_1006_lightLevel_direction-LightFlux_sequence-1_contrast-0.07_trial-011_side-RDLC_Resnet50_santini_eyelid_detectionJul182025shuffle1_snapshot_220.h5']\n",
      "Model weights already exist!\n",
      "Analyzing videos with /Users/zacharykelly/Library/Application Support/pylids/pytorch-eyelid-v1/dlc-models-pytorch/iteration-0/santini_eyelid_detectionJul182025-trainset99shuffle1/train/snapshot-best-110.pt\n",
      "Starting to analyze temp_blnk_pipeline/temp_BLNK_1006_lightLevel_direction-LightFlux_sequence-1_contrast-0.07_trial-011_side-R.avi\n",
      "Video metadata: \n",
      "  Overall # of frames:    5760\n",
      "  Duration of video [s]:  32.00\n",
      "  fps:                    180.0\n",
      "  resolution:             w=640, h=480\n",
      "\n",
      "Running pose prediction with batch size 8\n"
     ]
    },
    {
     "name": "stderr",
     "output_type": "stream",
     "text": [
      "100%|██████████| 5760/5760 [04:13<00:00, 22.75it/s]\n"
     ]
    },
    {
     "name": "stdout",
     "output_type": "stream",
     "text": [
      "Saving results in /var/folders/g_/1p95771n5l1f_f8gbbftkjy80000gn/T/tmp55fx6pgf/temp_BLNK_1006_lightLevel_direction-LightFlux_sequence-1_contrast-0.07_trial-011_side-RDLC_Resnet50_santini_eyelid_detectionJul182025shuffle1_snapshot_110.h5 and /var/folders/g_/1p95771n5l1f_f8gbbftkjy80000gn/T/tmp55fx6pgf/temp_BLNK_1006_lightLevel_direction-LightFlux_sequence-1_contrast-0.07_trial-011_side-RDLC_Resnet50_santini_eyelid_detectionJul182025shuffle1_snapshot_110_full.pickle\n",
      "The videos are analyzed. Now your research can truly start!\n",
      "You can create labeled videos with 'create_labeled_video'.\n",
      "If the tracking is not satisfactory for some videos, consider expanding the training set. You can use the function 'extract_outlier_frames' to extract a few representative outlier frames.\n",
      "\n",
      "['/var/folders/g_/1p95771n5l1f_f8gbbftkjy80000gn/T/tmp55fx6pgf/temp_BLNK_1006_lightLevel_direction-LightFlux_sequence-1_contrast-0.07_trial-011_side-RDLC_Resnet50_santini_eyelid_detectionJul182025shuffle1_snapshot_110.h5']\n"
     ]
    },
    {
     "name": "stderr",
     "output_type": "stream",
     "text": [
      "/opt/anaconda3/envs/pylids/lib/python3.10/site-packages/numpy/polynomial/polynomial.py:1362: RankWarning: The fit may be poorly conditioned\n",
      "  return pu._fit(polyvander, x, y, deg, rcond, full, w)\n"
     ]
    },
    {
     "name": "stdout",
     "output_type": "stream",
     "text": [
      "Processing video: 6/26\n",
      "Model weights already exist!\n",
      "Analyzing videos with /Users/zacharykelly/Library/Application Support/pylids/pytorch-pupil-v1/dlc-models-pytorch/iteration-0/santini_eyelid_detectionJul182025-trainset99shuffle1/train/snapshot-best-220.pt\n",
      "Starting to analyze temp_blnk_pipeline/temp_BLNK_1006_lightLevel_direction-LightFlux_sequence-1_contrast-0.60_trial-006_side-R.avi\n",
      "Video metadata: \n",
      "  Overall # of frames:    5760\n",
      "  Duration of video [s]:  32.00\n",
      "  fps:                    180.0\n",
      "  resolution:             w=640, h=480\n",
      "\n",
      "Running pose prediction with batch size 8\n"
     ]
    },
    {
     "name": "stderr",
     "output_type": "stream",
     "text": [
      "100%|██████████| 5760/5760 [03:14<00:00, 29.61it/s]\n"
     ]
    },
    {
     "name": "stdout",
     "output_type": "stream",
     "text": [
      "Saving results in /var/folders/g_/1p95771n5l1f_f8gbbftkjy80000gn/T/tmpro2cc0jp/temp_BLNK_1006_lightLevel_direction-LightFlux_sequence-1_contrast-0.60_trial-006_side-RDLC_Resnet50_santini_eyelid_detectionJul182025shuffle1_snapshot_220.h5 and /var/folders/g_/1p95771n5l1f_f8gbbftkjy80000gn/T/tmpro2cc0jp/temp_BLNK_1006_lightLevel_direction-LightFlux_sequence-1_contrast-0.60_trial-006_side-RDLC_Resnet50_santini_eyelid_detectionJul182025shuffle1_snapshot_220_full.pickle\n",
      "The videos are analyzed. Now your research can truly start!\n",
      "You can create labeled videos with 'create_labeled_video'.\n",
      "If the tracking is not satisfactory for some videos, consider expanding the training set. You can use the function 'extract_outlier_frames' to extract a few representative outlier frames.\n",
      "\n",
      "['/var/folders/g_/1p95771n5l1f_f8gbbftkjy80000gn/T/tmpro2cc0jp/temp_BLNK_1006_lightLevel_direction-LightFlux_sequence-1_contrast-0.60_trial-006_side-RDLC_Resnet50_santini_eyelid_detectionJul182025shuffle1_snapshot_220.h5']\n",
      "Model weights already exist!\n",
      "Analyzing videos with /Users/zacharykelly/Library/Application Support/pylids/pytorch-eyelid-v1/dlc-models-pytorch/iteration-0/santini_eyelid_detectionJul182025-trainset99shuffle1/train/snapshot-best-110.pt\n",
      "Starting to analyze temp_blnk_pipeline/temp_BLNK_1006_lightLevel_direction-LightFlux_sequence-1_contrast-0.60_trial-006_side-R.avi\n",
      "Video metadata: \n",
      "  Overall # of frames:    5760\n",
      "  Duration of video [s]:  32.00\n",
      "  fps:                    180.0\n",
      "  resolution:             w=640, h=480\n",
      "\n",
      "Running pose prediction with batch size 8\n"
     ]
    },
    {
     "name": "stderr",
     "output_type": "stream",
     "text": [
      "100%|██████████| 5760/5760 [04:13<00:00, 22.71it/s]\n"
     ]
    },
    {
     "name": "stdout",
     "output_type": "stream",
     "text": [
      "Saving results in /var/folders/g_/1p95771n5l1f_f8gbbftkjy80000gn/T/tmpmls6a1vy/temp_BLNK_1006_lightLevel_direction-LightFlux_sequence-1_contrast-0.60_trial-006_side-RDLC_Resnet50_santini_eyelid_detectionJul182025shuffle1_snapshot_110.h5 and /var/folders/g_/1p95771n5l1f_f8gbbftkjy80000gn/T/tmpmls6a1vy/temp_BLNK_1006_lightLevel_direction-LightFlux_sequence-1_contrast-0.60_trial-006_side-RDLC_Resnet50_santini_eyelid_detectionJul182025shuffle1_snapshot_110_full.pickle\n",
      "The videos are analyzed. Now your research can truly start!\n",
      "You can create labeled videos with 'create_labeled_video'.\n",
      "If the tracking is not satisfactory for some videos, consider expanding the training set. You can use the function 'extract_outlier_frames' to extract a few representative outlier frames.\n",
      "\n",
      "['/var/folders/g_/1p95771n5l1f_f8gbbftkjy80000gn/T/tmpmls6a1vy/temp_BLNK_1006_lightLevel_direction-LightFlux_sequence-1_contrast-0.60_trial-006_side-RDLC_Resnet50_santini_eyelid_detectionJul182025shuffle1_snapshot_110.h5']\n"
     ]
    },
    {
     "name": "stderr",
     "output_type": "stream",
     "text": [
      "/opt/anaconda3/envs/pylids/lib/python3.10/site-packages/numpy/polynomial/polynomial.py:1362: RankWarning: The fit may be poorly conditioned\n",
      "  return pu._fit(polyvander, x, y, deg, rcond, full, w)\n"
     ]
    },
    {
     "name": "stdout",
     "output_type": "stream",
     "text": [
      "Processing video: 7/26\n",
      "Model weights already exist!\n",
      "Analyzing videos with /Users/zacharykelly/Library/Application Support/pylids/pytorch-pupil-v1/dlc-models-pytorch/iteration-0/santini_eyelid_detectionJul182025-trainset99shuffle1/train/snapshot-best-220.pt\n",
      "Starting to analyze temp_blnk_pipeline/temp_BLNK_1006_lightLevel_direction-LightFlux_sequence-1_contrast-0.04_trial-025_side-R.avi\n",
      "Video metadata: \n",
      "  Overall # of frames:    5760\n",
      "  Duration of video [s]:  32.00\n",
      "  fps:                    180.0\n",
      "  resolution:             w=640, h=480\n",
      "\n",
      "Running pose prediction with batch size 8\n"
     ]
    },
    {
     "name": "stderr",
     "output_type": "stream",
     "text": [
      "100%|██████████| 5760/5760 [03:14<00:00, 29.57it/s]\n"
     ]
    },
    {
     "name": "stdout",
     "output_type": "stream",
     "text": [
      "Saving results in /var/folders/g_/1p95771n5l1f_f8gbbftkjy80000gn/T/tmpq2zhhveo/temp_BLNK_1006_lightLevel_direction-LightFlux_sequence-1_contrast-0.04_trial-025_side-RDLC_Resnet50_santini_eyelid_detectionJul182025shuffle1_snapshot_220.h5 and /var/folders/g_/1p95771n5l1f_f8gbbftkjy80000gn/T/tmpq2zhhveo/temp_BLNK_1006_lightLevel_direction-LightFlux_sequence-1_contrast-0.04_trial-025_side-RDLC_Resnet50_santini_eyelid_detectionJul182025shuffle1_snapshot_220_full.pickle\n",
      "The videos are analyzed. Now your research can truly start!\n",
      "You can create labeled videos with 'create_labeled_video'.\n",
      "If the tracking is not satisfactory for some videos, consider expanding the training set. You can use the function 'extract_outlier_frames' to extract a few representative outlier frames.\n",
      "\n",
      "['/var/folders/g_/1p95771n5l1f_f8gbbftkjy80000gn/T/tmpq2zhhveo/temp_BLNK_1006_lightLevel_direction-LightFlux_sequence-1_contrast-0.04_trial-025_side-RDLC_Resnet50_santini_eyelid_detectionJul182025shuffle1_snapshot_220.h5']\n",
      "Model weights already exist!\n",
      "Analyzing videos with /Users/zacharykelly/Library/Application Support/pylids/pytorch-eyelid-v1/dlc-models-pytorch/iteration-0/santini_eyelid_detectionJul182025-trainset99shuffle1/train/snapshot-best-110.pt\n",
      "Starting to analyze temp_blnk_pipeline/temp_BLNK_1006_lightLevel_direction-LightFlux_sequence-1_contrast-0.04_trial-025_side-R.avi\n",
      "Video metadata: \n",
      "  Overall # of frames:    5760\n",
      "  Duration of video [s]:  32.00\n",
      "  fps:                    180.0\n",
      "  resolution:             w=640, h=480\n",
      "\n",
      "Running pose prediction with batch size 8\n"
     ]
    },
    {
     "name": "stderr",
     "output_type": "stream",
     "text": [
      "100%|██████████| 5760/5760 [04:13<00:00, 22.68it/s]\n"
     ]
    },
    {
     "name": "stdout",
     "output_type": "stream",
     "text": [
      "Saving results in /var/folders/g_/1p95771n5l1f_f8gbbftkjy80000gn/T/tmpnqk1ecr8/temp_BLNK_1006_lightLevel_direction-LightFlux_sequence-1_contrast-0.04_trial-025_side-RDLC_Resnet50_santini_eyelid_detectionJul182025shuffle1_snapshot_110.h5 and /var/folders/g_/1p95771n5l1f_f8gbbftkjy80000gn/T/tmpnqk1ecr8/temp_BLNK_1006_lightLevel_direction-LightFlux_sequence-1_contrast-0.04_trial-025_side-RDLC_Resnet50_santini_eyelid_detectionJul182025shuffle1_snapshot_110_full.pickle\n",
      "The videos are analyzed. Now your research can truly start!\n",
      "You can create labeled videos with 'create_labeled_video'.\n",
      "If the tracking is not satisfactory for some videos, consider expanding the training set. You can use the function 'extract_outlier_frames' to extract a few representative outlier frames.\n",
      "\n",
      "['/var/folders/g_/1p95771n5l1f_f8gbbftkjy80000gn/T/tmpnqk1ecr8/temp_BLNK_1006_lightLevel_direction-LightFlux_sequence-1_contrast-0.04_trial-025_side-RDLC_Resnet50_santini_eyelid_detectionJul182025shuffle1_snapshot_110.h5']\n"
     ]
    },
    {
     "name": "stderr",
     "output_type": "stream",
     "text": [
      "/opt/anaconda3/envs/pylids/lib/python3.10/site-packages/numpy/polynomial/polynomial.py:1362: RankWarning: The fit may be poorly conditioned\n",
      "  return pu._fit(polyvander, x, y, deg, rcond, full, w)\n"
     ]
    },
    {
     "name": "stdout",
     "output_type": "stream",
     "text": [
      "Processing video: 8/26\n",
      "Model weights already exist!\n",
      "Analyzing videos with /Users/zacharykelly/Library/Application Support/pylids/pytorch-pupil-v1/dlc-models-pytorch/iteration-0/santini_eyelid_detectionJul182025-trainset99shuffle1/train/snapshot-best-220.pt\n",
      "Starting to analyze temp_blnk_pipeline/temp_BLNK_1006_lightLevel_direction-LightFlux_sequence-1_contrast-0.15_trial-026_side-R.avi\n",
      "Video metadata: \n",
      "  Overall # of frames:    5760\n",
      "  Duration of video [s]:  32.00\n",
      "  fps:                    180.0\n",
      "  resolution:             w=640, h=480\n",
      "\n",
      "Running pose prediction with batch size 8\n"
     ]
    },
    {
     "name": "stderr",
     "output_type": "stream",
     "text": [
      "100%|██████████| 5760/5760 [03:14<00:00, 29.55it/s]\n"
     ]
    },
    {
     "name": "stdout",
     "output_type": "stream",
     "text": [
      "Saving results in /var/folders/g_/1p95771n5l1f_f8gbbftkjy80000gn/T/tmp8lwenw_a/temp_BLNK_1006_lightLevel_direction-LightFlux_sequence-1_contrast-0.15_trial-026_side-RDLC_Resnet50_santini_eyelid_detectionJul182025shuffle1_snapshot_220.h5 and /var/folders/g_/1p95771n5l1f_f8gbbftkjy80000gn/T/tmp8lwenw_a/temp_BLNK_1006_lightLevel_direction-LightFlux_sequence-1_contrast-0.15_trial-026_side-RDLC_Resnet50_santini_eyelid_detectionJul182025shuffle1_snapshot_220_full.pickle\n",
      "The videos are analyzed. Now your research can truly start!\n",
      "You can create labeled videos with 'create_labeled_video'.\n",
      "If the tracking is not satisfactory for some videos, consider expanding the training set. You can use the function 'extract_outlier_frames' to extract a few representative outlier frames.\n",
      "\n",
      "['/var/folders/g_/1p95771n5l1f_f8gbbftkjy80000gn/T/tmp8lwenw_a/temp_BLNK_1006_lightLevel_direction-LightFlux_sequence-1_contrast-0.15_trial-026_side-RDLC_Resnet50_santini_eyelid_detectionJul182025shuffle1_snapshot_220.h5']\n",
      "Model weights already exist!\n",
      "Analyzing videos with /Users/zacharykelly/Library/Application Support/pylids/pytorch-eyelid-v1/dlc-models-pytorch/iteration-0/santini_eyelid_detectionJul182025-trainset99shuffle1/train/snapshot-best-110.pt\n",
      "Starting to analyze temp_blnk_pipeline/temp_BLNK_1006_lightLevel_direction-LightFlux_sequence-1_contrast-0.15_trial-026_side-R.avi\n",
      "Video metadata: \n",
      "  Overall # of frames:    5760\n",
      "  Duration of video [s]:  32.00\n",
      "  fps:                    180.0\n",
      "  resolution:             w=640, h=480\n",
      "\n",
      "Running pose prediction with batch size 8\n"
     ]
    },
    {
     "name": "stderr",
     "output_type": "stream",
     "text": [
      "100%|██████████| 5760/5760 [04:14<00:00, 22.63it/s]\n"
     ]
    },
    {
     "name": "stdout",
     "output_type": "stream",
     "text": [
      "Saving results in /var/folders/g_/1p95771n5l1f_f8gbbftkjy80000gn/T/tmpi9_2daa3/temp_BLNK_1006_lightLevel_direction-LightFlux_sequence-1_contrast-0.15_trial-026_side-RDLC_Resnet50_santini_eyelid_detectionJul182025shuffle1_snapshot_110.h5 and /var/folders/g_/1p95771n5l1f_f8gbbftkjy80000gn/T/tmpi9_2daa3/temp_BLNK_1006_lightLevel_direction-LightFlux_sequence-1_contrast-0.15_trial-026_side-RDLC_Resnet50_santini_eyelid_detectionJul182025shuffle1_snapshot_110_full.pickle\n",
      "The videos are analyzed. Now your research can truly start!\n",
      "You can create labeled videos with 'create_labeled_video'.\n",
      "If the tracking is not satisfactory for some videos, consider expanding the training set. You can use the function 'extract_outlier_frames' to extract a few representative outlier frames.\n",
      "\n",
      "['/var/folders/g_/1p95771n5l1f_f8gbbftkjy80000gn/T/tmpi9_2daa3/temp_BLNK_1006_lightLevel_direction-LightFlux_sequence-1_contrast-0.15_trial-026_side-RDLC_Resnet50_santini_eyelid_detectionJul182025shuffle1_snapshot_110.h5']\n"
     ]
    },
    {
     "name": "stderr",
     "output_type": "stream",
     "text": [
      "/opt/anaconda3/envs/pylids/lib/python3.10/site-packages/numpy/polynomial/polynomial.py:1362: RankWarning: The fit may be poorly conditioned\n",
      "  return pu._fit(polyvander, x, y, deg, rcond, full, w)\n"
     ]
    },
    {
     "name": "stdout",
     "output_type": "stream",
     "text": [
      "Processing video: 9/26\n",
      "Model weights already exist!\n",
      "Analyzing videos with /Users/zacharykelly/Library/Application Support/pylids/pytorch-pupil-v1/dlc-models-pytorch/iteration-0/santini_eyelid_detectionJul182025-trainset99shuffle1/train/snapshot-best-220.pt\n",
      "Starting to analyze temp_blnk_pipeline/temp_BLNK_1006_lightLevel_direction-LightFlux_sequence-1_contrast-0.30_trial-017_side-R.avi\n",
      "Video metadata: \n",
      "  Overall # of frames:    5760\n",
      "  Duration of video [s]:  32.00\n",
      "  fps:                    180.0\n",
      "  resolution:             w=640, h=480\n",
      "\n",
      "Running pose prediction with batch size 8\n"
     ]
    },
    {
     "name": "stderr",
     "output_type": "stream",
     "text": [
      "100%|██████████| 5760/5760 [03:17<00:00, 29.17it/s]\n"
     ]
    },
    {
     "name": "stdout",
     "output_type": "stream",
     "text": [
      "Saving results in /var/folders/g_/1p95771n5l1f_f8gbbftkjy80000gn/T/tmpks5l7nui/temp_BLNK_1006_lightLevel_direction-LightFlux_sequence-1_contrast-0.30_trial-017_side-RDLC_Resnet50_santini_eyelid_detectionJul182025shuffle1_snapshot_220.h5 and /var/folders/g_/1p95771n5l1f_f8gbbftkjy80000gn/T/tmpks5l7nui/temp_BLNK_1006_lightLevel_direction-LightFlux_sequence-1_contrast-0.30_trial-017_side-RDLC_Resnet50_santini_eyelid_detectionJul182025shuffle1_snapshot_220_full.pickle\n",
      "The videos are analyzed. Now your research can truly start!\n",
      "You can create labeled videos with 'create_labeled_video'.\n",
      "If the tracking is not satisfactory for some videos, consider expanding the training set. You can use the function 'extract_outlier_frames' to extract a few representative outlier frames.\n",
      "\n",
      "['/var/folders/g_/1p95771n5l1f_f8gbbftkjy80000gn/T/tmpks5l7nui/temp_BLNK_1006_lightLevel_direction-LightFlux_sequence-1_contrast-0.30_trial-017_side-RDLC_Resnet50_santini_eyelid_detectionJul182025shuffle1_snapshot_220.h5']\n",
      "Model weights already exist!\n",
      "Analyzing videos with /Users/zacharykelly/Library/Application Support/pylids/pytorch-eyelid-v1/dlc-models-pytorch/iteration-0/santini_eyelid_detectionJul182025-trainset99shuffle1/train/snapshot-best-110.pt\n",
      "Starting to analyze temp_blnk_pipeline/temp_BLNK_1006_lightLevel_direction-LightFlux_sequence-1_contrast-0.30_trial-017_side-R.avi\n",
      "Video metadata: \n",
      "  Overall # of frames:    5760\n",
      "  Duration of video [s]:  32.00\n",
      "  fps:                    180.0\n",
      "  resolution:             w=640, h=480\n",
      "\n",
      "Running pose prediction with batch size 8\n"
     ]
    },
    {
     "name": "stderr",
     "output_type": "stream",
     "text": [
      "100%|██████████| 5760/5760 [04:14<00:00, 22.63it/s]\n"
     ]
    },
    {
     "name": "stdout",
     "output_type": "stream",
     "text": [
      "Saving results in /var/folders/g_/1p95771n5l1f_f8gbbftkjy80000gn/T/tmp0ozqgx00/temp_BLNK_1006_lightLevel_direction-LightFlux_sequence-1_contrast-0.30_trial-017_side-RDLC_Resnet50_santini_eyelid_detectionJul182025shuffle1_snapshot_110.h5 and /var/folders/g_/1p95771n5l1f_f8gbbftkjy80000gn/T/tmp0ozqgx00/temp_BLNK_1006_lightLevel_direction-LightFlux_sequence-1_contrast-0.30_trial-017_side-RDLC_Resnet50_santini_eyelid_detectionJul182025shuffle1_snapshot_110_full.pickle\n",
      "The videos are analyzed. Now your research can truly start!\n",
      "You can create labeled videos with 'create_labeled_video'.\n",
      "If the tracking is not satisfactory for some videos, consider expanding the training set. You can use the function 'extract_outlier_frames' to extract a few representative outlier frames.\n",
      "\n",
      "['/var/folders/g_/1p95771n5l1f_f8gbbftkjy80000gn/T/tmp0ozqgx00/temp_BLNK_1006_lightLevel_direction-LightFlux_sequence-1_contrast-0.30_trial-017_side-RDLC_Resnet50_santini_eyelid_detectionJul182025shuffle1_snapshot_110.h5']\n"
     ]
    },
    {
     "name": "stderr",
     "output_type": "stream",
     "text": [
      "/opt/anaconda3/envs/pylids/lib/python3.10/site-packages/numpy/polynomial/polynomial.py:1362: RankWarning: The fit may be poorly conditioned\n",
      "  return pu._fit(polyvander, x, y, deg, rcond, full, w)\n"
     ]
    },
    {
     "name": "stdout",
     "output_type": "stream",
     "text": [
      "Processing video: 10/26\n",
      "Model weights already exist!\n",
      "Analyzing videos with /Users/zacharykelly/Library/Application Support/pylids/pytorch-pupil-v1/dlc-models-pytorch/iteration-0/santini_eyelid_detectionJul182025-trainset99shuffle1/train/snapshot-best-220.pt\n",
      "Starting to analyze temp_blnk_pipeline/temp_BLNK_1006_lightLevel_direction-LightFlux_sequence-1_contrast-0.04_trial-008_side-R.avi\n",
      "Video metadata: \n",
      "  Overall # of frames:    5760\n",
      "  Duration of video [s]:  32.00\n",
      "  fps:                    180.0\n",
      "  resolution:             w=640, h=480\n",
      "\n",
      "Running pose prediction with batch size 8\n"
     ]
    },
    {
     "name": "stderr",
     "output_type": "stream",
     "text": [
      "100%|██████████| 5760/5760 [03:14<00:00, 29.62it/s]\n"
     ]
    },
    {
     "name": "stdout",
     "output_type": "stream",
     "text": [
      "Saving results in /var/folders/g_/1p95771n5l1f_f8gbbftkjy80000gn/T/tmpu9ovhran/temp_BLNK_1006_lightLevel_direction-LightFlux_sequence-1_contrast-0.04_trial-008_side-RDLC_Resnet50_santini_eyelid_detectionJul182025shuffle1_snapshot_220.h5 and /var/folders/g_/1p95771n5l1f_f8gbbftkjy80000gn/T/tmpu9ovhran/temp_BLNK_1006_lightLevel_direction-LightFlux_sequence-1_contrast-0.04_trial-008_side-RDLC_Resnet50_santini_eyelid_detectionJul182025shuffle1_snapshot_220_full.pickle\n",
      "The videos are analyzed. Now your research can truly start!\n",
      "You can create labeled videos with 'create_labeled_video'.\n",
      "If the tracking is not satisfactory for some videos, consider expanding the training set. You can use the function 'extract_outlier_frames' to extract a few representative outlier frames.\n",
      "\n",
      "['/var/folders/g_/1p95771n5l1f_f8gbbftkjy80000gn/T/tmpu9ovhran/temp_BLNK_1006_lightLevel_direction-LightFlux_sequence-1_contrast-0.04_trial-008_side-RDLC_Resnet50_santini_eyelid_detectionJul182025shuffle1_snapshot_220.h5']\n",
      "Model weights already exist!\n",
      "Analyzing videos with /Users/zacharykelly/Library/Application Support/pylids/pytorch-eyelid-v1/dlc-models-pytorch/iteration-0/santini_eyelid_detectionJul182025-trainset99shuffle1/train/snapshot-best-110.pt\n",
      "Starting to analyze temp_blnk_pipeline/temp_BLNK_1006_lightLevel_direction-LightFlux_sequence-1_contrast-0.04_trial-008_side-R.avi\n",
      "Video metadata: \n",
      "  Overall # of frames:    5760\n",
      "  Duration of video [s]:  32.00\n",
      "  fps:                    180.0\n",
      "  resolution:             w=640, h=480\n",
      "\n",
      "Running pose prediction with batch size 8\n"
     ]
    },
    {
     "name": "stderr",
     "output_type": "stream",
     "text": [
      "100%|██████████| 5760/5760 [04:13<00:00, 22.75it/s]\n"
     ]
    },
    {
     "name": "stdout",
     "output_type": "stream",
     "text": [
      "Saving results in /var/folders/g_/1p95771n5l1f_f8gbbftkjy80000gn/T/tmpo1gh2wv6/temp_BLNK_1006_lightLevel_direction-LightFlux_sequence-1_contrast-0.04_trial-008_side-RDLC_Resnet50_santini_eyelid_detectionJul182025shuffle1_snapshot_110.h5 and /var/folders/g_/1p95771n5l1f_f8gbbftkjy80000gn/T/tmpo1gh2wv6/temp_BLNK_1006_lightLevel_direction-LightFlux_sequence-1_contrast-0.04_trial-008_side-RDLC_Resnet50_santini_eyelid_detectionJul182025shuffle1_snapshot_110_full.pickle\n",
      "The videos are analyzed. Now your research can truly start!\n",
      "You can create labeled videos with 'create_labeled_video'.\n",
      "If the tracking is not satisfactory for some videos, consider expanding the training set. You can use the function 'extract_outlier_frames' to extract a few representative outlier frames.\n",
      "\n",
      "['/var/folders/g_/1p95771n5l1f_f8gbbftkjy80000gn/T/tmpo1gh2wv6/temp_BLNK_1006_lightLevel_direction-LightFlux_sequence-1_contrast-0.04_trial-008_side-RDLC_Resnet50_santini_eyelid_detectionJul182025shuffle1_snapshot_110.h5']\n"
     ]
    },
    {
     "name": "stderr",
     "output_type": "stream",
     "text": [
      "/opt/anaconda3/envs/pylids/lib/python3.10/site-packages/numpy/polynomial/polynomial.py:1362: RankWarning: The fit may be poorly conditioned\n",
      "  return pu._fit(polyvander, x, y, deg, rcond, full, w)\n"
     ]
    },
    {
     "name": "stdout",
     "output_type": "stream",
     "text": [
      "Processing video: 11/26\n",
      "Model weights already exist!\n",
      "Analyzing videos with /Users/zacharykelly/Library/Application Support/pylids/pytorch-pupil-v1/dlc-models-pytorch/iteration-0/santini_eyelid_detectionJul182025-trainset99shuffle1/train/snapshot-best-220.pt\n",
      "Starting to analyze temp_blnk_pipeline/temp_BLNK_1006_lightLevel_direction-LightFlux_sequence-1_contrast-0.07_trial-020_side-R.avi\n",
      "Video metadata: \n",
      "  Overall # of frames:    5760\n",
      "  Duration of video [s]:  32.00\n",
      "  fps:                    180.0\n",
      "  resolution:             w=640, h=480\n",
      "\n",
      "Running pose prediction with batch size 8\n"
     ]
    },
    {
     "name": "stderr",
     "output_type": "stream",
     "text": [
      "100%|██████████| 5760/5760 [03:14<00:00, 29.58it/s]\n"
     ]
    },
    {
     "name": "stdout",
     "output_type": "stream",
     "text": [
      "Saving results in /var/folders/g_/1p95771n5l1f_f8gbbftkjy80000gn/T/tmpuur7l529/temp_BLNK_1006_lightLevel_direction-LightFlux_sequence-1_contrast-0.07_trial-020_side-RDLC_Resnet50_santini_eyelid_detectionJul182025shuffle1_snapshot_220.h5 and /var/folders/g_/1p95771n5l1f_f8gbbftkjy80000gn/T/tmpuur7l529/temp_BLNK_1006_lightLevel_direction-LightFlux_sequence-1_contrast-0.07_trial-020_side-RDLC_Resnet50_santini_eyelid_detectionJul182025shuffle1_snapshot_220_full.pickle\n",
      "The videos are analyzed. Now your research can truly start!\n",
      "You can create labeled videos with 'create_labeled_video'.\n",
      "If the tracking is not satisfactory for some videos, consider expanding the training set. You can use the function 'extract_outlier_frames' to extract a few representative outlier frames.\n",
      "\n",
      "['/var/folders/g_/1p95771n5l1f_f8gbbftkjy80000gn/T/tmpuur7l529/temp_BLNK_1006_lightLevel_direction-LightFlux_sequence-1_contrast-0.07_trial-020_side-RDLC_Resnet50_santini_eyelid_detectionJul182025shuffle1_snapshot_220.h5']\n",
      "Model weights already exist!\n",
      "Analyzing videos with /Users/zacharykelly/Library/Application Support/pylids/pytorch-eyelid-v1/dlc-models-pytorch/iteration-0/santini_eyelid_detectionJul182025-trainset99shuffle1/train/snapshot-best-110.pt\n",
      "Starting to analyze temp_blnk_pipeline/temp_BLNK_1006_lightLevel_direction-LightFlux_sequence-1_contrast-0.07_trial-020_side-R.avi\n",
      "Video metadata: \n",
      "  Overall # of frames:    5760\n",
      "  Duration of video [s]:  32.00\n",
      "  fps:                    180.0\n",
      "  resolution:             w=640, h=480\n",
      "\n",
      "Running pose prediction with batch size 8\n"
     ]
    },
    {
     "name": "stderr",
     "output_type": "stream",
     "text": [
      "100%|██████████| 5760/5760 [04:13<00:00, 22.71it/s]\n"
     ]
    },
    {
     "name": "stdout",
     "output_type": "stream",
     "text": [
      "Saving results in /var/folders/g_/1p95771n5l1f_f8gbbftkjy80000gn/T/tmpp3um6mj7/temp_BLNK_1006_lightLevel_direction-LightFlux_sequence-1_contrast-0.07_trial-020_side-RDLC_Resnet50_santini_eyelid_detectionJul182025shuffle1_snapshot_110.h5 and /var/folders/g_/1p95771n5l1f_f8gbbftkjy80000gn/T/tmpp3um6mj7/temp_BLNK_1006_lightLevel_direction-LightFlux_sequence-1_contrast-0.07_trial-020_side-RDLC_Resnet50_santini_eyelid_detectionJul182025shuffle1_snapshot_110_full.pickle\n",
      "The videos are analyzed. Now your research can truly start!\n",
      "You can create labeled videos with 'create_labeled_video'.\n",
      "If the tracking is not satisfactory for some videos, consider expanding the training set. You can use the function 'extract_outlier_frames' to extract a few representative outlier frames.\n",
      "\n",
      "['/var/folders/g_/1p95771n5l1f_f8gbbftkjy80000gn/T/tmpp3um6mj7/temp_BLNK_1006_lightLevel_direction-LightFlux_sequence-1_contrast-0.07_trial-020_side-RDLC_Resnet50_santini_eyelid_detectionJul182025shuffle1_snapshot_110.h5']\n"
     ]
    },
    {
     "name": "stderr",
     "output_type": "stream",
     "text": [
      "/opt/anaconda3/envs/pylids/lib/python3.10/site-packages/numpy/polynomial/polynomial.py:1362: RankWarning: The fit may be poorly conditioned\n",
      "  return pu._fit(polyvander, x, y, deg, rcond, full, w)\n"
     ]
    },
    {
     "name": "stdout",
     "output_type": "stream",
     "text": [
      "Processing video: 12/26\n",
      "Model weights already exist!\n",
      "Analyzing videos with /Users/zacharykelly/Library/Application Support/pylids/pytorch-pupil-v1/dlc-models-pytorch/iteration-0/santini_eyelid_detectionJul182025-trainset99shuffle1/train/snapshot-best-220.pt\n",
      "Starting to analyze temp_blnk_pipeline/temp_BLNK_1006_lightLevel_direction-LightFlux_sequence-1_contrast-0.60_trial-023_side-R.avi\n",
      "Video metadata: \n",
      "  Overall # of frames:    5760\n",
      "  Duration of video [s]:  32.00\n",
      "  fps:                    180.0\n",
      "  resolution:             w=640, h=480\n",
      "\n",
      "Running pose prediction with batch size 8\n"
     ]
    },
    {
     "name": "stderr",
     "output_type": "stream",
     "text": [
      "100%|██████████| 5760/5760 [03:15<00:00, 29.44it/s]\n"
     ]
    },
    {
     "name": "stdout",
     "output_type": "stream",
     "text": [
      "Saving results in /var/folders/g_/1p95771n5l1f_f8gbbftkjy80000gn/T/tmpzanzl6yw/temp_BLNK_1006_lightLevel_direction-LightFlux_sequence-1_contrast-0.60_trial-023_side-RDLC_Resnet50_santini_eyelid_detectionJul182025shuffle1_snapshot_220.h5 and /var/folders/g_/1p95771n5l1f_f8gbbftkjy80000gn/T/tmpzanzl6yw/temp_BLNK_1006_lightLevel_direction-LightFlux_sequence-1_contrast-0.60_trial-023_side-RDLC_Resnet50_santini_eyelid_detectionJul182025shuffle1_snapshot_220_full.pickle\n",
      "The videos are analyzed. Now your research can truly start!\n",
      "You can create labeled videos with 'create_labeled_video'.\n",
      "If the tracking is not satisfactory for some videos, consider expanding the training set. You can use the function 'extract_outlier_frames' to extract a few representative outlier frames.\n",
      "\n",
      "['/var/folders/g_/1p95771n5l1f_f8gbbftkjy80000gn/T/tmpzanzl6yw/temp_BLNK_1006_lightLevel_direction-LightFlux_sequence-1_contrast-0.60_trial-023_side-RDLC_Resnet50_santini_eyelid_detectionJul182025shuffle1_snapshot_220.h5']\n",
      "Model weights already exist!\n",
      "Analyzing videos with /Users/zacharykelly/Library/Application Support/pylids/pytorch-eyelid-v1/dlc-models-pytorch/iteration-0/santini_eyelid_detectionJul182025-trainset99shuffle1/train/snapshot-best-110.pt\n",
      "Starting to analyze temp_blnk_pipeline/temp_BLNK_1006_lightLevel_direction-LightFlux_sequence-1_contrast-0.60_trial-023_side-R.avi\n",
      "Video metadata: \n",
      "  Overall # of frames:    5760\n",
      "  Duration of video [s]:  32.00\n",
      "  fps:                    180.0\n",
      "  resolution:             w=640, h=480\n",
      "\n",
      "Running pose prediction with batch size 8\n"
     ]
    },
    {
     "name": "stderr",
     "output_type": "stream",
     "text": [
      "100%|██████████| 5760/5760 [04:15<00:00, 22.59it/s]\n"
     ]
    },
    {
     "name": "stdout",
     "output_type": "stream",
     "text": [
      "Saving results in /var/folders/g_/1p95771n5l1f_f8gbbftkjy80000gn/T/tmpr7k23bcn/temp_BLNK_1006_lightLevel_direction-LightFlux_sequence-1_contrast-0.60_trial-023_side-RDLC_Resnet50_santini_eyelid_detectionJul182025shuffle1_snapshot_110.h5 and /var/folders/g_/1p95771n5l1f_f8gbbftkjy80000gn/T/tmpr7k23bcn/temp_BLNK_1006_lightLevel_direction-LightFlux_sequence-1_contrast-0.60_trial-023_side-RDLC_Resnet50_santini_eyelid_detectionJul182025shuffle1_snapshot_110_full.pickle\n",
      "The videos are analyzed. Now your research can truly start!\n",
      "You can create labeled videos with 'create_labeled_video'.\n",
      "If the tracking is not satisfactory for some videos, consider expanding the training set. You can use the function 'extract_outlier_frames' to extract a few representative outlier frames.\n",
      "\n",
      "['/var/folders/g_/1p95771n5l1f_f8gbbftkjy80000gn/T/tmpr7k23bcn/temp_BLNK_1006_lightLevel_direction-LightFlux_sequence-1_contrast-0.60_trial-023_side-RDLC_Resnet50_santini_eyelid_detectionJul182025shuffle1_snapshot_110.h5']\n"
     ]
    },
    {
     "name": "stderr",
     "output_type": "stream",
     "text": [
      "/opt/anaconda3/envs/pylids/lib/python3.10/site-packages/numpy/polynomial/polynomial.py:1362: RankWarning: The fit may be poorly conditioned\n",
      "  return pu._fit(polyvander, x, y, deg, rcond, full, w)\n"
     ]
    },
    {
     "name": "stdout",
     "output_type": "stream",
     "text": [
      "Processing video: 13/26\n",
      "Model weights already exist!\n",
      "Analyzing videos with /Users/zacharykelly/Library/Application Support/pylids/pytorch-pupil-v1/dlc-models-pytorch/iteration-0/santini_eyelid_detectionJul182025-trainset99shuffle1/train/snapshot-best-220.pt\n",
      "Starting to analyze temp_blnk_pipeline/temp_BLNK_1006_lightLevel_direction-LightFlux_sequence-1_contrast-0.60_trial-014_side-R.avi\n",
      "Video metadata: \n",
      "  Overall # of frames:    5760\n",
      "  Duration of video [s]:  32.00\n",
      "  fps:                    180.0\n",
      "  resolution:             w=640, h=480\n",
      "\n",
      "Running pose prediction with batch size 8\n"
     ]
    },
    {
     "name": "stderr",
     "output_type": "stream",
     "text": [
      "100%|██████████| 5760/5760 [03:15<00:00, 29.46it/s]\n"
     ]
    },
    {
     "name": "stdout",
     "output_type": "stream",
     "text": [
      "Saving results in /var/folders/g_/1p95771n5l1f_f8gbbftkjy80000gn/T/tmpa2fj7ggh/temp_BLNK_1006_lightLevel_direction-LightFlux_sequence-1_contrast-0.60_trial-014_side-RDLC_Resnet50_santini_eyelid_detectionJul182025shuffle1_snapshot_220.h5 and /var/folders/g_/1p95771n5l1f_f8gbbftkjy80000gn/T/tmpa2fj7ggh/temp_BLNK_1006_lightLevel_direction-LightFlux_sequence-1_contrast-0.60_trial-014_side-RDLC_Resnet50_santini_eyelid_detectionJul182025shuffle1_snapshot_220_full.pickle\n",
      "The videos are analyzed. Now your research can truly start!\n",
      "You can create labeled videos with 'create_labeled_video'.\n",
      "If the tracking is not satisfactory for some videos, consider expanding the training set. You can use the function 'extract_outlier_frames' to extract a few representative outlier frames.\n",
      "\n",
      "['/var/folders/g_/1p95771n5l1f_f8gbbftkjy80000gn/T/tmpa2fj7ggh/temp_BLNK_1006_lightLevel_direction-LightFlux_sequence-1_contrast-0.60_trial-014_side-RDLC_Resnet50_santini_eyelid_detectionJul182025shuffle1_snapshot_220.h5']\n",
      "Model weights already exist!\n",
      "Analyzing videos with /Users/zacharykelly/Library/Application Support/pylids/pytorch-eyelid-v1/dlc-models-pytorch/iteration-0/santini_eyelid_detectionJul182025-trainset99shuffle1/train/snapshot-best-110.pt\n",
      "Starting to analyze temp_blnk_pipeline/temp_BLNK_1006_lightLevel_direction-LightFlux_sequence-1_contrast-0.60_trial-014_side-R.avi\n",
      "Video metadata: \n",
      "  Overall # of frames:    5760\n",
      "  Duration of video [s]:  32.00\n",
      "  fps:                    180.0\n",
      "  resolution:             w=640, h=480\n",
      "\n",
      "Running pose prediction with batch size 8\n"
     ]
    },
    {
     "name": "stderr",
     "output_type": "stream",
     "text": [
      "100%|██████████| 5760/5760 [04:14<00:00, 22.61it/s]\n"
     ]
    },
    {
     "name": "stdout",
     "output_type": "stream",
     "text": [
      "Saving results in /var/folders/g_/1p95771n5l1f_f8gbbftkjy80000gn/T/tmpj7geb5gu/temp_BLNK_1006_lightLevel_direction-LightFlux_sequence-1_contrast-0.60_trial-014_side-RDLC_Resnet50_santini_eyelid_detectionJul182025shuffle1_snapshot_110.h5 and /var/folders/g_/1p95771n5l1f_f8gbbftkjy80000gn/T/tmpj7geb5gu/temp_BLNK_1006_lightLevel_direction-LightFlux_sequence-1_contrast-0.60_trial-014_side-RDLC_Resnet50_santini_eyelid_detectionJul182025shuffle1_snapshot_110_full.pickle\n",
      "The videos are analyzed. Now your research can truly start!\n",
      "You can create labeled videos with 'create_labeled_video'.\n",
      "If the tracking is not satisfactory for some videos, consider expanding the training set. You can use the function 'extract_outlier_frames' to extract a few representative outlier frames.\n",
      "\n",
      "['/var/folders/g_/1p95771n5l1f_f8gbbftkjy80000gn/T/tmpj7geb5gu/temp_BLNK_1006_lightLevel_direction-LightFlux_sequence-1_contrast-0.60_trial-014_side-RDLC_Resnet50_santini_eyelid_detectionJul182025shuffle1_snapshot_110.h5']\n"
     ]
    },
    {
     "name": "stderr",
     "output_type": "stream",
     "text": [
      "/opt/anaconda3/envs/pylids/lib/python3.10/site-packages/numpy/polynomial/polynomial.py:1362: RankWarning: The fit may be poorly conditioned\n",
      "  return pu._fit(polyvander, x, y, deg, rcond, full, w)\n"
     ]
    },
    {
     "name": "stdout",
     "output_type": "stream",
     "text": [
      "Processing video: 14/26\n",
      "Model weights already exist!\n",
      "Analyzing videos with /Users/zacharykelly/Library/Application Support/pylids/pytorch-pupil-v1/dlc-models-pytorch/iteration-0/santini_eyelid_detectionJul182025-trainset99shuffle1/train/snapshot-best-220.pt\n",
      "Starting to analyze temp_blnk_pipeline/temp_BLNK_1006_lightLevel_direction-LightFlux_sequence-1_contrast-0.07_trial-012_side-R.avi\n",
      "Video metadata: \n",
      "  Overall # of frames:    5760\n",
      "  Duration of video [s]:  32.00\n",
      "  fps:                    180.0\n",
      "  resolution:             w=640, h=480\n",
      "\n",
      "Running pose prediction with batch size 8\n"
     ]
    },
    {
     "name": "stderr",
     "output_type": "stream",
     "text": [
      "100%|██████████| 5760/5760 [03:16<00:00, 29.24it/s]\n"
     ]
    },
    {
     "name": "stdout",
     "output_type": "stream",
     "text": [
      "Saving results in /var/folders/g_/1p95771n5l1f_f8gbbftkjy80000gn/T/tmp7skttm70/temp_BLNK_1006_lightLevel_direction-LightFlux_sequence-1_contrast-0.07_trial-012_side-RDLC_Resnet50_santini_eyelid_detectionJul182025shuffle1_snapshot_220.h5 and /var/folders/g_/1p95771n5l1f_f8gbbftkjy80000gn/T/tmp7skttm70/temp_BLNK_1006_lightLevel_direction-LightFlux_sequence-1_contrast-0.07_trial-012_side-RDLC_Resnet50_santini_eyelid_detectionJul182025shuffle1_snapshot_220_full.pickle\n",
      "The videos are analyzed. Now your research can truly start!\n",
      "You can create labeled videos with 'create_labeled_video'.\n",
      "If the tracking is not satisfactory for some videos, consider expanding the training set. You can use the function 'extract_outlier_frames' to extract a few representative outlier frames.\n",
      "\n",
      "['/var/folders/g_/1p95771n5l1f_f8gbbftkjy80000gn/T/tmp7skttm70/temp_BLNK_1006_lightLevel_direction-LightFlux_sequence-1_contrast-0.07_trial-012_side-RDLC_Resnet50_santini_eyelid_detectionJul182025shuffle1_snapshot_220.h5']\n",
      "Model weights already exist!\n",
      "Analyzing videos with /Users/zacharykelly/Library/Application Support/pylids/pytorch-eyelid-v1/dlc-models-pytorch/iteration-0/santini_eyelid_detectionJul182025-trainset99shuffle1/train/snapshot-best-110.pt\n",
      "Starting to analyze temp_blnk_pipeline/temp_BLNK_1006_lightLevel_direction-LightFlux_sequence-1_contrast-0.07_trial-012_side-R.avi\n",
      "Video metadata: \n",
      "  Overall # of frames:    5760\n",
      "  Duration of video [s]:  32.00\n",
      "  fps:                    180.0\n",
      "  resolution:             w=640, h=480\n",
      "\n",
      "Running pose prediction with batch size 8\n"
     ]
    },
    {
     "name": "stderr",
     "output_type": "stream",
     "text": [
      "100%|██████████| 5760/5760 [04:21<00:00, 22.00it/s]\n"
     ]
    },
    {
     "name": "stdout",
     "output_type": "stream",
     "text": [
      "Saving results in /var/folders/g_/1p95771n5l1f_f8gbbftkjy80000gn/T/tmpsnauxp49/temp_BLNK_1006_lightLevel_direction-LightFlux_sequence-1_contrast-0.07_trial-012_side-RDLC_Resnet50_santini_eyelid_detectionJul182025shuffle1_snapshot_110.h5 and /var/folders/g_/1p95771n5l1f_f8gbbftkjy80000gn/T/tmpsnauxp49/temp_BLNK_1006_lightLevel_direction-LightFlux_sequence-1_contrast-0.07_trial-012_side-RDLC_Resnet50_santini_eyelid_detectionJul182025shuffle1_snapshot_110_full.pickle\n",
      "The videos are analyzed. Now your research can truly start!\n",
      "You can create labeled videos with 'create_labeled_video'.\n",
      "If the tracking is not satisfactory for some videos, consider expanding the training set. You can use the function 'extract_outlier_frames' to extract a few representative outlier frames.\n",
      "\n",
      "['/var/folders/g_/1p95771n5l1f_f8gbbftkjy80000gn/T/tmpsnauxp49/temp_BLNK_1006_lightLevel_direction-LightFlux_sequence-1_contrast-0.07_trial-012_side-RDLC_Resnet50_santini_eyelid_detectionJul182025shuffle1_snapshot_110.h5']\n"
     ]
    },
    {
     "name": "stderr",
     "output_type": "stream",
     "text": [
      "/opt/anaconda3/envs/pylids/lib/python3.10/site-packages/numpy/polynomial/polynomial.py:1362: RankWarning: The fit may be poorly conditioned\n",
      "  return pu._fit(polyvander, x, y, deg, rcond, full, w)\n"
     ]
    },
    {
     "name": "stdout",
     "output_type": "stream",
     "text": [
      "Processing video: 15/26\n",
      "Model weights already exist!\n",
      "Analyzing videos with /Users/zacharykelly/Library/Application Support/pylids/pytorch-pupil-v1/dlc-models-pytorch/iteration-0/santini_eyelid_detectionJul182025-trainset99shuffle1/train/snapshot-best-220.pt\n",
      "Starting to analyze temp_blnk_pipeline/temp_BLNK_1006_lightLevel_direction-LightFlux_sequence-1_contrast-0.60_trial-019_side-R.avi\n",
      "Video metadata: \n",
      "  Overall # of frames:    5760\n",
      "  Duration of video [s]:  32.00\n",
      "  fps:                    180.0\n",
      "  resolution:             w=640, h=480\n",
      "\n",
      "Running pose prediction with batch size 8\n"
     ]
    },
    {
     "name": "stderr",
     "output_type": "stream",
     "text": [
      "100%|██████████| 5760/5760 [03:15<00:00, 29.43it/s]\n"
     ]
    },
    {
     "name": "stdout",
     "output_type": "stream",
     "text": [
      "Saving results in /var/folders/g_/1p95771n5l1f_f8gbbftkjy80000gn/T/tmp8h9bddsc/temp_BLNK_1006_lightLevel_direction-LightFlux_sequence-1_contrast-0.60_trial-019_side-RDLC_Resnet50_santini_eyelid_detectionJul182025shuffle1_snapshot_220.h5 and /var/folders/g_/1p95771n5l1f_f8gbbftkjy80000gn/T/tmp8h9bddsc/temp_BLNK_1006_lightLevel_direction-LightFlux_sequence-1_contrast-0.60_trial-019_side-RDLC_Resnet50_santini_eyelid_detectionJul182025shuffle1_snapshot_220_full.pickle\n",
      "The videos are analyzed. Now your research can truly start!\n",
      "You can create labeled videos with 'create_labeled_video'.\n",
      "If the tracking is not satisfactory for some videos, consider expanding the training set. You can use the function 'extract_outlier_frames' to extract a few representative outlier frames.\n",
      "\n",
      "['/var/folders/g_/1p95771n5l1f_f8gbbftkjy80000gn/T/tmp8h9bddsc/temp_BLNK_1006_lightLevel_direction-LightFlux_sequence-1_contrast-0.60_trial-019_side-RDLC_Resnet50_santini_eyelid_detectionJul182025shuffle1_snapshot_220.h5']\n",
      "Model weights already exist!\n",
      "Analyzing videos with /Users/zacharykelly/Library/Application Support/pylids/pytorch-eyelid-v1/dlc-models-pytorch/iteration-0/santini_eyelid_detectionJul182025-trainset99shuffle1/train/snapshot-best-110.pt\n",
      "Starting to analyze temp_blnk_pipeline/temp_BLNK_1006_lightLevel_direction-LightFlux_sequence-1_contrast-0.60_trial-019_side-R.avi\n",
      "Video metadata: \n",
      "  Overall # of frames:    5760\n",
      "  Duration of video [s]:  32.00\n",
      "  fps:                    180.0\n",
      "  resolution:             w=640, h=480\n",
      "\n",
      "Running pose prediction with batch size 8\n"
     ]
    },
    {
     "name": "stderr",
     "output_type": "stream",
     "text": [
      "100%|██████████| 5760/5760 [04:13<00:00, 22.72it/s]\n"
     ]
    },
    {
     "name": "stdout",
     "output_type": "stream",
     "text": [
      "Saving results in /var/folders/g_/1p95771n5l1f_f8gbbftkjy80000gn/T/tmp2lkobns2/temp_BLNK_1006_lightLevel_direction-LightFlux_sequence-1_contrast-0.60_trial-019_side-RDLC_Resnet50_santini_eyelid_detectionJul182025shuffle1_snapshot_110.h5 and /var/folders/g_/1p95771n5l1f_f8gbbftkjy80000gn/T/tmp2lkobns2/temp_BLNK_1006_lightLevel_direction-LightFlux_sequence-1_contrast-0.60_trial-019_side-RDLC_Resnet50_santini_eyelid_detectionJul182025shuffle1_snapshot_110_full.pickle\n",
      "The videos are analyzed. Now your research can truly start!\n",
      "You can create labeled videos with 'create_labeled_video'.\n",
      "If the tracking is not satisfactory for some videos, consider expanding the training set. You can use the function 'extract_outlier_frames' to extract a few representative outlier frames.\n",
      "\n",
      "['/var/folders/g_/1p95771n5l1f_f8gbbftkjy80000gn/T/tmp2lkobns2/temp_BLNK_1006_lightLevel_direction-LightFlux_sequence-1_contrast-0.60_trial-019_side-RDLC_Resnet50_santini_eyelid_detectionJul182025shuffle1_snapshot_110.h5']\n"
     ]
    },
    {
     "name": "stderr",
     "output_type": "stream",
     "text": [
      "/opt/anaconda3/envs/pylids/lib/python3.10/site-packages/numpy/polynomial/polynomial.py:1362: RankWarning: The fit may be poorly conditioned\n",
      "  return pu._fit(polyvander, x, y, deg, rcond, full, w)\n"
     ]
    },
    {
     "name": "stdout",
     "output_type": "stream",
     "text": [
      "Processing video: 16/26\n",
      "Model weights already exist!\n",
      "Analyzing videos with /Users/zacharykelly/Library/Application Support/pylids/pytorch-pupil-v1/dlc-models-pytorch/iteration-0/santini_eyelid_detectionJul182025-trainset99shuffle1/train/snapshot-best-220.pt\n",
      "Starting to analyze temp_blnk_pipeline/temp_BLNK_1006_lightLevel_direction-LightFlux_sequence-1_contrast-0.60_trial-005_side-R.avi\n",
      "Video metadata: \n",
      "  Overall # of frames:    5760\n",
      "  Duration of video [s]:  32.00\n",
      "  fps:                    180.0\n",
      "  resolution:             w=640, h=480\n",
      "\n",
      "Running pose prediction with batch size 8\n"
     ]
    },
    {
     "name": "stderr",
     "output_type": "stream",
     "text": [
      "100%|██████████| 5760/5760 [03:14<00:00, 29.60it/s]\n"
     ]
    },
    {
     "name": "stdout",
     "output_type": "stream",
     "text": [
      "Saving results in /var/folders/g_/1p95771n5l1f_f8gbbftkjy80000gn/T/tmp0w6u1ctt/temp_BLNK_1006_lightLevel_direction-LightFlux_sequence-1_contrast-0.60_trial-005_side-RDLC_Resnet50_santini_eyelid_detectionJul182025shuffle1_snapshot_220.h5 and /var/folders/g_/1p95771n5l1f_f8gbbftkjy80000gn/T/tmp0w6u1ctt/temp_BLNK_1006_lightLevel_direction-LightFlux_sequence-1_contrast-0.60_trial-005_side-RDLC_Resnet50_santini_eyelid_detectionJul182025shuffle1_snapshot_220_full.pickle\n",
      "The videos are analyzed. Now your research can truly start!\n",
      "You can create labeled videos with 'create_labeled_video'.\n",
      "If the tracking is not satisfactory for some videos, consider expanding the training set. You can use the function 'extract_outlier_frames' to extract a few representative outlier frames.\n",
      "\n",
      "['/var/folders/g_/1p95771n5l1f_f8gbbftkjy80000gn/T/tmp0w6u1ctt/temp_BLNK_1006_lightLevel_direction-LightFlux_sequence-1_contrast-0.60_trial-005_side-RDLC_Resnet50_santini_eyelid_detectionJul182025shuffle1_snapshot_220.h5']\n",
      "Model weights already exist!\n",
      "Analyzing videos with /Users/zacharykelly/Library/Application Support/pylids/pytorch-eyelid-v1/dlc-models-pytorch/iteration-0/santini_eyelid_detectionJul182025-trainset99shuffle1/train/snapshot-best-110.pt\n",
      "Starting to analyze temp_blnk_pipeline/temp_BLNK_1006_lightLevel_direction-LightFlux_sequence-1_contrast-0.60_trial-005_side-R.avi\n",
      "Video metadata: \n",
      "  Overall # of frames:    5760\n",
      "  Duration of video [s]:  32.00\n",
      "  fps:                    180.0\n",
      "  resolution:             w=640, h=480\n",
      "\n",
      "Running pose prediction with batch size 8\n"
     ]
    },
    {
     "name": "stderr",
     "output_type": "stream",
     "text": [
      "100%|██████████| 5760/5760 [04:12<00:00, 22.78it/s]\n"
     ]
    },
    {
     "name": "stdout",
     "output_type": "stream",
     "text": [
      "Saving results in /var/folders/g_/1p95771n5l1f_f8gbbftkjy80000gn/T/tmpcbsl34s5/temp_BLNK_1006_lightLevel_direction-LightFlux_sequence-1_contrast-0.60_trial-005_side-RDLC_Resnet50_santini_eyelid_detectionJul182025shuffle1_snapshot_110.h5 and /var/folders/g_/1p95771n5l1f_f8gbbftkjy80000gn/T/tmpcbsl34s5/temp_BLNK_1006_lightLevel_direction-LightFlux_sequence-1_contrast-0.60_trial-005_side-RDLC_Resnet50_santini_eyelid_detectionJul182025shuffle1_snapshot_110_full.pickle\n",
      "The videos are analyzed. Now your research can truly start!\n",
      "You can create labeled videos with 'create_labeled_video'.\n",
      "If the tracking is not satisfactory for some videos, consider expanding the training set. You can use the function 'extract_outlier_frames' to extract a few representative outlier frames.\n",
      "\n",
      "['/var/folders/g_/1p95771n5l1f_f8gbbftkjy80000gn/T/tmpcbsl34s5/temp_BLNK_1006_lightLevel_direction-LightFlux_sequence-1_contrast-0.60_trial-005_side-RDLC_Resnet50_santini_eyelid_detectionJul182025shuffle1_snapshot_110.h5']\n"
     ]
    },
    {
     "name": "stderr",
     "output_type": "stream",
     "text": [
      "/opt/anaconda3/envs/pylids/lib/python3.10/site-packages/numpy/polynomial/polynomial.py:1362: RankWarning: The fit may be poorly conditioned\n",
      "  return pu._fit(polyvander, x, y, deg, rcond, full, w)\n"
     ]
    },
    {
     "name": "stdout",
     "output_type": "stream",
     "text": [
      "Processing video: 17/26\n",
      "Model weights already exist!\n",
      "Analyzing videos with /Users/zacharykelly/Library/Application Support/pylids/pytorch-pupil-v1/dlc-models-pytorch/iteration-0/santini_eyelid_detectionJul182025-trainset99shuffle1/train/snapshot-best-220.pt\n",
      "Starting to analyze temp_blnk_pipeline/temp_BLNK_1006_lightLevel_direction-LightFlux_sequence-1_contrast-0.15_trial-001_side-R.avi\n",
      "Video metadata: \n",
      "  Overall # of frames:    5760\n",
      "  Duration of video [s]:  32.00\n",
      "  fps:                    180.0\n",
      "  resolution:             w=640, h=480\n",
      "\n",
      "Running pose prediction with batch size 8\n"
     ]
    },
    {
     "name": "stderr",
     "output_type": "stream",
     "text": [
      "100%|██████████| 5760/5760 [03:14<00:00, 29.61it/s]\n"
     ]
    },
    {
     "name": "stdout",
     "output_type": "stream",
     "text": [
      "Saving results in /var/folders/g_/1p95771n5l1f_f8gbbftkjy80000gn/T/tmpwonkplx_/temp_BLNK_1006_lightLevel_direction-LightFlux_sequence-1_contrast-0.15_trial-001_side-RDLC_Resnet50_santini_eyelid_detectionJul182025shuffle1_snapshot_220.h5 and /var/folders/g_/1p95771n5l1f_f8gbbftkjy80000gn/T/tmpwonkplx_/temp_BLNK_1006_lightLevel_direction-LightFlux_sequence-1_contrast-0.15_trial-001_side-RDLC_Resnet50_santini_eyelid_detectionJul182025shuffle1_snapshot_220_full.pickle\n",
      "The videos are analyzed. Now your research can truly start!\n",
      "You can create labeled videos with 'create_labeled_video'.\n",
      "If the tracking is not satisfactory for some videos, consider expanding the training set. You can use the function 'extract_outlier_frames' to extract a few representative outlier frames.\n",
      "\n",
      "['/var/folders/g_/1p95771n5l1f_f8gbbftkjy80000gn/T/tmpwonkplx_/temp_BLNK_1006_lightLevel_direction-LightFlux_sequence-1_contrast-0.15_trial-001_side-RDLC_Resnet50_santini_eyelid_detectionJul182025shuffle1_snapshot_220.h5']\n",
      "Model weights already exist!\n",
      "Analyzing videos with /Users/zacharykelly/Library/Application Support/pylids/pytorch-eyelid-v1/dlc-models-pytorch/iteration-0/santini_eyelid_detectionJul182025-trainset99shuffle1/train/snapshot-best-110.pt\n",
      "Starting to analyze temp_blnk_pipeline/temp_BLNK_1006_lightLevel_direction-LightFlux_sequence-1_contrast-0.15_trial-001_side-R.avi\n",
      "Video metadata: \n",
      "  Overall # of frames:    5760\n",
      "  Duration of video [s]:  32.00\n",
      "  fps:                    180.0\n",
      "  resolution:             w=640, h=480\n",
      "\n",
      "Running pose prediction with batch size 8\n"
     ]
    },
    {
     "name": "stderr",
     "output_type": "stream",
     "text": [
      "100%|██████████| 5760/5760 [04:13<00:00, 22.68it/s]\n"
     ]
    },
    {
     "name": "stdout",
     "output_type": "stream",
     "text": [
      "Saving results in /var/folders/g_/1p95771n5l1f_f8gbbftkjy80000gn/T/tmplpmno0o3/temp_BLNK_1006_lightLevel_direction-LightFlux_sequence-1_contrast-0.15_trial-001_side-RDLC_Resnet50_santini_eyelid_detectionJul182025shuffle1_snapshot_110.h5 and /var/folders/g_/1p95771n5l1f_f8gbbftkjy80000gn/T/tmplpmno0o3/temp_BLNK_1006_lightLevel_direction-LightFlux_sequence-1_contrast-0.15_trial-001_side-RDLC_Resnet50_santini_eyelid_detectionJul182025shuffle1_snapshot_110_full.pickle\n",
      "The videos are analyzed. Now your research can truly start!\n",
      "You can create labeled videos with 'create_labeled_video'.\n",
      "If the tracking is not satisfactory for some videos, consider expanding the training set. You can use the function 'extract_outlier_frames' to extract a few representative outlier frames.\n",
      "\n",
      "['/var/folders/g_/1p95771n5l1f_f8gbbftkjy80000gn/T/tmplpmno0o3/temp_BLNK_1006_lightLevel_direction-LightFlux_sequence-1_contrast-0.15_trial-001_side-RDLC_Resnet50_santini_eyelid_detectionJul182025shuffle1_snapshot_110.h5']\n"
     ]
    },
    {
     "name": "stderr",
     "output_type": "stream",
     "text": [
      "/opt/anaconda3/envs/pylids/lib/python3.10/site-packages/numpy/polynomial/polynomial.py:1362: RankWarning: The fit may be poorly conditioned\n",
      "  return pu._fit(polyvander, x, y, deg, rcond, full, w)\n"
     ]
    },
    {
     "name": "stdout",
     "output_type": "stream",
     "text": [
      "Processing video: 18/26\n",
      "Model weights already exist!\n",
      "Analyzing videos with /Users/zacharykelly/Library/Application Support/pylids/pytorch-pupil-v1/dlc-models-pytorch/iteration-0/santini_eyelid_detectionJul182025-trainset99shuffle1/train/snapshot-best-220.pt\n",
      "Starting to analyze temp_blnk_pipeline/temp_BLNK_1006_lightLevel_direction-LightFlux_sequence-1_contrast-0.07_trial-009_side-R.avi\n",
      "Video metadata: \n",
      "  Overall # of frames:    5760\n",
      "  Duration of video [s]:  32.00\n",
      "  fps:                    180.0\n",
      "  resolution:             w=640, h=480\n",
      "\n",
      "Running pose prediction with batch size 8\n"
     ]
    },
    {
     "name": "stderr",
     "output_type": "stream",
     "text": [
      "100%|██████████| 5760/5760 [03:15<00:00, 29.53it/s]\n"
     ]
    },
    {
     "name": "stdout",
     "output_type": "stream",
     "text": [
      "Saving results in /var/folders/g_/1p95771n5l1f_f8gbbftkjy80000gn/T/tmpqptaq9ch/temp_BLNK_1006_lightLevel_direction-LightFlux_sequence-1_contrast-0.07_trial-009_side-RDLC_Resnet50_santini_eyelid_detectionJul182025shuffle1_snapshot_220.h5 and /var/folders/g_/1p95771n5l1f_f8gbbftkjy80000gn/T/tmpqptaq9ch/temp_BLNK_1006_lightLevel_direction-LightFlux_sequence-1_contrast-0.07_trial-009_side-RDLC_Resnet50_santini_eyelid_detectionJul182025shuffle1_snapshot_220_full.pickle\n",
      "The videos are analyzed. Now your research can truly start!\n",
      "You can create labeled videos with 'create_labeled_video'.\n",
      "If the tracking is not satisfactory for some videos, consider expanding the training set. You can use the function 'extract_outlier_frames' to extract a few representative outlier frames.\n",
      "\n",
      "['/var/folders/g_/1p95771n5l1f_f8gbbftkjy80000gn/T/tmpqptaq9ch/temp_BLNK_1006_lightLevel_direction-LightFlux_sequence-1_contrast-0.07_trial-009_side-RDLC_Resnet50_santini_eyelid_detectionJul182025shuffle1_snapshot_220.h5']\n",
      "Model weights already exist!\n",
      "Analyzing videos with /Users/zacharykelly/Library/Application Support/pylids/pytorch-eyelid-v1/dlc-models-pytorch/iteration-0/santini_eyelid_detectionJul182025-trainset99shuffle1/train/snapshot-best-110.pt\n",
      "Starting to analyze temp_blnk_pipeline/temp_BLNK_1006_lightLevel_direction-LightFlux_sequence-1_contrast-0.07_trial-009_side-R.avi\n",
      "Video metadata: \n",
      "  Overall # of frames:    5760\n",
      "  Duration of video [s]:  32.00\n",
      "  fps:                    180.0\n",
      "  resolution:             w=640, h=480\n",
      "\n",
      "Running pose prediction with batch size 8\n"
     ]
    },
    {
     "name": "stderr",
     "output_type": "stream",
     "text": [
      "100%|██████████| 5760/5760 [04:14<00:00, 22.63it/s]\n"
     ]
    },
    {
     "name": "stdout",
     "output_type": "stream",
     "text": [
      "Saving results in /var/folders/g_/1p95771n5l1f_f8gbbftkjy80000gn/T/tmpfdamyi9r/temp_BLNK_1006_lightLevel_direction-LightFlux_sequence-1_contrast-0.07_trial-009_side-RDLC_Resnet50_santini_eyelid_detectionJul182025shuffle1_snapshot_110.h5 and /var/folders/g_/1p95771n5l1f_f8gbbftkjy80000gn/T/tmpfdamyi9r/temp_BLNK_1006_lightLevel_direction-LightFlux_sequence-1_contrast-0.07_trial-009_side-RDLC_Resnet50_santini_eyelid_detectionJul182025shuffle1_snapshot_110_full.pickle\n",
      "The videos are analyzed. Now your research can truly start!\n",
      "You can create labeled videos with 'create_labeled_video'.\n",
      "If the tracking is not satisfactory for some videos, consider expanding the training set. You can use the function 'extract_outlier_frames' to extract a few representative outlier frames.\n",
      "\n",
      "['/var/folders/g_/1p95771n5l1f_f8gbbftkjy80000gn/T/tmpfdamyi9r/temp_BLNK_1006_lightLevel_direction-LightFlux_sequence-1_contrast-0.07_trial-009_side-RDLC_Resnet50_santini_eyelid_detectionJul182025shuffle1_snapshot_110.h5']\n"
     ]
    },
    {
     "name": "stderr",
     "output_type": "stream",
     "text": [
      "/opt/anaconda3/envs/pylids/lib/python3.10/site-packages/numpy/polynomial/polynomial.py:1362: RankWarning: The fit may be poorly conditioned\n",
      "  return pu._fit(polyvander, x, y, deg, rcond, full, w)\n"
     ]
    },
    {
     "name": "stdout",
     "output_type": "stream",
     "text": [
      "Processing video: 19/26\n",
      "Model weights already exist!\n",
      "Analyzing videos with /Users/zacharykelly/Library/Application Support/pylids/pytorch-pupil-v1/dlc-models-pytorch/iteration-0/santini_eyelid_detectionJul182025-trainset99shuffle1/train/snapshot-best-220.pt\n",
      "Starting to analyze temp_blnk_pipeline/temp_BLNK_1006_lightLevel_direction-LightFlux_sequence-1_contrast-0.15_trial-010_side-R.avi\n",
      "Video metadata: \n",
      "  Overall # of frames:    5760\n",
      "  Duration of video [s]:  32.00\n",
      "  fps:                    180.0\n",
      "  resolution:             w=640, h=480\n",
      "\n",
      "Running pose prediction with batch size 8\n"
     ]
    },
    {
     "name": "stderr",
     "output_type": "stream",
     "text": [
      "100%|██████████| 5760/5760 [03:14<00:00, 29.60it/s]\n"
     ]
    },
    {
     "name": "stdout",
     "output_type": "stream",
     "text": [
      "Saving results in /var/folders/g_/1p95771n5l1f_f8gbbftkjy80000gn/T/tmph1nzixsa/temp_BLNK_1006_lightLevel_direction-LightFlux_sequence-1_contrast-0.15_trial-010_side-RDLC_Resnet50_santini_eyelid_detectionJul182025shuffle1_snapshot_220.h5 and /var/folders/g_/1p95771n5l1f_f8gbbftkjy80000gn/T/tmph1nzixsa/temp_BLNK_1006_lightLevel_direction-LightFlux_sequence-1_contrast-0.15_trial-010_side-RDLC_Resnet50_santini_eyelid_detectionJul182025shuffle1_snapshot_220_full.pickle\n",
      "The videos are analyzed. Now your research can truly start!\n",
      "You can create labeled videos with 'create_labeled_video'.\n",
      "If the tracking is not satisfactory for some videos, consider expanding the training set. You can use the function 'extract_outlier_frames' to extract a few representative outlier frames.\n",
      "\n",
      "['/var/folders/g_/1p95771n5l1f_f8gbbftkjy80000gn/T/tmph1nzixsa/temp_BLNK_1006_lightLevel_direction-LightFlux_sequence-1_contrast-0.15_trial-010_side-RDLC_Resnet50_santini_eyelid_detectionJul182025shuffle1_snapshot_220.h5']\n",
      "Model weights already exist!\n",
      "Analyzing videos with /Users/zacharykelly/Library/Application Support/pylids/pytorch-eyelid-v1/dlc-models-pytorch/iteration-0/santini_eyelid_detectionJul182025-trainset99shuffle1/train/snapshot-best-110.pt\n",
      "Starting to analyze temp_blnk_pipeline/temp_BLNK_1006_lightLevel_direction-LightFlux_sequence-1_contrast-0.15_trial-010_side-R.avi\n",
      "Video metadata: \n",
      "  Overall # of frames:    5760\n",
      "  Duration of video [s]:  32.00\n",
      "  fps:                    180.0\n",
      "  resolution:             w=640, h=480\n",
      "\n",
      "Running pose prediction with batch size 8\n"
     ]
    },
    {
     "name": "stderr",
     "output_type": "stream",
     "text": [
      "100%|██████████| 5760/5760 [04:13<00:00, 22.69it/s]\n"
     ]
    },
    {
     "name": "stdout",
     "output_type": "stream",
     "text": [
      "Saving results in /var/folders/g_/1p95771n5l1f_f8gbbftkjy80000gn/T/tmphobrixzz/temp_BLNK_1006_lightLevel_direction-LightFlux_sequence-1_contrast-0.15_trial-010_side-RDLC_Resnet50_santini_eyelid_detectionJul182025shuffle1_snapshot_110.h5 and /var/folders/g_/1p95771n5l1f_f8gbbftkjy80000gn/T/tmphobrixzz/temp_BLNK_1006_lightLevel_direction-LightFlux_sequence-1_contrast-0.15_trial-010_side-RDLC_Resnet50_santini_eyelid_detectionJul182025shuffle1_snapshot_110_full.pickle\n",
      "The videos are analyzed. Now your research can truly start!\n",
      "You can create labeled videos with 'create_labeled_video'.\n",
      "If the tracking is not satisfactory for some videos, consider expanding the training set. You can use the function 'extract_outlier_frames' to extract a few representative outlier frames.\n",
      "\n",
      "['/var/folders/g_/1p95771n5l1f_f8gbbftkjy80000gn/T/tmphobrixzz/temp_BLNK_1006_lightLevel_direction-LightFlux_sequence-1_contrast-0.15_trial-010_side-RDLC_Resnet50_santini_eyelid_detectionJul182025shuffle1_snapshot_110.h5']\n"
     ]
    },
    {
     "name": "stderr",
     "output_type": "stream",
     "text": [
      "/opt/anaconda3/envs/pylids/lib/python3.10/site-packages/numpy/polynomial/polynomial.py:1362: RankWarning: The fit may be poorly conditioned\n",
      "  return pu._fit(polyvander, x, y, deg, rcond, full, w)\n"
     ]
    },
    {
     "name": "stdout",
     "output_type": "stream",
     "text": [
      "Processing video: 20/26\n",
      "Model weights already exist!\n",
      "Analyzing videos with /Users/zacharykelly/Library/Application Support/pylids/pytorch-pupil-v1/dlc-models-pytorch/iteration-0/santini_eyelid_detectionJul182025-trainset99shuffle1/train/snapshot-best-220.pt\n",
      "Starting to analyze temp_blnk_pipeline/temp_BLNK_1006_lightLevel_direction-LightFlux_sequence-1_contrast-0.07_trial-022_side-R.avi\n",
      "Video metadata: \n",
      "  Overall # of frames:    5760\n",
      "  Duration of video [s]:  32.00\n",
      "  fps:                    180.0\n",
      "  resolution:             w=640, h=480\n",
      "\n",
      "Running pose prediction with batch size 8\n"
     ]
    },
    {
     "name": "stderr",
     "output_type": "stream",
     "text": [
      "100%|██████████| 5760/5760 [03:15<00:00, 29.53it/s]\n"
     ]
    },
    {
     "name": "stdout",
     "output_type": "stream",
     "text": [
      "Saving results in /var/folders/g_/1p95771n5l1f_f8gbbftkjy80000gn/T/tmp06r3tru3/temp_BLNK_1006_lightLevel_direction-LightFlux_sequence-1_contrast-0.07_trial-022_side-RDLC_Resnet50_santini_eyelid_detectionJul182025shuffle1_snapshot_220.h5 and /var/folders/g_/1p95771n5l1f_f8gbbftkjy80000gn/T/tmp06r3tru3/temp_BLNK_1006_lightLevel_direction-LightFlux_sequence-1_contrast-0.07_trial-022_side-RDLC_Resnet50_santini_eyelid_detectionJul182025shuffle1_snapshot_220_full.pickle\n",
      "The videos are analyzed. Now your research can truly start!\n",
      "You can create labeled videos with 'create_labeled_video'.\n",
      "If the tracking is not satisfactory for some videos, consider expanding the training set. You can use the function 'extract_outlier_frames' to extract a few representative outlier frames.\n",
      "\n",
      "['/var/folders/g_/1p95771n5l1f_f8gbbftkjy80000gn/T/tmp06r3tru3/temp_BLNK_1006_lightLevel_direction-LightFlux_sequence-1_contrast-0.07_trial-022_side-RDLC_Resnet50_santini_eyelid_detectionJul182025shuffle1_snapshot_220.h5']\n",
      "Model weights already exist!\n",
      "Analyzing videos with /Users/zacharykelly/Library/Application Support/pylids/pytorch-eyelid-v1/dlc-models-pytorch/iteration-0/santini_eyelid_detectionJul182025-trainset99shuffle1/train/snapshot-best-110.pt\n",
      "Starting to analyze temp_blnk_pipeline/temp_BLNK_1006_lightLevel_direction-LightFlux_sequence-1_contrast-0.07_trial-022_side-R.avi\n",
      "Video metadata: \n",
      "  Overall # of frames:    5760\n",
      "  Duration of video [s]:  32.00\n",
      "  fps:                    180.0\n",
      "  resolution:             w=640, h=480\n",
      "\n",
      "Running pose prediction with batch size 8\n"
     ]
    },
    {
     "name": "stderr",
     "output_type": "stream",
     "text": [
      "100%|██████████| 5760/5760 [04:17<00:00, 22.33it/s]\n"
     ]
    },
    {
     "name": "stdout",
     "output_type": "stream",
     "text": [
      "Saving results in /var/folders/g_/1p95771n5l1f_f8gbbftkjy80000gn/T/tmpl78x1q2t/temp_BLNK_1006_lightLevel_direction-LightFlux_sequence-1_contrast-0.07_trial-022_side-RDLC_Resnet50_santini_eyelid_detectionJul182025shuffle1_snapshot_110.h5 and /var/folders/g_/1p95771n5l1f_f8gbbftkjy80000gn/T/tmpl78x1q2t/temp_BLNK_1006_lightLevel_direction-LightFlux_sequence-1_contrast-0.07_trial-022_side-RDLC_Resnet50_santini_eyelid_detectionJul182025shuffle1_snapshot_110_full.pickle\n",
      "The videos are analyzed. Now your research can truly start!\n",
      "You can create labeled videos with 'create_labeled_video'.\n",
      "If the tracking is not satisfactory for some videos, consider expanding the training set. You can use the function 'extract_outlier_frames' to extract a few representative outlier frames.\n",
      "\n",
      "['/var/folders/g_/1p95771n5l1f_f8gbbftkjy80000gn/T/tmpl78x1q2t/temp_BLNK_1006_lightLevel_direction-LightFlux_sequence-1_contrast-0.07_trial-022_side-RDLC_Resnet50_santini_eyelid_detectionJul182025shuffle1_snapshot_110.h5']\n"
     ]
    },
    {
     "name": "stderr",
     "output_type": "stream",
     "text": [
      "/opt/anaconda3/envs/pylids/lib/python3.10/site-packages/numpy/polynomial/polynomial.py:1362: RankWarning: The fit may be poorly conditioned\n",
      "  return pu._fit(polyvander, x, y, deg, rcond, full, w)\n"
     ]
    },
    {
     "name": "stdout",
     "output_type": "stream",
     "text": [
      "Processing video: 21/26\n",
      "Model weights already exist!\n",
      "Analyzing videos with /Users/zacharykelly/Library/Application Support/pylids/pytorch-pupil-v1/dlc-models-pytorch/iteration-0/santini_eyelid_detectionJul182025-trainset99shuffle1/train/snapshot-best-220.pt\n",
      "Starting to analyze temp_blnk_pipeline/temp_BLNK_1006_lightLevel_direction-LightFlux_sequence-1_contrast-0.30_trial-004_side-R.avi\n",
      "Video metadata: \n",
      "  Overall # of frames:    5760\n",
      "  Duration of video [s]:  32.00\n",
      "  fps:                    180.0\n",
      "  resolution:             w=640, h=480\n",
      "\n",
      "Running pose prediction with batch size 8\n"
     ]
    },
    {
     "name": "stderr",
     "output_type": "stream",
     "text": [
      "100%|██████████| 5760/5760 [03:17<00:00, 29.20it/s]\n"
     ]
    },
    {
     "name": "stdout",
     "output_type": "stream",
     "text": [
      "Saving results in /var/folders/g_/1p95771n5l1f_f8gbbftkjy80000gn/T/tmpl45mbg_9/temp_BLNK_1006_lightLevel_direction-LightFlux_sequence-1_contrast-0.30_trial-004_side-RDLC_Resnet50_santini_eyelid_detectionJul182025shuffle1_snapshot_220.h5 and /var/folders/g_/1p95771n5l1f_f8gbbftkjy80000gn/T/tmpl45mbg_9/temp_BLNK_1006_lightLevel_direction-LightFlux_sequence-1_contrast-0.30_trial-004_side-RDLC_Resnet50_santini_eyelid_detectionJul182025shuffle1_snapshot_220_full.pickle\n",
      "The videos are analyzed. Now your research can truly start!\n",
      "You can create labeled videos with 'create_labeled_video'.\n",
      "If the tracking is not satisfactory for some videos, consider expanding the training set. You can use the function 'extract_outlier_frames' to extract a few representative outlier frames.\n",
      "\n",
      "['/var/folders/g_/1p95771n5l1f_f8gbbftkjy80000gn/T/tmpl45mbg_9/temp_BLNK_1006_lightLevel_direction-LightFlux_sequence-1_contrast-0.30_trial-004_side-RDLC_Resnet50_santini_eyelid_detectionJul182025shuffle1_snapshot_220.h5']\n",
      "Model weights already exist!\n",
      "Analyzing videos with /Users/zacharykelly/Library/Application Support/pylids/pytorch-eyelid-v1/dlc-models-pytorch/iteration-0/santini_eyelid_detectionJul182025-trainset99shuffle1/train/snapshot-best-110.pt\n",
      "Starting to analyze temp_blnk_pipeline/temp_BLNK_1006_lightLevel_direction-LightFlux_sequence-1_contrast-0.30_trial-004_side-R.avi\n",
      "Video metadata: \n",
      "  Overall # of frames:    5760\n",
      "  Duration of video [s]:  32.00\n",
      "  fps:                    180.0\n",
      "  resolution:             w=640, h=480\n",
      "\n",
      "Running pose prediction with batch size 8\n"
     ]
    },
    {
     "name": "stderr",
     "output_type": "stream",
     "text": [
      "100%|██████████| 5760/5760 [04:17<00:00, 22.35it/s]\n"
     ]
    },
    {
     "name": "stdout",
     "output_type": "stream",
     "text": [
      "Saving results in /var/folders/g_/1p95771n5l1f_f8gbbftkjy80000gn/T/tmpqrhc51t_/temp_BLNK_1006_lightLevel_direction-LightFlux_sequence-1_contrast-0.30_trial-004_side-RDLC_Resnet50_santini_eyelid_detectionJul182025shuffle1_snapshot_110.h5 and /var/folders/g_/1p95771n5l1f_f8gbbftkjy80000gn/T/tmpqrhc51t_/temp_BLNK_1006_lightLevel_direction-LightFlux_sequence-1_contrast-0.30_trial-004_side-RDLC_Resnet50_santini_eyelid_detectionJul182025shuffle1_snapshot_110_full.pickle\n",
      "The videos are analyzed. Now your research can truly start!\n",
      "You can create labeled videos with 'create_labeled_video'.\n",
      "If the tracking is not satisfactory for some videos, consider expanding the training set. You can use the function 'extract_outlier_frames' to extract a few representative outlier frames.\n",
      "\n",
      "['/var/folders/g_/1p95771n5l1f_f8gbbftkjy80000gn/T/tmpqrhc51t_/temp_BLNK_1006_lightLevel_direction-LightFlux_sequence-1_contrast-0.30_trial-004_side-RDLC_Resnet50_santini_eyelid_detectionJul182025shuffle1_snapshot_110.h5']\n"
     ]
    },
    {
     "name": "stderr",
     "output_type": "stream",
     "text": [
      "/opt/anaconda3/envs/pylids/lib/python3.10/site-packages/numpy/polynomial/polynomial.py:1362: RankWarning: The fit may be poorly conditioned\n",
      "  return pu._fit(polyvander, x, y, deg, rcond, full, w)\n"
     ]
    },
    {
     "name": "stdout",
     "output_type": "stream",
     "text": [
      "Processing video: 22/26\n",
      "Model weights already exist!\n",
      "Analyzing videos with /Users/zacharykelly/Library/Application Support/pylids/pytorch-pupil-v1/dlc-models-pytorch/iteration-0/santini_eyelid_detectionJul182025-trainset99shuffle1/train/snapshot-best-220.pt\n",
      "Starting to analyze temp_blnk_pipeline/temp_BLNK_1006_lightLevel_direction-LightFlux_sequence-1_contrast-0.15_trial-015_side-R.avi\n",
      "Video metadata: \n",
      "  Overall # of frames:    5760\n",
      "  Duration of video [s]:  32.00\n",
      "  fps:                    180.0\n",
      "  resolution:             w=640, h=480\n",
      "\n",
      "Running pose prediction with batch size 8\n"
     ]
    },
    {
     "name": "stderr",
     "output_type": "stream",
     "text": [
      "100%|██████████| 5760/5760 [03:14<00:00, 29.68it/s]\n"
     ]
    },
    {
     "name": "stdout",
     "output_type": "stream",
     "text": [
      "Saving results in /var/folders/g_/1p95771n5l1f_f8gbbftkjy80000gn/T/tmpduiws9f8/temp_BLNK_1006_lightLevel_direction-LightFlux_sequence-1_contrast-0.15_trial-015_side-RDLC_Resnet50_santini_eyelid_detectionJul182025shuffle1_snapshot_220.h5 and /var/folders/g_/1p95771n5l1f_f8gbbftkjy80000gn/T/tmpduiws9f8/temp_BLNK_1006_lightLevel_direction-LightFlux_sequence-1_contrast-0.15_trial-015_side-RDLC_Resnet50_santini_eyelid_detectionJul182025shuffle1_snapshot_220_full.pickle\n",
      "The videos are analyzed. Now your research can truly start!\n",
      "You can create labeled videos with 'create_labeled_video'.\n",
      "If the tracking is not satisfactory for some videos, consider expanding the training set. You can use the function 'extract_outlier_frames' to extract a few representative outlier frames.\n",
      "\n",
      "['/var/folders/g_/1p95771n5l1f_f8gbbftkjy80000gn/T/tmpduiws9f8/temp_BLNK_1006_lightLevel_direction-LightFlux_sequence-1_contrast-0.15_trial-015_side-RDLC_Resnet50_santini_eyelid_detectionJul182025shuffle1_snapshot_220.h5']\n",
      "Model weights already exist!\n",
      "Analyzing videos with /Users/zacharykelly/Library/Application Support/pylids/pytorch-eyelid-v1/dlc-models-pytorch/iteration-0/santini_eyelid_detectionJul182025-trainset99shuffle1/train/snapshot-best-110.pt\n",
      "Starting to analyze temp_blnk_pipeline/temp_BLNK_1006_lightLevel_direction-LightFlux_sequence-1_contrast-0.15_trial-015_side-R.avi\n",
      "Video metadata: \n",
      "  Overall # of frames:    5760\n",
      "  Duration of video [s]:  32.00\n",
      "  fps:                    180.0\n",
      "  resolution:             w=640, h=480\n",
      "\n",
      "Running pose prediction with batch size 8\n"
     ]
    },
    {
     "name": "stderr",
     "output_type": "stream",
     "text": [
      "100%|██████████| 5760/5760 [04:13<00:00, 22.74it/s]\n"
     ]
    },
    {
     "name": "stdout",
     "output_type": "stream",
     "text": [
      "Saving results in /var/folders/g_/1p95771n5l1f_f8gbbftkjy80000gn/T/tmp40mdwwtz/temp_BLNK_1006_lightLevel_direction-LightFlux_sequence-1_contrast-0.15_trial-015_side-RDLC_Resnet50_santini_eyelid_detectionJul182025shuffle1_snapshot_110.h5 and /var/folders/g_/1p95771n5l1f_f8gbbftkjy80000gn/T/tmp40mdwwtz/temp_BLNK_1006_lightLevel_direction-LightFlux_sequence-1_contrast-0.15_trial-015_side-RDLC_Resnet50_santini_eyelid_detectionJul182025shuffle1_snapshot_110_full.pickle\n",
      "The videos are analyzed. Now your research can truly start!\n",
      "You can create labeled videos with 'create_labeled_video'.\n",
      "If the tracking is not satisfactory for some videos, consider expanding the training set. You can use the function 'extract_outlier_frames' to extract a few representative outlier frames.\n",
      "\n",
      "['/var/folders/g_/1p95771n5l1f_f8gbbftkjy80000gn/T/tmp40mdwwtz/temp_BLNK_1006_lightLevel_direction-LightFlux_sequence-1_contrast-0.15_trial-015_side-RDLC_Resnet50_santini_eyelid_detectionJul182025shuffle1_snapshot_110.h5']\n"
     ]
    },
    {
     "name": "stderr",
     "output_type": "stream",
     "text": [
      "/opt/anaconda3/envs/pylids/lib/python3.10/site-packages/numpy/polynomial/polynomial.py:1362: RankWarning: The fit may be poorly conditioned\n",
      "  return pu._fit(polyvander, x, y, deg, rcond, full, w)\n"
     ]
    },
    {
     "name": "stdout",
     "output_type": "stream",
     "text": [
      "Processing video: 23/26\n",
      "Model weights already exist!\n",
      "Analyzing videos with /Users/zacharykelly/Library/Application Support/pylids/pytorch-pupil-v1/dlc-models-pytorch/iteration-0/santini_eyelid_detectionJul182025-trainset99shuffle1/train/snapshot-best-220.pt\n",
      "Starting to analyze temp_blnk_pipeline/temp_BLNK_1006_lightLevel_direction-LightFlux_sequence-1_contrast-0.15_trial-018_side-R.avi\n",
      "Video metadata: \n",
      "  Overall # of frames:    5760\n",
      "  Duration of video [s]:  32.00\n",
      "  fps:                    180.0\n",
      "  resolution:             w=640, h=480\n",
      "\n",
      "Running pose prediction with batch size 8\n"
     ]
    },
    {
     "name": "stderr",
     "output_type": "stream",
     "text": [
      "100%|██████████| 5760/5760 [03:13<00:00, 29.82it/s]\n"
     ]
    },
    {
     "name": "stdout",
     "output_type": "stream",
     "text": [
      "Saving results in /var/folders/g_/1p95771n5l1f_f8gbbftkjy80000gn/T/tmpx6rhfd94/temp_BLNK_1006_lightLevel_direction-LightFlux_sequence-1_contrast-0.15_trial-018_side-RDLC_Resnet50_santini_eyelid_detectionJul182025shuffle1_snapshot_220.h5 and /var/folders/g_/1p95771n5l1f_f8gbbftkjy80000gn/T/tmpx6rhfd94/temp_BLNK_1006_lightLevel_direction-LightFlux_sequence-1_contrast-0.15_trial-018_side-RDLC_Resnet50_santini_eyelid_detectionJul182025shuffle1_snapshot_220_full.pickle\n",
      "The videos are analyzed. Now your research can truly start!\n",
      "You can create labeled videos with 'create_labeled_video'.\n",
      "If the tracking is not satisfactory for some videos, consider expanding the training set. You can use the function 'extract_outlier_frames' to extract a few representative outlier frames.\n",
      "\n",
      "['/var/folders/g_/1p95771n5l1f_f8gbbftkjy80000gn/T/tmpx6rhfd94/temp_BLNK_1006_lightLevel_direction-LightFlux_sequence-1_contrast-0.15_trial-018_side-RDLC_Resnet50_santini_eyelid_detectionJul182025shuffle1_snapshot_220.h5']\n",
      "Model weights already exist!\n",
      "Analyzing videos with /Users/zacharykelly/Library/Application Support/pylids/pytorch-eyelid-v1/dlc-models-pytorch/iteration-0/santini_eyelid_detectionJul182025-trainset99shuffle1/train/snapshot-best-110.pt\n",
      "Starting to analyze temp_blnk_pipeline/temp_BLNK_1006_lightLevel_direction-LightFlux_sequence-1_contrast-0.15_trial-018_side-R.avi\n",
      "Video metadata: \n",
      "  Overall # of frames:    5760\n",
      "  Duration of video [s]:  32.00\n",
      "  fps:                    180.0\n",
      "  resolution:             w=640, h=480\n",
      "\n",
      "Running pose prediction with batch size 8\n"
     ]
    },
    {
     "name": "stderr",
     "output_type": "stream",
     "text": [
      "100%|██████████| 5760/5760 [04:12<00:00, 22.81it/s]\n"
     ]
    },
    {
     "name": "stdout",
     "output_type": "stream",
     "text": [
      "Saving results in /var/folders/g_/1p95771n5l1f_f8gbbftkjy80000gn/T/tmpg3eylwfr/temp_BLNK_1006_lightLevel_direction-LightFlux_sequence-1_contrast-0.15_trial-018_side-RDLC_Resnet50_santini_eyelid_detectionJul182025shuffle1_snapshot_110.h5 and /var/folders/g_/1p95771n5l1f_f8gbbftkjy80000gn/T/tmpg3eylwfr/temp_BLNK_1006_lightLevel_direction-LightFlux_sequence-1_contrast-0.15_trial-018_side-RDLC_Resnet50_santini_eyelid_detectionJul182025shuffle1_snapshot_110_full.pickle\n",
      "The videos are analyzed. Now your research can truly start!\n",
      "You can create labeled videos with 'create_labeled_video'.\n",
      "If the tracking is not satisfactory for some videos, consider expanding the training set. You can use the function 'extract_outlier_frames' to extract a few representative outlier frames.\n",
      "\n",
      "['/var/folders/g_/1p95771n5l1f_f8gbbftkjy80000gn/T/tmpg3eylwfr/temp_BLNK_1006_lightLevel_direction-LightFlux_sequence-1_contrast-0.15_trial-018_side-RDLC_Resnet50_santini_eyelid_detectionJul182025shuffle1_snapshot_110.h5']\n"
     ]
    },
    {
     "name": "stderr",
     "output_type": "stream",
     "text": [
      "/opt/anaconda3/envs/pylids/lib/python3.10/site-packages/numpy/polynomial/polynomial.py:1362: RankWarning: The fit may be poorly conditioned\n",
      "  return pu._fit(polyvander, x, y, deg, rcond, full, w)\n"
     ]
    },
    {
     "name": "stdout",
     "output_type": "stream",
     "text": [
      "Processing video: 24/26\n",
      "Model weights already exist!\n",
      "Analyzing videos with /Users/zacharykelly/Library/Application Support/pylids/pytorch-pupil-v1/dlc-models-pytorch/iteration-0/santini_eyelid_detectionJul182025-trainset99shuffle1/train/snapshot-best-220.pt\n",
      "Starting to analyze temp_blnk_pipeline/temp_BLNK_1006_lightLevel_direction-LightFlux_sequence-1_contrast-0.04_trial-024_side-R.avi\n",
      "Video metadata: \n",
      "  Overall # of frames:    5760\n",
      "  Duration of video [s]:  32.00\n",
      "  fps:                    180.0\n",
      "  resolution:             w=640, h=480\n",
      "\n",
      "Running pose prediction with batch size 8\n"
     ]
    },
    {
     "name": "stderr",
     "output_type": "stream",
     "text": [
      "100%|██████████| 5760/5760 [03:13<00:00, 29.78it/s]\n"
     ]
    },
    {
     "name": "stdout",
     "output_type": "stream",
     "text": [
      "Saving results in /var/folders/g_/1p95771n5l1f_f8gbbftkjy80000gn/T/tmpnpoymiah/temp_BLNK_1006_lightLevel_direction-LightFlux_sequence-1_contrast-0.04_trial-024_side-RDLC_Resnet50_santini_eyelid_detectionJul182025shuffle1_snapshot_220.h5 and /var/folders/g_/1p95771n5l1f_f8gbbftkjy80000gn/T/tmpnpoymiah/temp_BLNK_1006_lightLevel_direction-LightFlux_sequence-1_contrast-0.04_trial-024_side-RDLC_Resnet50_santini_eyelid_detectionJul182025shuffle1_snapshot_220_full.pickle\n",
      "The videos are analyzed. Now your research can truly start!\n",
      "You can create labeled videos with 'create_labeled_video'.\n",
      "If the tracking is not satisfactory for some videos, consider expanding the training set. You can use the function 'extract_outlier_frames' to extract a few representative outlier frames.\n",
      "\n",
      "['/var/folders/g_/1p95771n5l1f_f8gbbftkjy80000gn/T/tmpnpoymiah/temp_BLNK_1006_lightLevel_direction-LightFlux_sequence-1_contrast-0.04_trial-024_side-RDLC_Resnet50_santini_eyelid_detectionJul182025shuffle1_snapshot_220.h5']\n",
      "Model weights already exist!\n",
      "Analyzing videos with /Users/zacharykelly/Library/Application Support/pylids/pytorch-eyelid-v1/dlc-models-pytorch/iteration-0/santini_eyelid_detectionJul182025-trainset99shuffle1/train/snapshot-best-110.pt\n",
      "Starting to analyze temp_blnk_pipeline/temp_BLNK_1006_lightLevel_direction-LightFlux_sequence-1_contrast-0.04_trial-024_side-R.avi\n",
      "Video metadata: \n",
      "  Overall # of frames:    5760\n",
      "  Duration of video [s]:  32.00\n",
      "  fps:                    180.0\n",
      "  resolution:             w=640, h=480\n",
      "\n",
      "Running pose prediction with batch size 8\n"
     ]
    },
    {
     "name": "stderr",
     "output_type": "stream",
     "text": [
      "100%|██████████| 5760/5760 [04:12<00:00, 22.85it/s]\n"
     ]
    },
    {
     "name": "stdout",
     "output_type": "stream",
     "text": [
      "Saving results in /var/folders/g_/1p95771n5l1f_f8gbbftkjy80000gn/T/tmp_j782e3z/temp_BLNK_1006_lightLevel_direction-LightFlux_sequence-1_contrast-0.04_trial-024_side-RDLC_Resnet50_santini_eyelid_detectionJul182025shuffle1_snapshot_110.h5 and /var/folders/g_/1p95771n5l1f_f8gbbftkjy80000gn/T/tmp_j782e3z/temp_BLNK_1006_lightLevel_direction-LightFlux_sequence-1_contrast-0.04_trial-024_side-RDLC_Resnet50_santini_eyelid_detectionJul182025shuffle1_snapshot_110_full.pickle\n",
      "The videos are analyzed. Now your research can truly start!\n",
      "You can create labeled videos with 'create_labeled_video'.\n",
      "If the tracking is not satisfactory for some videos, consider expanding the training set. You can use the function 'extract_outlier_frames' to extract a few representative outlier frames.\n",
      "\n",
      "['/var/folders/g_/1p95771n5l1f_f8gbbftkjy80000gn/T/tmp_j782e3z/temp_BLNK_1006_lightLevel_direction-LightFlux_sequence-1_contrast-0.04_trial-024_side-RDLC_Resnet50_santini_eyelid_detectionJul182025shuffle1_snapshot_110.h5']\n"
     ]
    },
    {
     "name": "stderr",
     "output_type": "stream",
     "text": [
      "/opt/anaconda3/envs/pylids/lib/python3.10/site-packages/numpy/polynomial/polynomial.py:1362: RankWarning: The fit may be poorly conditioned\n",
      "  return pu._fit(polyvander, x, y, deg, rcond, full, w)\n"
     ]
    },
    {
     "name": "stdout",
     "output_type": "stream",
     "text": [
      "Processing video: 25/26\n",
      "Model weights already exist!\n",
      "Analyzing videos with /Users/zacharykelly/Library/Application Support/pylids/pytorch-pupil-v1/dlc-models-pytorch/iteration-0/santini_eyelid_detectionJul182025-trainset99shuffle1/train/snapshot-best-220.pt\n",
      "Starting to analyze temp_blnk_pipeline/temp_BLNK_1006_lightLevel_direction-LightFlux_sequence-1_contrast-0.04_trial-013_side-R.avi\n",
      "Video metadata: \n",
      "  Overall # of frames:    5760\n",
      "  Duration of video [s]:  32.00\n",
      "  fps:                    180.0\n",
      "  resolution:             w=640, h=480\n",
      "\n",
      "Running pose prediction with batch size 8\n"
     ]
    },
    {
     "name": "stderr",
     "output_type": "stream",
     "text": [
      "100%|██████████| 5760/5760 [03:13<00:00, 29.79it/s]\n"
     ]
    },
    {
     "name": "stdout",
     "output_type": "stream",
     "text": [
      "Saving results in /var/folders/g_/1p95771n5l1f_f8gbbftkjy80000gn/T/tmpp__6lpoi/temp_BLNK_1006_lightLevel_direction-LightFlux_sequence-1_contrast-0.04_trial-013_side-RDLC_Resnet50_santini_eyelid_detectionJul182025shuffle1_snapshot_220.h5 and /var/folders/g_/1p95771n5l1f_f8gbbftkjy80000gn/T/tmpp__6lpoi/temp_BLNK_1006_lightLevel_direction-LightFlux_sequence-1_contrast-0.04_trial-013_side-RDLC_Resnet50_santini_eyelid_detectionJul182025shuffle1_snapshot_220_full.pickle\n",
      "The videos are analyzed. Now your research can truly start!\n",
      "You can create labeled videos with 'create_labeled_video'.\n",
      "If the tracking is not satisfactory for some videos, consider expanding the training set. You can use the function 'extract_outlier_frames' to extract a few representative outlier frames.\n",
      "\n",
      "['/var/folders/g_/1p95771n5l1f_f8gbbftkjy80000gn/T/tmpp__6lpoi/temp_BLNK_1006_lightLevel_direction-LightFlux_sequence-1_contrast-0.04_trial-013_side-RDLC_Resnet50_santini_eyelid_detectionJul182025shuffle1_snapshot_220.h5']\n",
      "Model weights already exist!\n",
      "Analyzing videos with /Users/zacharykelly/Library/Application Support/pylids/pytorch-eyelid-v1/dlc-models-pytorch/iteration-0/santini_eyelid_detectionJul182025-trainset99shuffle1/train/snapshot-best-110.pt\n",
      "Starting to analyze temp_blnk_pipeline/temp_BLNK_1006_lightLevel_direction-LightFlux_sequence-1_contrast-0.04_trial-013_side-R.avi\n",
      "Video metadata: \n",
      "  Overall # of frames:    5760\n",
      "  Duration of video [s]:  32.00\n",
      "  fps:                    180.0\n",
      "  resolution:             w=640, h=480\n",
      "\n",
      "Running pose prediction with batch size 8\n"
     ]
    },
    {
     "name": "stderr",
     "output_type": "stream",
     "text": [
      "100%|██████████| 5760/5760 [04:11<00:00, 22.87it/s]\n"
     ]
    },
    {
     "name": "stdout",
     "output_type": "stream",
     "text": [
      "Saving results in /var/folders/g_/1p95771n5l1f_f8gbbftkjy80000gn/T/tmpqc15_gso/temp_BLNK_1006_lightLevel_direction-LightFlux_sequence-1_contrast-0.04_trial-013_side-RDLC_Resnet50_santini_eyelid_detectionJul182025shuffle1_snapshot_110.h5 and /var/folders/g_/1p95771n5l1f_f8gbbftkjy80000gn/T/tmpqc15_gso/temp_BLNK_1006_lightLevel_direction-LightFlux_sequence-1_contrast-0.04_trial-013_side-RDLC_Resnet50_santini_eyelid_detectionJul182025shuffle1_snapshot_110_full.pickle\n",
      "The videos are analyzed. Now your research can truly start!\n",
      "You can create labeled videos with 'create_labeled_video'.\n",
      "If the tracking is not satisfactory for some videos, consider expanding the training set. You can use the function 'extract_outlier_frames' to extract a few representative outlier frames.\n",
      "\n",
      "['/var/folders/g_/1p95771n5l1f_f8gbbftkjy80000gn/T/tmpqc15_gso/temp_BLNK_1006_lightLevel_direction-LightFlux_sequence-1_contrast-0.04_trial-013_side-RDLC_Resnet50_santini_eyelid_detectionJul182025shuffle1_snapshot_110.h5']\n"
     ]
    },
    {
     "name": "stderr",
     "output_type": "stream",
     "text": [
      "/opt/anaconda3/envs/pylids/lib/python3.10/site-packages/numpy/polynomial/polynomial.py:1362: RankWarning: The fit may be poorly conditioned\n",
      "  return pu._fit(polyvander, x, y, deg, rcond, full, w)\n"
     ]
    }
   ],
   "source": [
    "# Generate a temp output directory \n",
    "temp_dir_path: str = './temp_blnk_pipeline'\n",
    "if(not os.path.exists(temp_dir_path)):\n",
    "    os.mkdir(temp_dir_path)\n",
    "\n",
    "# Define the crop box and target size \n",
    "t, b, l, r = 140, 275, 190, 425\n",
    "crop_box: tuple = (t, b, l, r)\n",
    "target_size: tuple = (480, 640)\n",
    "\n",
    "# Iterate over the videos and output them to the target directory \n",
    "for video_num, video_path in enumerate(video_paths):\n",
    "    print(f\"Processing video: {video_num}/{len(video_paths)}\", flush=True)\n",
    "    BLNK_eye_extraction_pipeline.predict_eye_features(video_path, output_folder_path, crop_box, target_size, temp_dir_path)\n",
    "\n",
    "\n",
    "\n",
    "    "
   ]
  },
  {
   "cell_type": "code",
   "execution_count": null,
   "id": "c88c258e",
   "metadata": {},
   "outputs": [],
   "source": []
  }
 ],
 "metadata": {
  "kernelspec": {
   "display_name": "pylids",
   "language": "python",
   "name": "python3"
  },
  "language_info": {
   "codemirror_mode": {
    "name": "ipython",
    "version": 3
   },
   "file_extension": ".py",
   "mimetype": "text/x-python",
   "name": "python",
   "nbconvert_exporter": "python",
   "pygments_lexer": "ipython3",
   "version": "3.10.18"
  }
 },
 "nbformat": 4,
 "nbformat_minor": 5
}
