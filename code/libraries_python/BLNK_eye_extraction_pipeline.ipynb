{
 "cells": [
  {
   "cell_type": "code",
   "execution_count": 1,
   "id": "e49c8fee",
   "metadata": {},
   "outputs": [
    {
     "name": "stdout",
     "output_type": "stream",
     "text": [
      "Loading DLC 3.0.0rc8...\n",
      "DLC loaded in light mode; you cannot use any GUI (labeling, relabeling and standalone GUI)\n"
     ]
    }
   ],
   "source": [
    "# Import libraries \n",
    "import extract_eye_features\n",
    "import dill\n",
    "import scipy\n",
    "import os\n",
    "import numpy as np\n",
    "import sys \n",
    "\n",
    "sys.path.append(\"/Users/zacharykelly/Documents/MATLAB/projects/lightLogger/raspberry_pi_firmware/utility\")\n",
    "import Pi_util\n",
    "import matplotlib.pyplot as plt"
   ]
  },
  {
   "cell_type": "code",
   "execution_count": 2,
   "id": "965b2e88",
   "metadata": {},
   "outputs": [],
   "source": [
    "# Define the path to the folder containing the videos and other files \n",
    "path_to_video_folder: str = \"/Users/zacharykelly/Desktop/geoff_videos_blnk_folder/HERO_gka/videos\"\n",
    "\n",
    "# Generate paths to all of the videos in said folder \n",
    "video_paths: list[str] = [os.path.join(path_to_video_folder, filename)\n",
    "                          for filename in os.listdir(path_to_video_folder)\n",
    "                          if '.avi' in filename\n",
    "                         ]"
   ]
  },
  {
   "cell_type": "code",
   "execution_count": 3,
   "id": "fc8d50a5",
   "metadata": {},
   "outputs": [],
   "source": [
    "# Generate output folder \n",
    "output_folder_path: str = \"/Users/zacharykelly/Aguirre-Brainard Lab Dropbox/Zachary Kelly/BLNK_analysis/PuffLight/modulate/HERO_gka/videos\"\n",
    "if(not os.path.exists(output_folder_path)):\n",
    "    os.mkdir(output_folder_path)"
   ]
  },
  {
   "cell_type": "code",
   "execution_count": null,
   "id": "6fc18025",
   "metadata": {},
   "outputs": [],
   "source": [
    "# Write the prediction function\n",
    "def predict_eye_features(args: tuple) -> None:\n",
    "    # Extract the arguments from the arguments tuple \n",
    "    filepath, crop_box, target_size, temp_dir_path, output_folder_path = args\n",
    "    threshold_value: int = 225\n",
    "\n",
    "    # Define the portion of the video to crop out \n",
    "    t, b, l, r = crop_box\n",
    "\n",
    "    # Extract the name of this video\n",
    "    video_name: str = os.path.splitext(os.path.basename(filepath.rstrip('/')))[0]\n",
    "\n",
    "    # Find the FPS of the video \n",
    "    video_fps: float = Pi_util.inspect_video_FPS(filepath)\n",
    "\n",
    "    # Videos are small, so we can load them entirely in from memory \n",
    "    video_as_arr: np.ndarray = Pi_util.destruct_video(filepath, is_grayscale=True)\n",
    "\n",
    "    # Crop out only the eye from the video\n",
    "    # and set the rest of the frame to black \n",
    "    video_cropped: np.ndarray = video_as_arr[:, t:b, l:r].copy()\n",
    "    white_pixels: np.ndarray = np.mean(video_cropped, axis=(0,))  > threshold_value\n",
    "    video_cropped[:, white_pixels] = 0\n",
    "\n",
    "    # Resize the video to not a small resolution \n",
    "    y_offset = (target_size[0] - video_cropped.shape[1]) // 2\n",
    "    x_offset = (target_size[1] - video_cropped.shape[2]) // 2\n",
    "\n",
    "    video_resized: np.ndarray = np.zeros((len(video_cropped), *target_size), dtype=np.uint8)\n",
    "    video_resized[:, y_offset:y_offset + video_cropped.shape[1], x_offset:x_offset + video_cropped.shape[2]] = video_cropped\n",
    "\n",
    "    # Generate a temp video from this cropped video \n",
    "    temp_video_path: str = os.path.join(temp_dir_path, f\"temp_{video_name}.avi\")\n",
    "    Pi_util.frames_to_video(video_resized, temp_video_path, video_fps)\n",
    "\n",
    "    # Extract the eye features for this video\n",
    "    eye_features: list[dict] = extract_eye_features.extract_eye_features(temp_video_path, is_grayscale=True, visualize_results=True, pupil_feature_method='pylids', safe_execution=True)\n",
    "\n",
    "    # Save the features \n",
    "    eye_features_dict: dict = {}\n",
    "    eye_features_dict[\"eye_features\"] = eye_features\n",
    "    eye_features_dict[\"metadata\"] = {'threshold_value': {'v': threshold_value, \n",
    "                                                    'desc': \"binary mask constructed from avg cropped frame. Pixels above this value=0. Done to remove light around the eye\"\n",
    "                                                   },\n",
    "                                'crop_box': {'v': crop_box, \n",
    "                                             'desc': \"box cropped out from original video to isolate the eye (t, b, l, r)\"\n",
    "                                            },\n",
    "                                'target_size': {'v': target_size,\n",
    "                                                'desc': \"target size after crop + threshold. Eye video is centered via padding to reach this size\"},\n",
    "                                'model_names': {'v': ('pytorch-pupil-v1', 'pytorch-eyelid-v1'), \n",
    "                                                'desc': \"models used for pupil/eyelid fitting\"\n",
    "                                               }\n",
    "                               }\n",
    "    \n",
    "    \n",
    "    \n",
    "    scipy.io.savemat(os.path.join(output_folder_path, f\"{video_name}_eye_features.mat\"), \n",
    "                    {\"eye_features\": eye_features_dict}\n",
    "                    )\n",
    "    \n",
    "    # Remvove the temp avi video \n",
    "    os.remove(temp_video_path)\n"
   ]
  },
  {
   "cell_type": "code",
   "execution_count": null,
   "id": "6dad5de3",
   "metadata": {},
   "outputs": [],
   "source": [
    "# Generate a temp output directory \n",
    "temp_dir_path: str = './temp_blnk_pipeline'\n",
    "if(not os.path.exists(temp_dir_path)):\n",
    "    os.mkdir(temp_dir_path)\n",
    "\n",
    "# Define the crop box and target size \n",
    "t, b, l, r = 140, 275, 190, 425\n",
    "crop_box: tuple = (t, b, l, r)\n",
    "target_size: tuple = (480, 640)\n",
    "\n",
    "video_args = (\"/Users/zacharykelly/Desktop/lightLevel/HERO_gka_lightLevel_direction-LightFlux_sequence-1_contrast-0.60_trial-024_side-R.avi\", \n",
    "              crop_box, \n",
    "              target_size, \n",
    "              temp_dir_path, \n",
    "              \"./\")\n",
    "\n",
    "\n",
    "predict_eye_features(video_args)\n",
    "\n",
    "\n",
    "# Define the argument list that each function \n",
    "# will get \n",
    "#args_list: list[list] = [ (filepath, crop_box, target_size, temp_dir_path, output_folder_path)\n",
    "#                          for filepath in video_paths \n",
    "#                        ]\n",
    "\n",
    "# Process the videos \n",
    "#for video_num, video_args in enumerate(args_list):\n",
    "#    filepath: str = video_args[0]\n",
    "#    if(not any(f\"00{trial}\" in filepath for trial in range(9, 10))): continue#\n",
    "\n",
    "    #print(f\"Processing: {video_num}/{len(args_list)} | filepath: {filepath}\", flush=True)\n",
    "    #predict_eye_features(video_args)\n",
    "    "
   ]
  },
  {
   "cell_type": "code",
   "execution_count": null,
   "id": "c88c258e",
   "metadata": {},
   "outputs": [],
   "source": []
  }
 ],
 "metadata": {
  "kernelspec": {
   "display_name": "pylids",
   "language": "python",
   "name": "python3"
  },
  "language_info": {
   "codemirror_mode": {
    "name": "ipython",
    "version": 3
   },
   "file_extension": ".py",
   "mimetype": "text/x-python",
   "name": "python",
   "nbconvert_exporter": "python",
   "pygments_lexer": "ipython3",
   "version": "3.10.18"
  }
 },
 "nbformat": 4,
 "nbformat_minor": 5
}
