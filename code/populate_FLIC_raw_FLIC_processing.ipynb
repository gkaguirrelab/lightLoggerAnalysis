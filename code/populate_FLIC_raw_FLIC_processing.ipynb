{
 "cells": [
  {
   "cell_type": "code",
   "execution_count": null,
   "id": "5520f5e9",
   "metadata": {},
   "outputs": [],
   "source": [
    "import os\n",
    "import sys \n",
    "import importlib \n",
    "sys.path.append(\"/Users/zacharykelly/Documents/MATLAB/projects/lightLoggerAnalysis/code/libraries_python\")\n",
    "import move_to_NAS\n",
    "import tqdm"
   ]
  },
  {
   "cell_type": "code",
   "execution_count": null,
   "id": "ca020a2f",
   "metadata": {},
   "outputs": [],
   "source": [
    "experiment_name: str = \"scriptedIndoorOutdoor\"\n",
    "path_to_recording: str = \"/Volumes/T7 Shield/FLIC_2001_gazeCalibration_tf_session1\""
   ]
  },
  {
   "cell_type": "code",
   "execution_count": null,
   "id": "a5f7076a",
   "metadata": {},
   "outputs": [],
   "source": [
    "importlib.reload(move_to_NAS)\n",
    "move_to_NAS.move_to_NAS(experiment_name, path_to_recording)"
   ]
  },
  {
   "cell_type": "code",
   "execution_count": null,
   "id": "f3674be5",
   "metadata": {},
   "outputs": [],
   "source": [
    "# Assemble all of the recordings on the external hard drive \n",
    "ssd_path: str = \"/Volumes/T7 Shield\"\n",
    "experiment_name: str = \"scriptedIndoorOutdoor\"\n",
    "recording_paths: str = [os.path.join(ssd_path, folder_name)\n",
    "                        for folder_name in os.listdir(ssd_path)\n",
    "                        if \"FLIC_2003\" in folder_name\n",
    "                        and \"_sf\" in folder_name\n",
    "                        and any(activity in folder_name.lower() for activity in (\"chat\",))\n",
    "                       ]\n",
    "\n",
    "# grocery needs sf, walkbiopond needs sf\n",
    "# \n",
    "# # grocery and walk outdoor for 2004 needs sf  \n",
    "\n",
    "# Have to REDO sf, there are some missing now! \n",
    "\n",
    "print(recording_paths)"
   ]
  },
  {
   "cell_type": "code",
   "execution_count": null,
   "id": "5659d8a9",
   "metadata": {},
   "outputs": [],
   "source": [
    "importlib.reload(move_to_NAS)\n",
    "# Iterate over the paths and move them to the NAS \n",
    "for i in tqdm.tqdm(range(len(recording_paths))):\n",
    "    # Retrieve the recording paht \n",
    "    recording_path: str = recording_paths[i]\n",
    "\n",
    "    # Move it to the NAS \n",
    "    print(f\"Copying: {recording_path}\")\n",
    "    print(move_to_NAS.move_to_NAS(experiment_name, recording_path))"
   ]
  },
  {
   "cell_type": "code",
   "execution_count": 12,
   "id": "1ca8f1bc",
   "metadata": {},
   "outputs": [
    {
     "ename": "AssertionError",
     "evalue": "Problem with /Volumes/Aguirre-Brainard Lab NAS Shared/FLIC_raw/lightLogger/scriptedIndoorOutdoor/FLIC_2002/chat/temporalFrequency. Either does not exist or no content",
     "output_type": "error",
     "traceback": [
      "\u001b[0;31m---------------------------------------------------------------------------\u001b[0m",
      "\u001b[0;31mAssertionError\u001b[0m                            Traceback (most recent call last)",
      "Cell \u001b[0;32mIn[12], line 2\u001b[0m\n\u001b[1;32m      1\u001b[0m importlib\u001b[38;5;241m.\u001b[39mreload(move_to_NAS) \n\u001b[0;32m----> 2\u001b[0m \u001b[43mmove_to_NAS\u001b[49m\u001b[38;5;241;43m.\u001b[39;49m\u001b[43mverify_data\u001b[49m\u001b[43m(\u001b[49m\u001b[38;5;124;43m\"\u001b[39;49m\u001b[38;5;124;43m/Volumes/Aguirre-Brainard Lab NAS Shared/FLIC_raw/lightLogger/scriptedIndoorOutdoor/FLIC_2002\u001b[39;49m\u001b[38;5;124;43m\"\u001b[39;49m\u001b[43m)\u001b[49m\n",
      "File \u001b[0;32m~/Documents/MATLAB/projects/lightLoggerAnalysis/code/libraries_python/move_to_NAS.py:160\u001b[0m, in \u001b[0;36mverify_data\u001b[0;34m(path_to_participant_folder)\u001b[0m\n\u001b[1;32m    157\u001b[0m temporal_resolution_path: \u001b[38;5;28mstr\u001b[39m \u001b[38;5;241m=\u001b[39m os\u001b[38;5;241m.\u001b[39mpath\u001b[38;5;241m.\u001b[39mjoin(folder_path, \u001b[38;5;124m\"\u001b[39m\u001b[38;5;124mtemporalFrequency\u001b[39m\u001b[38;5;124m\"\u001b[39m)\n\u001b[1;32m    159\u001b[0m \u001b[38;5;66;03m# Assert that the recordings exist for all folders, except gazecal which only uses temporal\u001b[39;00m\n\u001b[0;32m--> 160\u001b[0m \u001b[38;5;28;01massert\u001b[39;00m os\u001b[38;5;241m.\u001b[39mpath\u001b[38;5;241m.\u001b[39mexists(temporal_resolution_path) \u001b[38;5;129;01mand\u001b[39;00m \u001b[38;5;28mlen\u001b[39m(os\u001b[38;5;241m.\u001b[39mlistdir(temporal_resolution_path)) \u001b[38;5;241m>\u001b[39m \u001b[38;5;241m0\u001b[39m, \u001b[38;5;124mf\u001b[39m\u001b[38;5;124m\"\u001b[39m\u001b[38;5;124mProblem with \u001b[39m\u001b[38;5;132;01m{\u001b[39;00mtemporal_resolution_path\u001b[38;5;132;01m}\u001b[39;00m\u001b[38;5;124m. Either does not exist or no content\u001b[39m\u001b[38;5;124m\"\u001b[39m\n\u001b[1;32m    161\u001b[0m \u001b[38;5;28;01mif\u001b[39;00m(folder \u001b[38;5;241m==\u001b[39m \u001b[38;5;124m\"\u001b[39m\u001b[38;5;124mgazeCalibration\u001b[39m\u001b[38;5;124m\"\u001b[39m):\n\u001b[1;32m    162\u001b[0m     \u001b[38;5;28;01mcontinue\u001b[39;00m\n",
      "\u001b[0;31mAssertionError\u001b[0m: Problem with /Volumes/Aguirre-Brainard Lab NAS Shared/FLIC_raw/lightLogger/scriptedIndoorOutdoor/FLIC_2002/chat/temporalFrequency. Either does not exist or no content"
     ]
    }
   ],
   "source": [
    "importlib.reload(move_to_NAS) \n",
    "move_to_NAS.verify_data(\"/Volumes/Aguirre-Brainard Lab NAS Shared/FLIC_raw/lightLogger/scriptedIndoorOutdoor/FLIC_2002\")"
   ]
  }
 ],
 "metadata": {
  "kernelspec": {
   "display_name": "pylids",
   "language": "python",
   "name": "python3"
  },
  "language_info": {
   "codemirror_mode": {
    "name": "ipython",
    "version": 3
   },
   "file_extension": ".py",
   "mimetype": "text/x-python",
   "name": "python",
   "nbconvert_exporter": "python",
   "pygments_lexer": "ipython3",
   "version": "3.10.18"
  }
 },
 "nbformat": 4,
 "nbformat_minor": 5
}
